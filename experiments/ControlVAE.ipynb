{
  "nbformat": 4,
  "nbformat_minor": 5,
  "metadata": {
    "kernelspec": {
      "display_name": "Python 3",
      "language": "python",
      "name": "python3"
    },
    "colab": {
      "name": "ControlVAE.ipynb",
      "provenance": []
    },
    "accelerator": "GPU"
  },
  "cells": [
    {
      "cell_type": "code",
      "metadata": {
        "id": "ZD6RwQ5W_OIi",
        "colab": {
          "base_uri": "https://localhost:8080/"
        },
        "outputId": "7f336605-7b5d-49f6-ca8d-2cbd1a0ff67b"
      },
      "source": [
        "from google.colab import drive\n",
        "drive.mount('/content/drive')"
      ],
      "id": "ZD6RwQ5W_OIi",
      "execution_count": 1,
      "outputs": [
        {
          "output_type": "stream",
          "text": [
            "Mounted at /content/drive\n"
          ],
          "name": "stdout"
        }
      ]
    },
    {
      "cell_type": "code",
      "metadata": {
        "id": "outer-crazy"
      },
      "source": [
        "import numpy as np\n",
        "import torch\n",
        "import os\n",
        "import sys\n",
        "import random\n",
        "import matplotlib.pyplot as plt\n",
        "\n",
        "from torch.utils.data import DataLoader\n",
        "\n",
        "module_path = os.path.abspath(os.path.join('..'))\n",
        "abs_path = \"/content/drive/MyDrive/atml\"\n",
        "sys.path.append(abs_path+\"/models\")\n",
        "sys.path.append(abs_path+\"/train\")\n",
        "sys.path.append(abs_path+\"/datasets\")"
      ],
      "id": "outer-crazy",
      "execution_count": 2,
      "outputs": []
    },
    {
      "cell_type": "code",
      "metadata": {
        "id": "pursuant-tablet",
        "colab": {
          "base_uri": "https://localhost:8080/"
        },
        "outputId": "21c766c1-f5c7-43f8-caa2-a9ae43055cad"
      },
      "source": [
        "if torch.cuda.is_available:\n",
        "    device = torch.device('cuda')\n",
        "else:\n",
        "    device = torch.device('cpu')\n",
        "device"
      ],
      "id": "pursuant-tablet",
      "execution_count": 3,
      "outputs": [
        {
          "output_type": "execute_result",
          "data": {
            "text/plain": [
              "device(type='cuda')"
            ]
          },
          "metadata": {
            "tags": []
          },
          "execution_count": 3
        }
      ]
    },
    {
      "cell_type": "code",
      "metadata": {
        "id": "tender-company"
      },
      "source": [
        "from datasets import train_test_random_split, load_dsprites\n",
        "from train import train_control_vae, test_control_vae\n",
        "from loss import loss_control_vae\n",
        "from control_vae import ControlVAEDSprites"
      ],
      "id": "tender-company",
      "execution_count": 4,
      "outputs": []
    },
    {
      "cell_type": "code",
      "metadata": {
        "id": "distant-cancellation"
      },
      "source": [
        "dataset = load_dsprites(abs_path + \"/datasets/dsprites.npz\")"
      ],
      "id": "distant-cancellation",
      "execution_count": 5,
      "outputs": []
    },
    {
      "cell_type": "code",
      "metadata": {
        "id": "beautiful-confusion"
      },
      "source": [
        "dataset = torch.from_numpy(dataset)"
      ],
      "id": "beautiful-confusion",
      "execution_count": 6,
      "outputs": []
    },
    {
      "cell_type": "code",
      "metadata": {
        "id": "independent-bracket"
      },
      "source": [
        "n_imgs = 50000\n",
        "#indices = torch.randperm(dataset.size(0))[:n_imgs]\n",
        "indices = torch.randperm(dataset.size(0))\n",
        "dataset = dataset[indices]"
      ],
      "id": "independent-bracket",
      "execution_count": 7,
      "outputs": []
    },
    {
      "cell_type": "code",
      "metadata": {
        "id": "digital-separation"
      },
      "source": [
        "data_train, data_test = train_test_random_split(dataset, 0.8)"
      ],
      "id": "digital-separation",
      "execution_count": 8,
      "outputs": []
    },
    {
      "cell_type": "code",
      "metadata": {
        "id": "native-superintendent"
      },
      "source": [
        "batch_size = 64\n",
        "train_loader = DataLoader(data_train, batch_size=batch_size, shuffle=True)\n",
        "test_loader = DataLoader(data_test, batch_size=batch_size, shuffle=True)"
      ],
      "id": "native-superintendent",
      "execution_count": 9,
      "outputs": []
    },
    {
      "cell_type": "code",
      "metadata": {
        "id": "empty-sensitivity"
      },
      "source": [
        "beta_controller_args = {\n",
        "    'C' : 0.5,\n",
        "    'C_max' : 12,\n",
        "    'C_step_val' : 0.15,\n",
        "    'C_step_period' : 5000,\n",
        "    'Kp' : 0.01,\n",
        "    'Ki' : -0.001,\n",
        "    'Kd' : 0.0\n",
        "}"
      ],
      "id": "empty-sensitivity",
      "execution_count": 10,
      "outputs": []
    },
    {
      "cell_type": "code",
      "metadata": {
        "id": "perceived-patch",
        "colab": {
          "base_uri": "https://localhost:8080/"
        },
        "outputId": "49660d2e-2244-4f49-bb1e-4e6dcafee8bc"
      },
      "source": [
        "model = ControlVAEDSprites(beta_controller_args)\n",
        "model.to(device)"
      ],
      "id": "perceived-patch",
      "execution_count": 11,
      "outputs": [
        {
          "output_type": "execute_result",
          "data": {
            "text/plain": [
              "ControlVAEDSprites(\n",
              "  (encoder): Sequential(\n",
              "    (0): Linear(in_features=4096, out_features=1200, bias=True)\n",
              "    (1): ReLU()\n",
              "    (2): Linear(in_features=1200, out_features=1200, bias=True)\n",
              "    (3): ReLU()\n",
              "    (4): Linear(in_features=1200, out_features=20, bias=True)\n",
              "  )\n",
              "  (decoder): Sequential(\n",
              "    (0): Linear(in_features=10, out_features=1200, bias=True)\n",
              "    (1): Tanh()\n",
              "    (2): Linear(in_features=1200, out_features=1200, bias=True)\n",
              "    (3): Tanh()\n",
              "    (4): Linear(in_features=1200, out_features=1200, bias=True)\n",
              "    (5): Tanh()\n",
              "    (6): Linear(in_features=1200, out_features=4096, bias=True)\n",
              "  )\n",
              ")"
            ]
          },
          "metadata": {
            "tags": []
          },
          "execution_count": 11
        }
      ]
    },
    {
      "cell_type": "code",
      "metadata": {
        "id": "lightweight-exercise"
      },
      "source": [
        "optimizer = torch.optim.Adagrad(model.parameters(), lr=1e-2)"
      ],
      "id": "lightweight-exercise",
      "execution_count": 12,
      "outputs": []
    },
    {
      "cell_type": "code",
      "metadata": {
        "id": "steady-latin",
        "colab": {
          "base_uri": "https://localhost:8080/",
          "height": 1000
        },
        "outputId": "52893be4-ab85-4f9d-d722-332690ef881b"
      },
      "source": [
        "train_control_vae(model, 50, train_loader, optimizer, 'bernoulli', device=device)"
      ],
      "id": "steady-latin",
      "execution_count": 13,
      "outputs": [
        {
          "output_type": "stream",
          "text": [
            "/usr/local/lib/python3.7/dist-packages/torch/nn/functional.py:1709: UserWarning: nn.functional.sigmoid is deprecated. Use torch.sigmoid instead.\n",
            "  warnings.warn(\"nn.functional.sigmoid is deprecated. Use torch.sigmoid instead.\")\n",
            "/usr/local/lib/python3.7/dist-packages/torch/nn/_reduction.py:42: UserWarning: size_average and reduce args will be deprecated, please use reduction='sum' instead.\n",
            "  warnings.warn(warning.format(ret))\n"
          ],
          "name": "stderr"
        },
        {
          "output_type": "stream",
          "text": [
            "Epoch 0 finished, loss: 51.039859284543326, recon loss: 42.075941978850295, kl div: 1.5052419038953404\n",
            "Epoch 1 finished, loss: 40.426936610705326, recon loss: 27.741004459145998, kl div: 1.1334541232790798\n",
            "Epoch 2 finished, loss: 40.03611525106761, recon loss: 25.775121537347633, kl div: 1.1310909549033061\n",
            "Epoch 3 finished, loss: 38.15478994117843, recon loss: 24.72605618668927, kl div: 1.1613084585793938\n",
            "Epoch 4 finished, loss: 33.99215462741753, recon loss: 23.359489323364365, kl div: 1.2518262639512412\n",
            "Epoch 5 finished, loss: 27.738934266070526, recon loss: 21.715898285516435, kl div: 1.4569182039057422\n",
            "Epoch 6 finished, loss: 22.423146550647086, recon loss: 20.401664518440764, kl div: 1.8120593864134409\n",
            "Epoch 7 finished, loss: 21.60484103879167, recon loss: 19.695920265797113, kl div: 1.908920792539397\n",
            "Epoch 8 finished, loss: 20.965379047311014, recon loss: 18.99220214597881, kl div: 1.973176920100943\n",
            "Epoch 9 finished, loss: 20.231886236721444, recon loss: 18.18957485186143, kl div: 2.0423114338579276\n",
            "Epoch 10 finished, loss: 19.429262242072987, recon loss: 17.335609536824954, kl div: 2.0936527508569673\n",
            "Epoch 11 finished, loss: 18.745437305524117, recon loss: 16.628623174089526, kl div: 2.1168141743918465\n",
            "Epoch 12 finished, loss: 18.21485104235924, recon loss: 16.082793557188577, kl div: 2.1320575412311076\n",
            "Epoch 13 finished, loss: 17.750148595724667, recon loss: 15.602959068905976, kl div: 2.1471895676675357\n",
            "Epoch 14 finished, loss: 17.33130558114499, recon loss: 15.170723059007692, kl div: 2.160582564305514\n",
            "Epoch 15 finished, loss: 16.95359925025453, recon loss: 14.77952677042534, kl div: 2.174072516616434\n",
            "Epoch 16 finished, loss: 16.61070126998756, recon loss: 14.424463379507264, kl div: 2.186237921627859\n",
            "Epoch 17 finished, loss: 16.29930299965458, recon loss: 14.102449011781978, kl div: 2.1968540084910475\n",
            "Epoch 18 finished, loss: 16.014299048628246, recon loss: 13.807664177380502, kl div: 2.206634876370016\n",
            "Epoch 19 finished, loss: 15.750261409932541, recon loss: 13.535362783405516, kl div: 2.214898625285261\n",
            "Epoch 20 finished, loss: 15.507789800254008, recon loss: 13.283480806069242, kl div: 2.2243089913649277\n",
            "Epoch 21 finished, loss: 15.280302477172679, recon loss: 13.048419973088635, kl div: 2.2318824869063167\n",
            "Epoch 22 finished, loss: 15.068595659298202, recon loss: 12.829076025738484, kl div: 2.2395196215042636\n",
            "Epoch 23 finished, loss: 14.869476034616431, recon loss: 12.62333915858633, kl div: 2.246136858516062\n",
            "Epoch 24 finished, loss: 14.68309535820865, recon loss: 12.430891947820783, kl div: 2.2522033900281206\n",
            "Epoch 25 finished, loss: 14.506733609984318, recon loss: 12.248725155058006, kl div: 2.2580084298064724\n",
            "Epoch 26 finished, loss: 14.342297720308933, recon loss: 12.078206127199033, kl div: 2.2640915633334466\n",
            "Epoch 27 finished, loss: 14.183171218985485, recon loss: 11.914223442785442, kl div: 2.2689477428535207\n",
            "Epoch 28 finished, loss: 14.035339448187086, recon loss: 11.76016273556484, kl div: 2.2751766819662103\n",
            "Epoch 29 finished, loss: 13.894216963296962, recon loss: 11.614225829847985, kl div: 2.27999110517299\n",
            "Epoch 30 finished, loss: 13.758403177993992, recon loss: 11.474499415192339, kl div: 2.2839037307745054\n",
            "Epoch 31 finished, loss: 13.631429551583198, recon loss: 11.342320409086016, kl div: 2.289109109616321\n",
            "Epoch 32 finished, loss: 13.508086647734874, recon loss: 11.214477126797041, kl div: 2.293609487772402\n",
            "Epoch 33 finished, loss: 13.38958441859318, recon loss: 11.092691829117635, kl div: 2.2968925582244992\n",
            "Epoch 34 finished, loss: 13.278452210749188, recon loss: 10.977327961681617, kl div: 2.3011242139618844\n",
            "Epoch 35 finished, loss: 13.17025836960723, recon loss: 10.865331961980296, kl div: 2.3049263768156782\n",
            "Epoch 36 finished, loss: 13.065760965252089, recon loss: 10.757366187560061, kl div: 2.3083947519254355\n",
            "Epoch 37 finished, loss: 12.96725014804138, recon loss: 10.655265903824734, kl div: 2.3119842104820743\n",
            "Epoch 38 finished, loss: 12.870879227916399, recon loss: 10.55566441381557, kl div: 2.315214787195954\n",
            "Epoch 39 finished, loss: 12.777706372137699, recon loss: 10.459410249772999, kl div: 2.318296090932563\n",
            "Epoch 40 finished, loss: 12.688912984501156, recon loss: 10.367491614280475, kl div: 2.321421342487964\n",
            "Epoch 41 finished, loss: 12.602656547290584, recon loss: 10.278473961115298, kl div: 2.324182560745006\n",
            "Epoch 42 finished, loss: 12.521203583934241, recon loss: 10.192276599610018, kl div: 2.3289269481319934\n",
            "Epoch 43 finished, loss: 12.440007507697576, recon loss: 10.10932507722949, kl div: 2.3306824036925615\n",
            "Epoch 44 finished, loss: 12.361458467423088, recon loss: 10.027975497042966, kl div: 2.3334829402414874\n",
            "Epoch 45 finished, loss: 12.284570396567384, recon loss: 9.949135279489887, kl div: 2.3354350875597447\n",
            "Epoch 46 finished, loss: 12.210776852547294, recon loss: 9.872908178096017, kl div: 2.3378686462011604\n",
            "Epoch 47 finished, loss: 12.1407855440759, recon loss: 9.799547070896047, kl div: 2.341238443325791\n",
            "Epoch 48 finished, loss: 12.071933740956915, recon loss: 9.728413999235878, kl div: 2.343519707236232\n",
            "Epoch 49 finished, loss: 12.005883620120585, recon loss: 9.659376105862773, kl div: 2.3465074827221946\n"
          ],
          "name": "stdout"
        },
        {
          "output_type": "error",
          "ename": "NameError",
          "evalue": "ignored",
          "traceback": [
            "\u001b[0;31m---------------------------------------------------------------------------\u001b[0m",
            "\u001b[0;31mNameError\u001b[0m                                 Traceback (most recent call last)",
            "\u001b[0;32m<ipython-input-13-3aaf9a7dd282>\u001b[0m in \u001b[0;36m<module>\u001b[0;34m()\u001b[0m\n\u001b[0;32m----> 1\u001b[0;31m \u001b[0mtrain_control_vae\u001b[0m\u001b[0;34m(\u001b[0m\u001b[0mmodel\u001b[0m\u001b[0;34m,\u001b[0m \u001b[0;36m50\u001b[0m\u001b[0;34m,\u001b[0m \u001b[0mtrain_loader\u001b[0m\u001b[0;34m,\u001b[0m \u001b[0moptimizer\u001b[0m\u001b[0;34m,\u001b[0m \u001b[0;34m'bernoulli'\u001b[0m\u001b[0;34m,\u001b[0m \u001b[0mdevice\u001b[0m\u001b[0;34m=\u001b[0m\u001b[0mdevice\u001b[0m\u001b[0;34m)\u001b[0m\u001b[0;34m\u001b[0m\u001b[0;34m\u001b[0m\u001b[0m\n\u001b[0m",
            "\u001b[0;32m/content/drive/MyDrive/atml/train/train.py\u001b[0m in \u001b[0;36mtrain_control_vae\u001b[0;34m(model, epochs, train_loader, optimizer, distribution, device)\u001b[0m\n\u001b[1;32m     88\u001b[0m         \u001b[0mkl_divs_list\u001b[0m\u001b[0;34m.\u001b[0m\u001b[0mappend\u001b[0m\u001b[0;34m(\u001b[0m\u001b[0mkl_divs\u001b[0m\u001b[0;34m)\u001b[0m\u001b[0;34m\u001b[0m\u001b[0;34m\u001b[0m\u001b[0m\n\u001b[1;32m     89\u001b[0m         \u001b[0mprint\u001b[0m\u001b[0;34m(\u001b[0m\u001b[0;34m\"Epoch \"\u001b[0m \u001b[0;34m+\u001b[0m \u001b[0mstr\u001b[0m\u001b[0;34m(\u001b[0m\u001b[0mepoch\u001b[0m\u001b[0;34m)\u001b[0m \u001b[0;34m+\u001b[0m \u001b[0;34m\" finished, loss: \"\u001b[0m \u001b[0;34m+\u001b[0m \u001b[0mstr\u001b[0m\u001b[0;34m(\u001b[0m\u001b[0mepoch_loss\u001b[0m\u001b[0;34m)\u001b[0m \u001b[0;34m+\u001b[0m \u001b[0;34m\", recon loss: \"\u001b[0m \u001b[0;34m+\u001b[0m \u001b[0mstr\u001b[0m\u001b[0;34m(\u001b[0m\u001b[0mrecon_loss\u001b[0m\u001b[0;34m)\u001b[0m \u001b[0;34m+\u001b[0m \u001b[0;34m\", kl div: \"\u001b[0m \u001b[0;34m+\u001b[0m \u001b[0mstr\u001b[0m\u001b[0;34m(\u001b[0m\u001b[0mkl_divs\u001b[0m\u001b[0;34m)\u001b[0m\u001b[0;34m)\u001b[0m\u001b[0;34m\u001b[0m\u001b[0;34m\u001b[0m\u001b[0m\n\u001b[0;32m---> 90\u001b[0;31m     \u001b[0;32mreturn\u001b[0m \u001b[0mtrain_loss\u001b[0m\u001b[0;34m,\u001b[0m \u001b[0mrecon_losses_list\u001b[0m\u001b[0;34m,\u001b[0m \u001b[0mkl_div_list\u001b[0m\u001b[0;34m\u001b[0m\u001b[0;34m\u001b[0m\u001b[0m\n\u001b[0m\u001b[1;32m     91\u001b[0m \u001b[0;34m\u001b[0m\u001b[0m\n\u001b[1;32m     92\u001b[0m \u001b[0;34m\u001b[0m\u001b[0m\n",
            "\u001b[0;31mNameError\u001b[0m: name 'kl_div_list' is not defined"
          ]
        }
      ]
    },
    {
      "cell_type": "code",
      "metadata": {
        "id": "seasonal-muscle"
      },
      "source": [
        "test_control_vae(model, test_loader, 'bernoulli', device = device)"
      ],
      "id": "seasonal-muscle",
      "execution_count": null,
      "outputs": []
    },
    {
      "cell_type": "code",
      "metadata": {
        "id": "affected-arnold"
      },
      "source": [
        "torch.save(model, '/content/drive/MyDrive/atml/controlvae_epoch500_lr1e2_Cmax12.dat')"
      ],
      "id": "affected-arnold",
      "execution_count": 14,
      "outputs": []
    },
    {
      "cell_type": "code",
      "metadata": {
        "colab": {
          "base_uri": "https://localhost:8080/",
          "height": 519
        },
        "id": "f0sm5QiHyb3C",
        "outputId": "2eb39fe6-7f2c-4815-e407-500e711d2cde"
      },
      "source": [
        "model = torch.load('/content/drive/MyDrive/atml/controlvae_epoch500_lr1e2_Cmax12.dat')\n",
        "index = 100\n",
        "original = dataset[index].float().to(device)\n",
        "recon, mu, logvar = model(original)\n",
        "plt.imshow(original.cpu(), cmap='Greys_r')\n",
        "plt.show()\n",
        "plt.imshow(torch.sigmoid(recon.cpu().detach()).view(64,64), cmap='Greys_r')\n",
        "plt.show()"
      ],
      "id": "f0sm5QiHyb3C",
      "execution_count": 15,
      "outputs": [
        {
          "output_type": "display_data",
          "data": {
            "image/png": "[encoded data removed]",
            "text/plain": [
              "<Figure size 432x288 with 1 Axes>"
            ]
          },
          "metadata": {
            "tags": [],
            "needs_background": "light"
          }
        },
        {
          "output_type": "display_data",
          "data": {
            "image/png": "[encoded data removed]",
            "text/plain": [
              "<Figure size 432x288 with 1 Axes>"
            ]
          },
          "metadata": {
            "tags": [],
            "needs_background": "light"
          }
        }
      ]
    },
    {
      "cell_type": "code",
      "metadata": {
        "id": "-v4lx-CBCw_C",
        "outputId": "3da3833c-12d2-4f9f-baa0-f55a46d0df35",
        "colab": {
          "base_uri": "https://localhost:8080/",
          "height": 519
        }
      },
      "source": [
        "index = 198964\n",
        "original = dataset[index].float().to(device)\n",
        "recon, mu, logvar = model(original)\n",
        "plt.imshow(original.cpu(), cmap='Greys_r')\n",
        "plt.show()\n",
        "plt.imshow(torch.sigmoid(recon.cpu().detach()).view(64,64), cmap='Greys_r')\n",
        "plt.show()"
      ],
      "id": "-v4lx-CBCw_C",
      "execution_count": 18,
      "outputs": [
        {
          "output_type": "display_data",
          "data": {
            "image/png": "[encoded data removed]",
            "text/plain": [
              "<Figure size 432x288 with 1 Axes>"
            ]
          },
          "metadata": {
            "tags": [],
            "needs_background": "light"
          }
        },
        {
          "output_type": "display_data",
          "data": {
            "image/png": "[encoded data removed]",
            "text/plain": [
              "<Figure size 432x288 with 1 Axes>"
            ]
          },
          "metadata": {
            "tags": [],
            "needs_background": "light"
          }
        }
      ]
    },
    {
      "cell_type": "code",
      "metadata": {
        "id": "SZNJzXYVt5D7"
      },
      "source": [
        ""
      ],
      "id": "SZNJzXYVt5D7",
      "execution_count": null,
      "outputs": []
    }
  ]
}