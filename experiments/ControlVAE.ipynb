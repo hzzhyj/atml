{
  "nbformat": 4,
  "nbformat_minor": 5,
  "metadata": {
    "kernelspec": {
      "display_name": "Python 3",
      "language": "python",
      "name": "python3"
    },
    "colab": {
      "name": "ControlVAE.ipynb",
      "provenance": []
    },
    "accelerator": "GPU"
  },
  "cells": [
    {
      "cell_type": "code",
      "metadata": {
        "id": "ZD6RwQ5W_OIi",
        "colab": {
          "base_uri": "https://localhost:8080/"
        },
        "outputId": "9c1ce81b-829d-47b3-c742-b46eb4d1e9bc"
      },
      "source": [
        "from google.colab import drive\n",
        "drive.mount('/content/drive')"
      ],
      "id": "ZD6RwQ5W_OIi",
      "execution_count": 32,
      "outputs": [
        {
          "output_type": "stream",
          "text": [
            "Drive already mounted at /content/drive; to attempt to forcibly remount, call drive.mount(\"/content/drive\", force_remount=True).\n"
          ],
          "name": "stdout"
        }
      ]
    },
    {
      "cell_type": "code",
      "metadata": {
        "id": "outer-crazy"
      },
      "source": [
        "import numpy as np\n",
        "import torch\n",
        "import os\n",
        "import sys\n",
        "import random\n",
        "import matplotlib.pyplot as plt\n",
        "\n",
        "from torch.utils.data import DataLoader\n",
        "\n",
        "module_path = os.path.abspath(os.path.join('..'))\n",
        "abs_path = \"/content/drive/MyDrive/atml\"\n",
        "sys.path.append(abs_path+\"/models\")\n",
        "sys.path.append(abs_path+\"/train\")\n",
        "sys.path.append(abs_path+\"/datasets\")"
      ],
      "id": "outer-crazy",
      "execution_count": 33,
      "outputs": []
    },
    {
      "cell_type": "code",
      "metadata": {
        "id": "pursuant-tablet",
        "colab": {
          "base_uri": "https://localhost:8080/"
        },
        "outputId": "06163559-cc3e-474d-8f50-a9c8b672a8b4"
      },
      "source": [
        "if torch.cuda.is_available:\n",
        "    device = torch.device('cuda')\n",
        "else:\n",
        "    device = torch.device('cpu')\n",
        "device"
      ],
      "id": "pursuant-tablet",
      "execution_count": 34,
      "outputs": [
        {
          "output_type": "execute_result",
          "data": {
            "text/plain": [
              "device(type='cuda')"
            ]
          },
          "metadata": {
            "tags": []
          },
          "execution_count": 34
        }
      ]
    },
    {
      "cell_type": "code",
      "metadata": {
        "id": "tender-company"
      },
      "source": [
        "from datasets import train_test_random_split, load_dsprites\n",
        "from train import train_control_vae, test_control_vae\n",
        "from loss import loss_control_vae\n",
        "from control_vae import ControlVAEDSprites"
      ],
      "id": "tender-company",
      "execution_count": 35,
      "outputs": []
    },
    {
      "cell_type": "code",
      "metadata": {
        "id": "distant-cancellation"
      },
      "source": [
        "dataset = load_dsprites(abs_path + \"/datasets/dsprites.npz\")"
      ],
      "id": "distant-cancellation",
      "execution_count": 36,
      "outputs": []
    },
    {
      "cell_type": "code",
      "metadata": {
        "id": "beautiful-confusion"
      },
      "source": [
        "dataset = torch.from_numpy(dataset)"
      ],
      "id": "beautiful-confusion",
      "execution_count": 37,
      "outputs": []
    },
    {
      "cell_type": "code",
      "metadata": {
        "id": "independent-bracket"
      },
      "source": [
        "n_imgs = 50000\n",
        "#indices = torch.randperm(dataset.size(0))[:n_imgs]\n",
        "indices = torch.randperm(dataset.size(0))\n",
        "dataset = dataset[indices]"
      ],
      "id": "independent-bracket",
      "execution_count": 38,
      "outputs": []
    },
    {
      "cell_type": "code",
      "metadata": {
        "id": "digital-separation"
      },
      "source": [
        "data_train, data_test = train_test_random_split(dataset, 0.8)"
      ],
      "id": "digital-separation",
      "execution_count": 39,
      "outputs": []
    },
    {
      "cell_type": "code",
      "metadata": {
        "id": "native-superintendent"
      },
      "source": [
        "batch_size = 64\n",
        "train_loader = DataLoader(data_train, batch_size=batch_size, shuffle=True)\n",
        "test_loader = DataLoader(data_test, batch_size=batch_size, shuffle=True)"
      ],
      "id": "native-superintendent",
      "execution_count": 40,
      "outputs": []
    },
    {
      "cell_type": "code",
      "metadata": {
        "id": "empty-sensitivity"
      },
      "source": [
        "beta_controller_args = {\n",
        "    'C' : 0.5,\n",
        "    'C_max' : 25,\n",
        "    'C_step_val' : 0.15,\n",
        "    'C_step_period' : 5000,\n",
        "    'Kp' : 0.01,\n",
        "    'Ki' : -0.001,\n",
        "    'Kd' : 0.0\n",
        "}"
      ],
      "id": "empty-sensitivity",
      "execution_count": 41,
      "outputs": []
    },
    {
      "cell_type": "code",
      "metadata": {
        "id": "perceived-patch",
        "outputId": "6ab29526-c8b8-47df-9977-98d1e8cbfc23",
        "colab": {
          "base_uri": "https://localhost:8080/"
        }
      },
      "source": [
        "model = ControlVAEDSprites(beta_controller_args)\n",
        "model.to(device)"
      ],
      "id": "perceived-patch",
      "execution_count": 45,
      "outputs": [
        {
          "output_type": "execute_result",
          "data": {
            "text/plain": [
              "ControlVAEDSprites(\n",
              "  (encoder): Sequential(\n",
              "    (0): Linear(in_features=4096, out_features=1200, bias=True)\n",
              "    (1): ReLU()\n",
              "    (2): Linear(in_features=1200, out_features=1200, bias=True)\n",
              "    (3): ReLU()\n",
              "    (4): Linear(in_features=1200, out_features=20, bias=True)\n",
              "  )\n",
              "  (decoder): Sequential(\n",
              "    (0): Linear(in_features=10, out_features=1200, bias=True)\n",
              "    (1): Tanh()\n",
              "    (2): Linear(in_features=1200, out_features=1200, bias=True)\n",
              "    (3): Tanh()\n",
              "    (4): Linear(in_features=1200, out_features=1200, bias=True)\n",
              "    (5): Tanh()\n",
              "    (6): Linear(in_features=1200, out_features=4096, bias=True)\n",
              "  )\n",
              ")"
            ]
          },
          "metadata": {
            "tags": []
          },
          "execution_count": 45
        }
      ]
    },
    {
      "cell_type": "code",
      "metadata": {
        "id": "lightweight-exercise"
      },
      "source": [
        "optimizer = torch.optim.Adagrad(model.parameters(), lr=1e-4)"
      ],
      "id": "lightweight-exercise",
      "execution_count": 46,
      "outputs": []
    },
    {
      "cell_type": "code",
      "metadata": {
        "id": "steady-latin",
        "outputId": "88f37152-20a6-4fc3-a9f8-3bd61c3db7fa",
        "colab": {
          "base_uri": "https://localhost:8080/",
          "height": 1000
        }
      },
      "source": [
        "train_control_vae(model, 100, train_loader, optimizer, 'bernoulli', device=device)"
      ],
      "id": "steady-latin",
      "execution_count": 47,
      "outputs": [
        {
          "output_type": "stream",
          "text": [
            "/usr/local/lib/python3.7/dist-packages/torch/nn/functional.py:1709: UserWarning: nn.functional.sigmoid is deprecated. Use torch.sigmoid instead.\n",
            "  warnings.warn(\"nn.functional.sigmoid is deprecated. Use torch.sigmoid instead.\")\n",
            "/usr/local/lib/python3.7/dist-packages/torch/nn/_reduction.py:42: UserWarning: size_average and reduce args will be deprecated, please use reduction='sum' instead.\n",
            "  warnings.warn(warning.format(ret))\n"
          ],
          "name": "stderr"
        },
        {
          "output_type": "stream",
          "text": [
            "Epoch 0 finished, loss: 160.26071770240864, recon loss: 158.47923537674876, kl div: 0.6756927531578185\n",
            "Epoch 1 finished, loss: 154.68256140251955, recon loss: 154.33240931563907, kl div: 0.21567766126342272\n",
            "Epoch 2 finished, loss: 153.74972114049726, recon loss: 153.6173102069232, kl div: 0.1324109125521823\n",
            "Epoch 3 finished, loss: 150.65182263818053, recon loss: 150.2862218560444, kl div: 0.365600745371517\n",
            "Epoch 4 finished, loss: 145.16060551835432, recon loss: 144.6369401117166, kl div: 0.5204805967029339\n",
            "Epoch 5 finished, loss: 138.92171644998922, recon loss: 137.41681353747845, kl div: 0.7155277479420571\n",
            "Epoch 6 finished, loss: 124.4580458195673, recon loss: 121.34457385622792, kl div: 0.7376374820564201\n",
            "Epoch 7 finished, loss: 114.08894593351417, recon loss: 110.1759425625205, kl div: 0.6492137457114748\n",
            "Epoch 8 finished, loss: 105.9625987617506, recon loss: 101.81683355073135, kl div: 0.5857818005121468\n",
            "Epoch 9 finished, loss: 99.0280182345046, recon loss: 94.37335199945502, kl div: 0.592275787471509\n",
            "Epoch 10 finished, loss: 92.06896821740601, recon loss: 86.11051847454574, kl div: 0.6627833037507824\n",
            "Epoch 11 finished, loss: 84.40016649083958, recon loss: 76.6196479577985, kl div: 0.7198290643670285\n",
            "Epoch 12 finished, loss: 78.16495728492737, recon loss: 68.7635005944305, kl div: 0.7294252438910512\n",
            "Epoch 13 finished, loss: 74.05751029691763, recon loss: 63.28192679625418, kl div: 0.7199804380911196\n",
            "Epoch 14 finished, loss: 71.73284312875734, recon loss: 59.725286446925665, kl div: 0.7088075507522767\n",
            "Epoch 15 finished, loss: 70.52857522418101, recon loss: 57.351256404072046, kl div: 0.7000628577208974\n",
            "Epoch 16 finished, loss: 69.87027277300756, recon loss: 55.60857378567258, kl div: 0.6913857918633666\n",
            "Epoch 17 finished, loss: 69.5056010555062, recon loss: 54.26666050901016, kl div: 0.6818614082359191\n",
            "Epoch 18 finished, loss: 69.27020908105705, recon loss: 53.185353392114244, kl div: 0.6708975782320421\n",
            "Epoch 19 finished, loss: 69.044078413811, recon loss: 52.27505633193586, kl div: 0.6578304054241421\n",
            "Epoch 20 finished, loss: 68.77572334433596, recon loss: 51.473825462162495, kl div: 0.6436491819396097\n",
            "Epoch 21 finished, loss: 68.52999162301421, recon loss: 50.765176501952936, kl div: 0.63116505356609\n",
            "Epoch 22 finished, loss: 68.31526004688607, recon loss: 50.123110779871546, kl div: 0.6207767566471981\n",
            "Epoch 23 finished, loss: 68.17349513289001, recon loss: 49.54480856905381, kl div: 0.6131549463089969\n",
            "Epoch 24 finished, loss: 68.13048346050911, recon loss: 49.03891892110308, kl div: 0.6080168483183823\n",
            "Epoch 25 finished, loss: 68.1592974960804, recon loss: 48.60328523193797, kl div: 0.6040128898263598\n",
            "Epoch 26 finished, loss: 68.24445789265964, recon loss: 48.2401922042999, kl div: 0.6004148437512211\n",
            "Epoch 27 finished, loss: 68.37803306885891, recon loss: 47.92344206944108, kl div: 0.5975726178213436\n",
            "Epoch 28 finished, loss: 68.54325451370742, recon loss: 47.65533562791016, kl div: 0.5948119038884114\n",
            "Epoch 29 finished, loss: 68.735372994509, recon loss: 47.42828958771295, kl div: 0.5922340962570161\n",
            "Epoch 30 finished, loss: 68.94494126819902, recon loss: 47.21342422109511, kl div: 0.5902243471225828\n",
            "Epoch 31 finished, loss: 69.15362308960822, recon loss: 47.03949941032462, kl div: 0.5875425350515999\n",
            "Epoch 32 finished, loss: 69.39652043498225, recon loss: 46.88497983415922, kl div: 0.5856927128754452\n",
            "Epoch 33 finished, loss: 69.61627869183819, recon loss: 46.73845762511095, kl div: 0.5833868197902726\n",
            "Epoch 34 finished, loss: 69.85129485486283, recon loss: 46.613828463686836, kl div: 0.5813062128209923\n",
            "Epoch 35 finished, loss: 70.08635010280543, recon loss: 46.5055404988428, kl div: 0.5791932576167811\n",
            "Epoch 36 finished, loss: 70.33236878903375, recon loss: 46.4181391046279, kl div: 0.5771639232342649\n",
            "Epoch 37 finished, loss: 70.57360891045795, recon loss: 46.33217399443189, kl div: 0.575308752420824\n",
            "Epoch 38 finished, loss: 70.823541338659, recon loss: 46.25958867991964, kl div: 0.5736262704659667\n",
            "Epoch 39 finished, loss: 71.06814126794536, recon loss: 46.19810647807188, kl div: 0.57181891499527\n",
            "Epoch 40 finished, loss: 71.30484416004684, recon loss: 46.13760826943649, kl div: 0.5700715396152292\n",
            "Epoch 41 finished, loss: 71.54167906939983, recon loss: 46.09464293718338, kl div: 0.5682214218993775\n",
            "Epoch 42 finished, loss: 71.80344143841002, recon loss: 46.04781418417891, kl div: 0.5672028042867573\n",
            "Epoch 43 finished, loss: 72.03443320178323, recon loss: 46.01162860087223, kl div: 0.5654670069860812\n",
            "Epoch 44 finished, loss: 72.25999593983094, recon loss: 45.98248764582806, kl div: 0.5637171409843076\n",
            "Epoch 45 finished, loss: 72.49661967323885, recon loss: 45.96111254228486, kl div: 0.5622565899458196\n",
            "Epoch 46 finished, loss: 72.7144596171048, recon loss: 45.92308723967936, kl div: 0.5609231809503399\n",
            "Epoch 47 finished, loss: 72.93653795785374, recon loss: 45.906482162574925, kl div: 0.559417639063516\n",
            "Epoch 48 finished, loss: 73.16204673548539, recon loss: 45.88517553897368, kl div: 0.5582759498696154\n",
            "Epoch 49 finished, loss: 73.36401540206538, recon loss: 45.868395329763494, kl div: 0.5567062922766328\n",
            "Epoch 50 finished, loss: 73.57709370967414, recon loss: 45.85085467331939, kl div: 0.5555590826811062\n",
            "Epoch 51 finished, loss: 73.80475675149097, recon loss: 45.842599633667206, kl div: 0.5546504712094449\n",
            "Epoch 52 finished, loss: 73.99318746063445, recon loss: 45.829031747662356, kl div: 0.5531997778840984\n",
            "Epoch 53 finished, loss: 74.2022572921382, recon loss: 45.819578624847864, kl div: 0.5522296597288611\n",
            "Epoch 54 finished, loss: 74.39581920040979, recon loss: 45.80715869201554, kl div: 0.5511274242437341\n",
            "Epoch 55 finished, loss: 74.5763324904773, recon loss: 45.795665450394154, kl div: 0.5498895119203048\n",
            "Epoch 56 finished, loss: 74.75806734297011, recon loss: 45.78964466270473, kl div: 0.5487149010490006\n",
            "Epoch 57 finished, loss: 74.95628264215257, recon loss: 45.794734455645084, kl div: 0.5477659614342782\n",
            "Epoch 58 finished, loss: 75.12755202584796, recon loss: 45.79036585034596, kl div: 0.5465892133716908\n",
            "Epoch 59 finished, loss: 75.3276284693016, recon loss: 45.79193208532201, kl div: 0.5459594374276802\n",
            "Epoch 60 finished, loss: 75.4792710683412, recon loss: 45.78207048608197, kl div: 0.5447311799507588\n",
            "Epoch 61 finished, loss: 75.64934425138765, recon loss: 45.79710992094543, kl div: 0.5435295031574141\n",
            "Epoch 62 finished, loss: 75.81116151395771, recon loss: 45.78969447480308, kl div: 0.5426781516871415\n",
            "Epoch 63 finished, loss: 76.01015650149849, recon loss: 45.80298890007867, kl div: 0.5422064518594804\n",
            "Epoch 64 finished, loss: 76.15894278635581, recon loss: 45.812730918327965, kl div: 0.5409772888847834\n",
            "Epoch 65 finished, loss: 76.30535884615448, recon loss: 45.81478218196167, kl div: 0.5399615306394279\n",
            "Epoch 66 finished, loss: 76.47649681899283, recon loss: 45.81913287565112, kl div: 0.5394231837449802\n",
            "Epoch 67 finished, loss: 76.6345403459337, recon loss: 45.833219507916105, kl div: 0.5385588632004025\n",
            "Epoch 68 finished, loss: 76.79122839702501, recon loss: 45.8386945327123, kl div: 0.5378847569356568\n",
            "Epoch 69 finished, loss: 76.9288759926955, recon loss: 45.83880599339803, kl div: 0.5370431400887254\n",
            "Epoch 70 finished, loss: 77.07891100976202, recon loss: 45.86451866891649, kl div: 0.5360813826167335\n",
            "Epoch 71 finished, loss: 77.22928464164336, recon loss: 45.86528484937217, kl div: 0.5356110029323544\n",
            "Epoch 72 finished, loss: 77.37450009004937, recon loss: 45.86715353114737, kl div: 0.5350781412756381\n",
            "Epoch 73 finished, loss: 77.50163476086325, recon loss: 45.87988143786788, kl div: 0.5341307016076624\n",
            "Epoch 74 finished, loss: 77.63038450976212, recon loss: 45.88743031314678, kl div: 0.5333661235054024\n",
            "Epoch 75 finished, loss: 77.74273213826947, recon loss: 45.892888931350576, kl div: 0.532456617808849\n",
            "Epoch 76 finished, loss: 77.89942228380177, recon loss: 45.905136240025364, kl div: 0.5322151904304823\n",
            "Epoch 77 finished, loss: 78.00973854627874, recon loss: 45.913797068927025, kl div: 0.531318528648828\n",
            "Epoch 78 finished, loss: 78.14109878655937, recon loss: 45.92189608390132, kl div: 0.5308443782527724\n",
            "Epoch 79 finished, loss: 78.28745636095603, recon loss: 45.9421030142241, kl div: 0.5304593210134448\n",
            "Epoch 80 finished, loss: 78.40541288256645, recon loss: 45.94361398658819, kl div: 0.5299479195705822\n",
            "Epoch 81 finished, loss: 78.49648843705654, recon loss: 45.95004121048583, kl div: 0.528977856253429\n",
            "Epoch 82 finished, loss: 78.62478630575869, recon loss: 45.96072567337089, kl div: 0.5286208621045161\n",
            "Epoch 83 finished, loss: 78.74583727783627, recon loss: 45.974317045261465, kl div: 0.5281242849143584\n",
            "Epoch 84 finished, loss: 78.83397614459197, recon loss: 45.97499863720603, kl div: 0.5273555526024817\n",
            "Epoch 85 finished, loss: 78.9726594429877, recon loss: 45.99569786795311, kl div: 0.5271298336996956\n",
            "Epoch 86 finished, loss: 79.08238663607173, recon loss: 46.0044170945055, kl div: 0.5266528207705252\n",
            "Epoch 87 finished, loss: 79.16355977786912, recon loss: 46.00114033412602, kl div: 0.5259614969771873\n",
            "Epoch 88 finished, loss: 79.2867111613353, recon loss: 46.0345301984085, kl div: 0.5254226713311962\n",
            "Epoch 89 finished, loss: 79.37217841545741, recon loss: 46.02262821586596, kl div: 0.5250263728149649\n",
            "Epoch 90 finished, loss: 79.48149895833598, recon loss: 46.037738398545315, kl div: 0.5246162635157816\n",
            "Epoch 91 finished, loss: 79.57563423448138, recon loss: 46.0593804464572, kl div: 0.5239242135463024\n",
            "Epoch 92 finished, loss: 79.68421108192868, recon loss: 46.055184257941114, kl div: 0.5238808449842812\n",
            "Epoch 93 finished, loss: 79.7882731391324, recon loss: 46.079509692059624, kl div: 0.5233491535990551\n",
            "Epoch 94 finished, loss: 79.87953540682793, recon loss: 46.08496183736457, kl div: 0.5229508574088363\n",
            "Epoch 95 finished, loss: 79.95699487295416, recon loss: 46.09654558988081, kl div: 0.522286786374429\n",
            "Epoch 96 finished, loss: 80.05112297253476, recon loss: 46.11102330353525, kl div: 0.5218742572210936\n",
            "Epoch 97 finished, loss: 80.12673554238346, recon loss: 46.10781850872768, kl div: 0.5214816019288264\n",
            "Epoch 98 finished, loss: 80.22066862467263, recon loss: 46.120985213253235, kl div: 0.5211526407446299\n",
            "Epoch 99 finished, loss: 80.29267307784822, recon loss: 46.13683009437389, kl div: 0.5204879969662417\n"
          ],
          "name": "stdout"
        },
        {
          "output_type": "error",
          "ename": "NameError",
          "evalue": "ignored",
          "traceback": [
            "\u001b[0;31m---------------------------------------------------------------------------\u001b[0m",
            "\u001b[0;31mNameError\u001b[0m                                 Traceback (most recent call last)",
            "\u001b[0;32m<ipython-input-47-3295f31825c9>\u001b[0m in \u001b[0;36m<module>\u001b[0;34m()\u001b[0m\n\u001b[0;32m----> 1\u001b[0;31m \u001b[0mtrain_control_vae\u001b[0m\u001b[0;34m(\u001b[0m\u001b[0mmodel\u001b[0m\u001b[0;34m,\u001b[0m \u001b[0;36m100\u001b[0m\u001b[0;34m,\u001b[0m \u001b[0mtrain_loader\u001b[0m\u001b[0;34m,\u001b[0m \u001b[0moptimizer\u001b[0m\u001b[0;34m,\u001b[0m \u001b[0;34m'bernoulli'\u001b[0m\u001b[0;34m,\u001b[0m \u001b[0mdevice\u001b[0m\u001b[0;34m=\u001b[0m\u001b[0mdevice\u001b[0m\u001b[0;34m)\u001b[0m\u001b[0;34m\u001b[0m\u001b[0;34m\u001b[0m\u001b[0m\n\u001b[0m",
            "\u001b[0;32m/content/drive/MyDrive/atml/train/train.py\u001b[0m in \u001b[0;36mtrain_control_vae\u001b[0;34m(model, epochs, train_loader, optimizer, distribution, device)\u001b[0m\n\u001b[1;32m     87\u001b[0m         \u001b[0mrecon_losses_list\u001b[0m\u001b[0;34m.\u001b[0m\u001b[0mappend\u001b[0m\u001b[0;34m(\u001b[0m\u001b[0mrecon_loss\u001b[0m\u001b[0;34m)\u001b[0m\u001b[0;34m\u001b[0m\u001b[0;34m\u001b[0m\u001b[0m\n\u001b[1;32m     88\u001b[0m         \u001b[0mkl_divs_list\u001b[0m\u001b[0;34m.\u001b[0m\u001b[0mappend\u001b[0m\u001b[0;34m(\u001b[0m\u001b[0mkl_divs\u001b[0m\u001b[0;34m)\u001b[0m\u001b[0;34m\u001b[0m\u001b[0;34m\u001b[0m\u001b[0m\n\u001b[0;32m---> 89\u001b[0;31m         \u001b[0mprint\u001b[0m\u001b[0;34m(\u001b[0m\u001b[0;34m\"Epoch \"\u001b[0m \u001b[0;34m+\u001b[0m \u001b[0mstr\u001b[0m\u001b[0;34m(\u001b[0m\u001b[0mepoch\u001b[0m\u001b[0;34m)\u001b[0m \u001b[0;34m+\u001b[0m \u001b[0;34m\" finished, loss: \"\u001b[0m \u001b[0;34m+\u001b[0m \u001b[0mstr\u001b[0m\u001b[0;34m(\u001b[0m\u001b[0mepoch_loss\u001b[0m\u001b[0;34m)\u001b[0m \u001b[0;34m+\u001b[0m \u001b[0;34m\", recon loss: \"\u001b[0m \u001b[0;34m+\u001b[0m \u001b[0mstr\u001b[0m\u001b[0;34m(\u001b[0m\u001b[0mrecon_loss\u001b[0m\u001b[0;34m)\u001b[0m \u001b[0;34m+\u001b[0m \u001b[0;34m\", kl div: \"\u001b[0m \u001b[0;34m+\u001b[0m \u001b[0mstr\u001b[0m\u001b[0;34m(\u001b[0m\u001b[0mkl_divs\u001b[0m\u001b[0;34m)\u001b[0m\u001b[0;34m)\u001b[0m\u001b[0;34m\u001b[0m\u001b[0;34m\u001b[0m\u001b[0m\n\u001b[0m\u001b[1;32m     90\u001b[0m     \u001b[0;32mreturn\u001b[0m \u001b[0mtrain_loss\u001b[0m\u001b[0;34m,\u001b[0m \u001b[0mrecon_losses_list\u001b[0m\u001b[0;34m,\u001b[0m \u001b[0mkl_div_list\u001b[0m\u001b[0;34m\u001b[0m\u001b[0;34m\u001b[0m\u001b[0m\n\u001b[1;32m     91\u001b[0m \u001b[0;34m\u001b[0m\u001b[0m\n",
            "\u001b[0;31mNameError\u001b[0m: name 'recon_loss_list' is not defined"
          ]
        }
      ]
    },
    {
      "cell_type": "code",
      "metadata": {
        "id": "seasonal-muscle"
      },
      "source": [
        "test_control_vae(model, test_loader, 'bernoulli', device = device)"
      ],
      "id": "seasonal-muscle",
      "execution_count": null,
      "outputs": []
    },
    {
      "cell_type": "code",
      "metadata": {
        "id": "affected-arnold"
      },
      "source": [
        "torch.save(model, 'controlvae_epoch100_lr1e4_default_bc_param.dat')"
      ],
      "id": "affected-arnold",
      "execution_count": 49,
      "outputs": []
    },
    {
      "cell_type": "code",
      "metadata": {
        "id": "f0sm5QiHyb3C"
      },
      "source": [
        ""
      ],
      "id": "f0sm5QiHyb3C",
      "execution_count": null,
      "outputs": []
    }
  ]
}