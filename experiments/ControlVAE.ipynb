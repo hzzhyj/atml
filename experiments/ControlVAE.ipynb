{
  "nbformat": 4,
  "nbformat_minor": 5,
  "metadata": {
    "kernelspec": {
      "display_name": "Python 3",
      "language": "python",
      "name": "python3"
    },
    "colab": {
      "name": "ControlVAE.ipynb",
      "provenance": []
    },
    "accelerator": "GPU"
  },
  "cells": [
    {
      "cell_type": "code",
      "metadata": {
        "id": "ZD6RwQ5W_OIi",
        "colab": {
          "base_uri": "https://localhost:8080/"
        },
        "outputId": "d938e665-76e8-43c4-e52e-2a26e03cbdb2"
      },
      "source": [
        "from google.colab import drive\n",
        "drive.mount('/content/drive')"
      ],
      "id": "ZD6RwQ5W_OIi",
      "execution_count": 14,
      "outputs": [
        {
          "output_type": "stream",
          "text": [
            "Drive already mounted at /content/drive; to attempt to forcibly remount, call drive.mount(\"/content/drive\", force_remount=True).\n"
          ],
          "name": "stdout"
        }
      ]
    },
    {
      "cell_type": "code",
      "metadata": {
        "id": "outer-crazy"
      },
      "source": [
        "import numpy as np\n",
        "import torch\n",
        "import os\n",
        "import sys\n",
        "import random\n",
        "import matplotlib.pyplot as plt\n",
        "\n",
        "from torch.utils.data import DataLoader\n",
        "\n",
        "module_path = os.path.abspath(os.path.join('..'))\n",
        "abs_path = \"/content/drive/MyDrive/atml\"\n",
        "sys.path.append(abs_path+\"/models\")\n",
        "sys.path.append(abs_path+\"/train\")\n",
        "sys.path.append(abs_path+\"/datasets\")"
      ],
      "id": "outer-crazy",
      "execution_count": 15,
      "outputs": []
    },
    {
      "cell_type": "code",
      "metadata": {
        "id": "pursuant-tablet",
        "colab": {
          "base_uri": "https://localhost:8080/"
        },
        "outputId": "d6e2ff7d-df1f-4f07-f4a7-22c2ae68d6fe"
      },
      "source": [
        "if torch.cuda.is_available:\n",
        "    device = torch.device('cuda')\n",
        "else:\n",
        "    device = torch.device('cpu')\n",
        "device"
      ],
      "id": "pursuant-tablet",
      "execution_count": 16,
      "outputs": [
        {
          "output_type": "execute_result",
          "data": {
            "text/plain": [
              "device(type='cuda')"
            ]
          },
          "metadata": {
            "tags": []
          },
          "execution_count": 16
        }
      ]
    },
    {
      "cell_type": "code",
      "metadata": {
        "id": "tender-company"
      },
      "source": [
        "from datasets import train_test_random_split, load_dsprites\n",
        "from train import train_control_vae, test_control_vae\n",
        "from loss import loss_control_vae\n",
        "from control_vae import ControlVAEDSprites"
      ],
      "id": "tender-company",
      "execution_count": 17,
      "outputs": []
    },
    {
      "cell_type": "code",
      "metadata": {
        "id": "distant-cancellation"
      },
      "source": [
        "dataset = load_dsprites(abs_path + \"/datasets/dsprites.npz\")"
      ],
      "id": "distant-cancellation",
      "execution_count": 18,
      "outputs": []
    },
    {
      "cell_type": "code",
      "metadata": {
        "id": "beautiful-confusion"
      },
      "source": [
        "dataset = torch.from_numpy(dataset)"
      ],
      "id": "beautiful-confusion",
      "execution_count": 19,
      "outputs": []
    },
    {
      "cell_type": "code",
      "metadata": {
        "id": "independent-bracket"
      },
      "source": [
        "n_imgs = 50000\n",
        "#indices = torch.randperm(dataset.size(0))[:n_imgs]\n",
        "indices = torch.randperm(dataset.size(0))\n",
        "dataset = dataset[indices]"
      ],
      "id": "independent-bracket",
      "execution_count": 20,
      "outputs": []
    },
    {
      "cell_type": "code",
      "metadata": {
        "id": "digital-separation"
      },
      "source": [
        "data_train, data_test = train_test_random_split(dataset, 0.8)"
      ],
      "id": "digital-separation",
      "execution_count": 21,
      "outputs": []
    },
    {
      "cell_type": "code",
      "metadata": {
        "id": "native-superintendent"
      },
      "source": [
        "batch_size = 64\n",
        "train_loader = DataLoader(data_train, batch_size=batch_size, shuffle=True)\n",
        "test_loader = DataLoader(data_test, batch_size=batch_size, shuffle=True)"
      ],
      "id": "native-superintendent",
      "execution_count": 22,
      "outputs": []
    },
    {
      "cell_type": "code",
      "metadata": {
        "id": "empty-sensitivity"
      },
      "source": [
        "beta_controller_args = {\n",
        "    'C' : 0.5,\n",
        "    'C_max' : 8,\n",
        "    'C_step_val' : 0.15,\n",
        "    'C_step_period' : 5000,\n",
        "    'Kp' : 0.01,\n",
        "    'Ki' : -0.001,\n",
        "    'Kd' : 0.0\n",
        "}"
      ],
      "id": "empty-sensitivity",
      "execution_count": 23,
      "outputs": []
    },
    {
      "cell_type": "code",
      "metadata": {
        "id": "perceived-patch",
        "colab": {
          "base_uri": "https://localhost:8080/"
        },
        "outputId": "5dad23fb-9166-4c5d-971f-059ad870c305"
      },
      "source": [
        "model = ControlVAEDSprites(beta_controller_args)\n",
        "model.to(device)"
      ],
      "id": "perceived-patch",
      "execution_count": 24,
      "outputs": [
        {
          "output_type": "execute_result",
          "data": {
            "text/plain": [
              "ControlVAEDSprites(\n",
              "  (encoder): Sequential(\n",
              "    (0): Linear(in_features=4096, out_features=1200, bias=True)\n",
              "    (1): ReLU()\n",
              "    (2): Linear(in_features=1200, out_features=1200, bias=True)\n",
              "    (3): ReLU()\n",
              "    (4): Linear(in_features=1200, out_features=20, bias=True)\n",
              "  )\n",
              "  (decoder): Sequential(\n",
              "    (0): Linear(in_features=10, out_features=1200, bias=True)\n",
              "    (1): Tanh()\n",
              "    (2): Linear(in_features=1200, out_features=1200, bias=True)\n",
              "    (3): Tanh()\n",
              "    (4): Linear(in_features=1200, out_features=1200, bias=True)\n",
              "    (5): Tanh()\n",
              "    (6): Linear(in_features=1200, out_features=4096, bias=True)\n",
              "  )\n",
              ")"
            ]
          },
          "metadata": {
            "tags": []
          },
          "execution_count": 24
        }
      ]
    },
    {
      "cell_type": "code",
      "metadata": {
        "id": "lightweight-exercise"
      },
      "source": [
        "optimizer = torch.optim.Adagrad(model.parameters(), lr=1e-2)"
      ],
      "id": "lightweight-exercise",
      "execution_count": 25,
      "outputs": []
    },
    {
      "cell_type": "code",
      "metadata": {
        "id": "steady-latin",
        "colab": {
          "base_uri": "https://localhost:8080/"
        },
        "outputId": "69cf39ac-c2b7-4b87-b7b7-d828fd42592e"
      },
      "source": [
        "train_loss, recon_loss, kl_div = train_control_vae(model, 50, train_loader, optimizer, 'bernoulli', device=device)"
      ],
      "id": "steady-latin",
      "execution_count": 26,
      "outputs": [
        {
          "output_type": "stream",
          "text": [
            "/usr/local/lib/python3.7/dist-packages/torch/nn/functional.py:1709: UserWarning: nn.functional.sigmoid is deprecated. Use torch.sigmoid instead.\n",
            "  warnings.warn(\"nn.functional.sigmoid is deprecated. Use torch.sigmoid instead.\")\n",
            "/usr/local/lib/python3.7/dist-packages/torch/nn/_reduction.py:42: UserWarning: size_average and reduce args will be deprecated, please use reduction='sum' instead.\n",
            "  warnings.warn(warning.format(ret))\n"
          ],
          "name": "stderr"
        },
        {
          "output_type": "stream",
          "text": [
            "Epoch 0 finished, loss: 164.89473944654068, recon loss: 105.34478110488918, kl div: 3.3205935931277293\n",
            "Epoch 1 finished, loss: 149.37936353766256, recon loss: 111.76529765046305, kl div: 1.298815436506023\n",
            "Epoch 2 finished, loss: 150.76507678214045, recon loss: 118.1155313923955, kl div: 1.0684462603595521\n",
            "Epoch 3 finished, loss: 149.15173731247583, recon loss: 113.94426071726613, kl div: 1.2020339292098976\n",
            "Epoch 4 finished, loss: 146.42241338143745, recon loss: 106.85457873758342, kl div: 1.4468229503707133\n",
            "Epoch 5 finished, loss: 142.7772039655182, recon loss: 99.53387098097139, kl div: 1.7137357806916245\n",
            "Epoch 6 finished, loss: 138.71708772662612, recon loss: 92.5063023865223, kl div: 1.9976675129987091\n",
            "Epoch 7 finished, loss: 134.18531249794694, recon loss: 85.87207001861599, kl div: 2.288703172118403\n",
            "Epoch 8 finished, loss: 129.39537358035645, recon loss: 79.72210028602018, kl div: 2.5790155227554754\n",
            "Epoch 9 finished, loss: 124.59856270915932, recon loss: 74.04120372566912, kl div: 2.877849091982676\n",
            "Epoch 10 finished, loss: 119.64740102572574, recon loss: 68.9417597796354, kl div: 3.1654067343204386\n",
            "Epoch 11 finished, loss: 114.53108234206836, recon loss: 64.31310296472576, kl div: 3.4490514430476145\n",
            "Epoch 12 finished, loss: 109.3080565325088, recon loss: 60.11454790996181, kl div: 3.7340498847576478\n",
            "Epoch 13 finished, loss: 103.93084055350886, recon loss: 56.36049133166671, kl div: 4.01734645336142\n",
            "Epoch 14 finished, loss: 98.45199492159817, recon loss: 52.986595149255464, kl div: 4.298340675291708\n",
            "Epoch 15 finished, loss: 92.71999943256378, recon loss: 49.94954864763551, kl div: 4.579050234467205\n",
            "Epoch 16 finished, loss: 86.8941080412931, recon loss: 47.22433489064375, kl div: 4.862132600146449\n",
            "Epoch 17 finished, loss: 81.3684300755461, recon loss: 44.85583923798468, kl div: 5.152013271477902\n",
            "Epoch 18 finished, loss: 75.96447848942545, recon loss: 42.763333421200514, kl div: 5.440966938467075\n",
            "Epoch 19 finished, loss: 70.95601295431455, recon loss: 40.97656041176783, kl div: 5.7268972612606985\n",
            "Epoch 20 finished, loss: 66.27580348485046, recon loss: 39.42923611650864, kl div: 6.017529045593822\n",
            "Epoch 21 finished, loss: 62.08713168857826, recon loss: 38.12785672272245, kl div: 6.30080465423978\n",
            "Epoch 22 finished, loss: 58.30115771210856, recon loss: 37.01536316921314, kl div: 6.587175356327659\n",
            "Epoch 23 finished, loss: 54.93706439849403, recon loss: 36.081442358179224, kl div: 6.87138028592906\n",
            "Epoch 24 finished, loss: 51.83741345173783, recon loss: 35.27446140928401, kl div: 7.157436966896057\n",
            "Epoch 25 finished, loss: 49.11898329605659, recon loss: 34.59602141711447, kl div: 7.439808911799143\n",
            "Epoch 26 finished, loss: 46.69059463424815, recon loss: 34.02182995900512, kl div: 7.722831610176298\n",
            "Epoch 27 finished, loss: 44.874357545127474, recon loss: 33.58824326015181, kl div: 7.967277519974029\n",
            "Epoch 28 finished, loss: 44.693424850288366, recon loss: 33.496025501646926, kl div: 8.001411196103113\n",
            "Epoch 29 finished, loss: 44.762289478960966, recon loss: 33.46691799350083, kl div: 8.001398633234203\n",
            "Epoch 30 finished, loss: 44.79483548386229, recon loss: 33.439956690909135, kl div: 8.000397531781346\n",
            "Epoch 31 finished, loss: 44.78803224530485, recon loss: 33.41036653891206, kl div: 8.000498343310836\n",
            "Epoch 32 finished, loss: 44.80088378323449, recon loss: 33.386050056873096, kl div: 8.000542907665173\n",
            "Epoch 33 finished, loss: 44.82795046104325, recon loss: 33.366388219926094, kl div: 8.000476526976046\n",
            "Epoch 34 finished, loss: 44.81161950528622, recon loss: 33.34288098021514, kl div: 7.99941856533082\n",
            "Epoch 35 finished, loss: 44.8096980618106, recon loss: 33.32023455078403, kl div: 8.001150380406115\n",
            "Epoch 36 finished, loss: 44.83448484126065, recon loss: 33.303717105752895, kl div: 8.000293049030006\n",
            "Epoch 37 finished, loss: 44.85394871607423, recon loss: 33.28880472708907, kl div: 8.000159255435896\n",
            "Epoch 38 finished, loss: 44.85202065399952, recon loss: 33.26754451418916, kl div: 8.000696105986005\n",
            "Epoch 39 finished, loss: 44.861320620195734, recon loss: 33.25132998679247, kl div: 7.999488941031611\n",
            "Epoch 40 finished, loss: 44.856252701332174, recon loss: 33.233734016203215, kl div: 8.00048515961195\n",
            "Epoch 41 finished, loss: 44.84870162316494, recon loss: 33.211872928465404, kl div: 8.00007282047429\n",
            "Epoch 42 finished, loss: 44.87308874974648, recon loss: 33.19590223145982, kl div: 8.001004368739409\n",
            "Epoch 43 finished, loss: 44.86346898683243, recon loss: 33.16867214689652, kl div: 8.001151129448166\n",
            "Epoch 44 finished, loss: 44.91422862932086, recon loss: 33.131288054916595, kl div: 8.00110569053019\n",
            "Epoch 45 finished, loss: 45.202817748404215, recon loss: 32.91052416960398, kl div: 8.017735300223446\n",
            "Epoch 46 finished, loss: 46.80833322968748, recon loss: 32.242459730555616, kl div: 8.032064777022848\n",
            "Epoch 47 finished, loss: 48.05771665564842, recon loss: 31.718182432361775, kl div: 8.016472602573534\n",
            "Epoch 48 finished, loss: 48.498865243461395, recon loss: 31.438649628725315, kl div: 8.006956830879467\n",
            "Epoch 49 finished, loss: 48.76848267101579, recon loss: 31.318832372418708, kl div: 8.003694232553244\n"
          ],
          "name": "stdout"
        }
      ]
    },
    {
      "cell_type": "code",
      "metadata": {
        "id": "seasonal-muscle"
      },
      "source": [
        "test_control_vae(model, test_loader, 'bernoulli', device = device)"
      ],
      "id": "seasonal-muscle",
      "execution_count": null,
      "outputs": []
    },
    {
      "cell_type": "code",
      "metadata": {
        "id": "affected-arnold"
      },
      "source": [
        "torch.save(model, '/content/drive/MyDrive/atml/controlvae_epoch40_lr1e2_Cmax8.dat')\n",
        "np.save('/content/drive/MyDrive/atml/controlvae_epoch50_lr1e2_Cmax8_train_loss.npy', train_loss)\n",
        "np.save('/content/drive/MyDrive/atml/controlvae_epoch50_lr1e2_Cmax8_recon_loss.npy', recon_loss)\n",
        "np.save('/content/drive/MyDrive/atml/controlvae_epoch50_lr1e2_Cmax8_kl_divs.npy', kl_div)"
      ],
      "id": "affected-arnold",
      "execution_count": 27,
      "outputs": []
    },
    {
      "cell_type": "code",
      "metadata": {
        "colab": {
          "base_uri": "https://localhost:8080/",
          "height": 519
        },
        "id": "f0sm5QiHyb3C",
        "outputId": "2eb39fe6-7f2c-4815-e407-500e711d2cde"
      },
      "source": [
        "model = torch.load('/content/drive/MyDrive/atml/controlvae_epoch500_lr1e2_Cmax12.dat')\n",
        "index = 100\n",
        "original = dataset[index].float().to(device)\n",
        "recon, mu, logvar = model(original)\n",
        "plt.imshow(original.cpu(), cmap='Greys_r')\n",
        "plt.show()\n",
        "plt.imshow(torch.sigmoid(recon.cpu().detach()).view(64,64), cmap='Greys_r')\n",
        "plt.show()"
      ],
      "id": "f0sm5QiHyb3C",
      "execution_count": null,
      "outputs": [
        {
          "output_type": "display_data",
          "data": {
            "image/png": "[encoded data removed]",
            "text/plain": [
              "<Figure size 432x288 with 1 Axes>"
            ]
          },
          "metadata": {
            "tags": [],
            "needs_background": "light"
          }
        },
        {
          "output_type": "display_data",
          "data": {
            "image/png": "[encoded data removed]",
            "text/plain": [
              "<Figure size 432x288 with 1 Axes>"
            ]
          },
          "metadata": {
            "tags": [],
            "needs_background": "light"
          }
        }
      ]
    },
    {
      "cell_type": "code",
      "metadata": {
        "id": "-v4lx-CBCw_C",
        "colab": {
          "base_uri": "https://localhost:8080/",
          "height": 519
        },
        "outputId": "3da3833c-12d2-4f9f-baa0-f55a46d0df35"
      },
      "source": [
        "index = 198964\n",
        "original = dataset[index].float().to(device)\n",
        "recon, mu, logvar = model(original)\n",
        "plt.imshow(original.cpu(), cmap='Greys_r')\n",
        "plt.show()\n",
        "plt.imshow(torch.sigmoid(recon.cpu().detach()).view(64,64), cmap='Greys_r')\n",
        "plt.show()"
      ],
      "id": "-v4lx-CBCw_C",
      "execution_count": null,
      "outputs": [
        {
          "output_type": "display_data",
          "data": {
            "image/png": "[encoded data removed]",
            "text/plain": [
              "<Figure size 432x288 with 1 Axes>"
            ]
          },
          "metadata": {
            "tags": [],
            "needs_background": "light"
          }
        },
        {
          "output_type": "display_data",
          "data": {
            "image/png": "[encoded data removed]",
            "text/plain": [
              "<Figure size 432x288 with 1 Axes>"
            ]
          },
          "metadata": {
            "tags": [],
            "needs_background": "light"
          }
        }
      ]
    },
    {
      "cell_type": "code",
      "metadata": {
        "id": "SZNJzXYVt5D7"
      },
      "source": [
        ""
      ],
      "id": "SZNJzXYVt5D7",
      "execution_count": null,
      "outputs": []
    }
  ]
}