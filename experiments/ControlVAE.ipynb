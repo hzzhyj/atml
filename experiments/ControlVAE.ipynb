{
 "cells": [
  {
   "cell_type": "code",
   "execution_count": 1,
   "metadata": {
    "colab": {
     "base_uri": "https://localhost:8080/"
    },
    "id": "ZD6RwQ5W_OIi",
    "outputId": "f17dda66-2b9a-46e3-e54e-6a972a156b3b"
   },
   "outputs": [
    {
     "name": "stdout",
     "output_type": "stream",
     "text": [
      "Mounted at /content/drive\n"
     ]
    }
   ],
   "source": [
    "from google.colab import drive\n",
    "drive.mount('/content/drive')"
   ]
  },
  {
   "cell_type": "code",
   "execution_count": 2,
   "metadata": {
    "id": "outer-crazy"
   },
   "outputs": [],
   "source": [
    "import numpy as np\n",
    "import torch\n",
    "import os\n",
    "import sys\n",
    "import random\n",
    "import matplotlib.pyplot as plt\n",
    "\n",
    "from torch.utils.data import DataLoader\n",
    "\n",
    "module_path = os.path.abspath(os.path.join('..'))\n",
    "abs_path = \"/content/drive/MyDrive/atml\"\n",
    "sys.path.append(abs_path+\"/models\")\n",
    "sys.path.append(abs_path+\"/train\")\n",
    "sys.path.append(abs_path+\"/datasets\")\n",
    "\n",
    "# Fix seed \n",
    "torch.manual_seed(2)\n",
    "random.seed(2)\n",
    "np.random.seed(2)"
   ]
  },
  {
   "cell_type": "code",
   "execution_count": 3,
   "metadata": {
    "colab": {
     "base_uri": "https://localhost:8080/"
    },
    "id": "pursuant-tablet",
    "outputId": "cfdae7fd-b4ef-408f-a60d-45ef70fa5818"
   },
   "outputs": [
    {
     "data": {
      "text/plain": [
       "device(type='cuda')"
      ]
     },
     "execution_count": 3,
     "metadata": {
      "tags": []
     },
     "output_type": "execute_result"
    }
   ],
   "source": [
    "if torch.cuda.is_available:\n",
    "    device = torch.device('cuda')\n",
    "else:\n",
    "    device = torch.device('cpu')\n",
    "device"
   ]
  },
  {
   "cell_type": "code",
   "execution_count": 4,
   "metadata": {
    "id": "tender-company"
   },
   "outputs": [],
   "source": [
    "from datasets import train_test_random_split, load_dsprites\n",
    "from train import train_control_vae, test_control_vae\n",
    "from loss import loss_control_vae\n",
    "from control_vae import ControlVAEDSprites"
   ]
  },
  {
   "cell_type": "code",
   "execution_count": 5,
   "metadata": {
    "id": "distant-cancellation"
   },
   "outputs": [],
   "source": [
    "# dataset = load_dsprites(abs_path + \"/datasets/dsprites.npz\")\n",
    "# dataset = torch.from_numpy(dataset)\n",
    "\n",
    "transform = None\n",
    "# transform = transforms.Compose([\n",
    "#     AddUniformNoise(-.1, .1)\n",
    "# ])\n",
    "dataset = CustomDSpritesDataset(load_dsprites(abs_path + \"/datasets/dsprites.npz\", False), transform=transform)"
   ]
  },
  {
   "cell_type": "code",
   "execution_count": 7,
   "metadata": {
    "id": "independent-bracket"
   },
   "outputs": [],
   "source": [
    "n_imgs = 50000\n",
    "#indices = torch.randperm(dataset.size(0))[:n_imgs]\n",
    "indices = torch.randperm(dataset.size(0))\n",
    "dataset = dataset[indices]"
   ]
  },
  {
   "cell_type": "code",
   "execution_count": 8,
   "metadata": {
    "id": "digital-separation"
   },
   "outputs": [],
   "source": [
    "data_train, data_test = train_test_random_split(dataset, 0.8)"
   ]
  },
  {
   "cell_type": "code",
   "execution_count": 9,
   "metadata": {
    "id": "native-superintendent"
   },
   "outputs": [],
   "source": [
    "batch_size = 64\n",
    "train_loader = DataLoader(data_train, batch_size=batch_size, shuffle=True)\n",
    "test_loader = DataLoader(data_test, batch_size=batch_size, shuffle=True)"
   ]
  },
  {
   "cell_type": "code",
   "execution_count": 10,
   "metadata": {
    "id": "empty-sensitivity"
   },
   "outputs": [],
   "source": [
    "beta_controller_args = {\n",
    "    'C' : 0.5,\n",
    "    'C_max' : 8,\n",
    "    'C_step_val' : 0.15,\n",
    "    'C_step_period' : 5000,\n",
    "    'Kp' : 0.01,\n",
    "    'Ki' : -0.001,\n",
    "    'Kd' : 0.0\n",
    "}"
   ]
  },
  {
   "cell_type": "code",
   "execution_count": 11,
   "metadata": {
    "colab": {
     "base_uri": "https://localhost:8080/"
    },
    "id": "perceived-patch",
    "outputId": "93df0f6c-d9d3-4dc7-b292-d4215eee951f"
   },
   "outputs": [
    {
     "data": {
      "text/plain": [
       "ControlVAEDSprites(\n",
       "  (encoder): Sequential(\n",
       "    (0): Linear(in_features=4096, out_features=1200, bias=True)\n",
       "    (1): ReLU()\n",
       "    (2): Linear(in_features=1200, out_features=1200, bias=True)\n",
       "    (3): ReLU()\n",
       "    (4): Linear(in_features=1200, out_features=20, bias=True)\n",
       "  )\n",
       "  (decoder): Sequential(\n",
       "    (0): Linear(in_features=10, out_features=1200, bias=True)\n",
       "    (1): Tanh()\n",
       "    (2): Linear(in_features=1200, out_features=1200, bias=True)\n",
       "    (3): Tanh()\n",
       "    (4): Linear(in_features=1200, out_features=1200, bias=True)\n",
       "    (5): Tanh()\n",
       "    (6): Linear(in_features=1200, out_features=4096, bias=True)\n",
       "  )\n",
       ")"
      ]
     },
     "execution_count": 11,
     "metadata": {
      "tags": []
     },
     "output_type": "execute_result"
    }
   ],
   "source": [
    "model = ControlVAEDSprites(beta_controller_args)\n",
    "model.to(device)"
   ]
  },
  {
   "cell_type": "code",
   "execution_count": 12,
   "metadata": {
    "id": "lightweight-exercise"
   },
   "outputs": [],
   "source": [
    "optimizer = torch.optim.Adagrad(model.parameters(), lr=1e-2)"
   ]
  },
  {
   "cell_type": "code",
   "execution_count": 13,
   "metadata": {
    "colab": {
     "base_uri": "https://localhost:8080/"
    },
    "id": "steady-latin",
    "outputId": "87b98df1-2347-444a-9e71-8397aa7eed9a"
   },
   "outputs": [
    {
     "name": "stderr",
     "output_type": "stream",
     "text": [
      "/usr/local/lib/python3.7/dist-packages/torch/nn/functional.py:1709: UserWarning: nn.functional.sigmoid is deprecated. Use torch.sigmoid instead.\n",
      "  warnings.warn(\"nn.functional.sigmoid is deprecated. Use torch.sigmoid instead.\")\n",
      "/usr/local/lib/python3.7/dist-packages/torch/nn/_reduction.py:42: UserWarning: size_average and reduce args will be deprecated, please use reduction='sum' instead.\n",
      "  warnings.warn(warning.format(ret))\n"
     ]
    },
    {
     "name": "stdout",
     "output_type": "stream",
     "text": [
      "Epoch 0 finished, loss: 141.11182498104043, recon loss: 97.65145626912515, kl div: 3.077698456971108\n",
      "Epoch 1 finished, loss: 148.06339288916854, recon loss: 107.09475313127041, kl div: 1.4815095700000205\n",
      "Epoch 2 finished, loss: 150.51352825595274, recon loss: 116.91886665920417, kl div: 1.1103556360790714\n",
      "Epoch 3 finished, loss: 149.0763132042355, recon loss: 113.66489064196746, kl div: 1.214036329778739\n",
      "Epoch 4 finished, loss: 146.39583578871355, recon loss: 106.71137975735797, kl div: 1.4531515633764986\n",
      "Epoch 5 finished, loss: 142.96546934793392, recon loss: 99.49093395306005, kl div: 1.7196623736268117\n",
      "Epoch 6 finished, loss: 138.9414296489623, recon loss: 92.54819168564346, kl div: 2.0001565443429477\n",
      "Epoch 7 finished, loss: 134.53462704685, recon loss: 86.0015982935826, kl div: 2.2892032062583088\n",
      "Epoch 8 finished, loss: 129.6422570778264, recon loss: 79.79903999302122, kl div: 2.5770932068634362\n",
      "Epoch 9 finished, loss: 124.81622534824743, recon loss: 74.1361864577565, kl div: 2.8760638919451997\n",
      "Epoch 10 finished, loss: 119.85140925563044, recon loss: 69.00152490081058, kl div: 3.1642828398746334\n",
      "Epoch 11 finished, loss: 114.77317221214373, recon loss: 64.32398198917508, kl div: 3.452490291506466\n",
      "Epoch 12 finished, loss: 109.62921516431703, recon loss: 60.1417061102887, kl div: 3.7356123990224055\n",
      "Epoch 13 finished, loss: 104.13056141469214, recon loss: 56.35052054002881, kl div: 4.012702489556331\n",
      "Epoch 14 finished, loss: 98.36965759926372, recon loss: 52.89342069501678, kl div: 4.293119135778397\n",
      "Epoch 15 finished, loss: 92.4306207721432, recon loss: 49.79185573177205, kl div: 4.575086538679898\n",
      "Epoch 16 finished, loss: 86.38272947818041, recon loss: 47.00629490324192, kl div: 4.860159512971425\n",
      "Epoch 17 finished, loss: 80.67516419457064, recon loss: 44.60659121308062, kl div: 5.1500482739777205\n",
      "Epoch 18 finished, loss: 75.31123568862677, recon loss: 42.54607720921437, kl div: 5.439729813124156\n",
      "Epoch 19 finished, loss: 70.2632494378421, recon loss: 40.761453070160414, kl div: 5.730222444050014\n",
      "Epoch 20 finished, loss: 65.66839286560814, recon loss: 39.25530158811145, kl div: 6.014900218281481\n",
      "Epoch 21 finished, loss: 61.56434229761362, recon loss: 37.9785677091115, kl div: 6.303904239760919\n",
      "Epoch 22 finished, loss: 57.865271570781864, recon loss: 36.90151569516294, kl div: 6.587623172284414\n",
      "Epoch 23 finished, loss: 54.466796254532206, recon loss: 35.9734459326913, kl div: 6.871549264993519\n",
      "Epoch 24 finished, loss: 51.42379379727774, recon loss: 35.180823684773515, kl div: 7.157353579325394\n",
      "Epoch 25 finished, loss: 48.73285710066557, recon loss: 34.511969812007415, kl div: 7.441437185948922\n",
      "Epoch 26 finished, loss: 46.336442490832674, recon loss: 33.94594023273223, kl div: 7.72265499488761\n",
      "Epoch 27 finished, loss: 44.55512277036905, recon loss: 33.52194598958724, kl div: 7.968251750028382\n",
      "Epoch 28 finished, loss: 44.388038182424175, recon loss: 33.432223415830066, kl div: 8.000927559307051\n",
      "Epoch 29 finished, loss: 44.44138398642341, recon loss: 33.40110431321793, kl div: 8.000895035867062\n",
      "Epoch 30 finished, loss: 44.46153787192371, recon loss: 33.372424690673746, kl div: 8.00122956548714\n",
      "Epoch 31 finished, loss: 44.483200346844065, recon loss: 33.34490522038605, kl div: 8.00043066461674\n",
      "Epoch 32 finished, loss: 44.50025253908502, recon loss: 33.32090200049182, kl div: 8.000286227195627\n",
      "Epoch 33 finished, loss: 44.49313270838724, recon loss: 33.29559878984259, kl div: 8.00001744646579\n",
      "Epoch 34 finished, loss: 44.492152617209484, recon loss: 33.27437371739911, kl div: 8.000557067700559\n",
      "Epoch 35 finished, loss: 44.53833243292239, recon loss: 33.26009013151957, kl div: 8.00042717376103\n",
      "Epoch 36 finished, loss: 44.54919845652249, recon loss: 33.2426670131584, kl div: 8.000847335232216\n",
      "Epoch 37 finished, loss: 44.52764407835073, recon loss: 33.22029266713394, kl div: 8.00066894096219\n",
      "Epoch 38 finished, loss: 44.58908864276277, recon loss: 33.21208103125294, kl div: 7.999684775403391\n",
      "Epoch 39 finished, loss: 44.554898584468496, recon loss: 33.19094820631047, kl div: 8.000275411280906\n",
      "Epoch 40 finished, loss: 44.59695131373074, recon loss: 33.18118956933419, kl div: 8.000064717916151\n",
      "Epoch 41 finished, loss: 44.55101245890061, recon loss: 33.15707086316414, kl div: 7.999649926864852\n",
      "Epoch 42 finished, loss: 44.57649466353986, recon loss: 33.14653665117092, kl div: 8.001865615706063\n",
      "Epoch 43 finished, loss: 44.59502175036404, recon loss: 33.133804243885805, kl div: 7.999621527321223\n",
      "Epoch 44 finished, loss: 44.57846428619491, recon loss: 33.11355036890341, kl div: 8.000126311865946\n",
      "Epoch 45 finished, loss: 44.61006754802333, recon loss: 33.09702047788434, kl div: 8.001029331288818\n",
      "Epoch 46 finished, loss: 44.79528835043311, recon loss: 32.99478772054944, kl div: 8.012495883999186\n",
      "Epoch 47 finished, loss: 46.19537108474307, recon loss: 32.413761358087264, kl div: 8.031266373996106\n",
      "Epoch 48 finished, loss: 47.4776149040295, recon loss: 31.838904783336652, kl div: 8.020507530723181\n",
      "Epoch 49 finished, loss: 48.19468388458093, recon loss: 31.510483814610375, kl div: 8.010915362741798\n"
     ]
    }
   ],
   "source": [
    "train_loss, recon_loss, kl_div = train_control_vae(model, 50, train_loader, optimizer, 'bernoulli', device=device)"
   ]
  },
  {
   "cell_type": "code",
   "execution_count": null,
   "metadata": {
    "id": "seasonal-muscle"
   },
   "outputs": [],
   "source": [
    "test_control_vae(model, test_loader, 'bernoulli', device = device)"
   ]
  },
  {
   "cell_type": "code",
   "execution_count": 14,
   "metadata": {
    "id": "affected-arnold"
   },
   "outputs": [],
   "source": [
    "torch.save(model, '/content/drive/MyDrive/atml/controlvae_epoch50_lr1e2_Cmax8.dat')\n",
    "np.save('/content/drive/MyDrive/atml/controlvae_epoch50_lr1e2_Cmax8_train_loss.npy', train_loss)\n",
    "np.save('/content/drive/MyDrive/atml/controlvae_epoch50_lr1e2_Cmax8_recon_loss.npy', recon_loss)\n",
    "np.save('/content/drive/MyDrive/atml/controlvae_epoch50_lr1e2_Cmax8_kl_divs.npy', kl_div)"
   ]
  },
  {
   "cell_type": "code",
   "execution_count": null,
   "metadata": {
    "colab": {
     "base_uri": "https://localhost:8080/",
     "height": 519
    },
    "id": "f0sm5QiHyb3C",
    "outputId": "2eb39fe6-7f2c-4815-e407-500e711d2cde"
   },
   "outputs": [
    {
     "data": {
      "image/png": "[encoded data removed]",
      "text/plain": [
       "<Figure size 432x288 with 1 Axes>"
      ]
     },
     "metadata": {
      "needs_background": "light",
      "tags": []
     },
     "output_type": "display_data"
    },
    {
     "data": {
      "image/png": "[encoded data removed]",
      "text/plain": [
       "<Figure size 432x288 with 1 Axes>"
      ]
     },
     "metadata": {
      "needs_background": "light",
      "tags": []
     },
     "output_type": "display_data"
    }
   ],
   "source": [
    "model = torch.load('/content/drive/MyDrive/atml/controlvae_epoch500_lr1e2_Cmax12.dat')\n",
    "index = 100\n",
    "original = dataset[index].float().to(device)\n",
    "recon, mu, logvar = model(original)\n",
    "plt.imshow(original.cpu(), cmap='Greys_r')\n",
    "plt.show()\n",
    "plt.imshow(torch.sigmoid(recon.cpu().detach()).view(64,64), cmap='Greys_r')\n",
    "plt.show()"
   ]
  },
  {
   "cell_type": "code",
   "execution_count": null,
   "metadata": {
    "colab": {
     "base_uri": "https://localhost:8080/",
     "height": 519
    },
    "id": "-v4lx-CBCw_C",
    "outputId": "3da3833c-12d2-4f9f-baa0-f55a46d0df35"
   },
   "outputs": [
    {
     "data": {
      "image/png": "[encoded data removed]",
      "text/plain": [
       "<Figure size 432x288 with 1 Axes>"
      ]
     },
     "metadata": {
      "needs_background": "light",
      "tags": []
     },
     "output_type": "display_data"
    },
    {
     "data": {
      "image/png": "[encoded data removed]",
      "text/plain": [
       "<Figure size 432x288 with 1 Axes>"
      ]
     },
     "metadata": {
      "needs_background": "light",
      "tags": []
     },
     "output_type": "display_data"
    }
   ],
   "source": [
    "index = 198964\n",
    "original = dataset[index].float().to(device)\n",
    "recon, mu, logvar = model(original)\n",
    "plt.imshow(original.cpu(), cmap='Greys_r')\n",
    "plt.show()\n",
    "plt.imshow(torch.sigmoid(recon.cpu().detach()).view(64,64), cmap='Greys_r')\n",
    "plt.show()"
   ]
  },
  {
   "cell_type": "code",
   "execution_count": null,
   "metadata": {
    "id": "SZNJzXYVt5D7"
   },
   "outputs": [],
   "source": []
  }
 ],
 "metadata": {
  "accelerator": "GPU",
  "colab": {
   "name": "ControlVAE.ipynb",
   "provenance": []
  },
  "kernelspec": {
   "display_name": "Python 3",
   "language": "python",
   "name": "python3"
  },
  "language_info": {
   "codemirror_mode": {
    "name": "ipython",
    "version": 3
   },
   "file_extension": ".py",
   "mimetype": "text/x-python",
   "name": "python",
   "nbconvert_exporter": "python",
   "pygments_lexer": "ipython3",
   "version": "3.8.5"
  }
 },
 "nbformat": 4,
 "nbformat_minor": 5
}
