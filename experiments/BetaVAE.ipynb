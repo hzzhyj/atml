{
 "cells": [
  {
   "cell_type": "code",
   "execution_count": 1,
   "id": "cross-maple",
   "metadata": {},
   "outputs": [],
   "source": [
    "import numpy as np\n",
    "import torch\n",
    "import os\n",
    "import sys\n",
    "import random\n",
    "import matplotlib.pyplot as plt\n",
    "import torch.nn.functional as F\n",
    "\n",
    "from torch.utils.data import DataLoader\n",
    "\n",
    "module_path = os.path.abspath(os.path.join('..'))\n",
    "sys.path.append(module_path+\"/models\")\n",
    "sys.path.append(module_path+\"/train\")\n",
    "sys.path.append(module_path+\"/datasets\")"
   ]
  },
  {
   "cell_type": "code",
   "execution_count": 2,
   "id": "reflected-woman",
   "metadata": {},
   "outputs": [
    {
     "data": {
      "text/plain": [
       "device(type='cuda')"
      ]
     },
     "execution_count": 2,
     "metadata": {},
     "output_type": "execute_result"
    }
   ],
   "source": [
    "if torch.cuda.is_available():\n",
    "    device = torch.device('cuda')\n",
    "else:\n",
    "    device = torch.device('cpu')\n",
    "device"
   ]
  },
  {
   "cell_type": "code",
   "execution_count": 3,
   "id": "blond-productivity",
   "metadata": {},
   "outputs": [],
   "source": [
    "from datasets import train_test_random_split, load_dsprites, CustomDSpritesDatasetFactorVAE\n",
    "from train import train_beta_vae, test_beta_vae\n",
    "from loss import loss_beta_vae\n",
    "from beta_vae import BetaVAEDSprites, Classifier\n",
    "from utils import latent_transversal, load_checkpoint\n",
    "from entanglement_metric import entanglement_metric_factor_vae, entanglement_metric_beta_vae"
   ]
  },
  {
   "cell_type": "code",
   "execution_count": 4,
   "id": "educated-orleans",
   "metadata": {},
   "outputs": [],
   "source": [
    "whole_dataset = load_dsprites(\"../datasets/dsprites.npz\", False)\n",
    "dataset = whole_dataset['imgs']\n",
    "dataset = torch.from_numpy(dataset)"
   ]
  },
  {
   "cell_type": "code",
   "execution_count": 29,
   "id": "dated-deficit",
   "metadata": {},
   "outputs": [],
   "source": [
    "data_size = 10000\n",
    "data_ = CustomDSpritesDatasetFactorVAE(whole_dataset, data_size)"
   ]
  },
  {
   "cell_type": "code",
   "execution_count": 13,
   "id": "foreign-blend",
   "metadata": {},
   "outputs": [],
   "source": [
    "batch_size = 64\n",
    "train_loader = DataLoader(data_train, batch_size=batch_size, shuffle=True)\n",
    "test_loader = DataLoader(data_test, batch_size=batch_size, shuffle=True)"
   ]
  },
  {
   "cell_type": "code",
   "execution_count": 14,
   "id": "intelligent-hostel",
   "metadata": {},
   "outputs": [
    {
     "data": {
      "text/plain": [
       "BetaVAEDSprites(\n",
       "  (encoder): Sequential(\n",
       "    (0): Linear(in_features=4096, out_features=1200, bias=True)\n",
       "    (1): ReLU()\n",
       "    (2): Linear(in_features=1200, out_features=1200, bias=True)\n",
       "    (3): ReLU()\n",
       "    (4): Linear(in_features=1200, out_features=20, bias=True)\n",
       "  )\n",
       "  (decoder): Sequential(\n",
       "    (0): Linear(in_features=10, out_features=1200, bias=True)\n",
       "    (1): Tanh()\n",
       "    (2): Linear(in_features=1200, out_features=1200, bias=True)\n",
       "    (3): Tanh()\n",
       "    (4): Linear(in_features=1200, out_features=1200, bias=True)\n",
       "    (5): Tanh()\n",
       "    (6): Linear(in_features=1200, out_features=4096, bias=True)\n",
       "  )\n",
       ")"
      ]
     },
     "execution_count": 14,
     "metadata": {},
     "output_type": "execute_result"
    }
   ],
   "source": [
    "model = BetaVAEDSprites()\n",
    "model.to(device)"
   ]
  },
  {
   "cell_type": "code",
   "execution_count": 15,
   "id": "normal-peoples",
   "metadata": {},
   "outputs": [],
   "source": [
    "optimizer = torch.optim.Adagrad(model.parameters(), lr=1e-2)"
   ]
  },
  {
   "cell_type": "code",
   "execution_count": 30,
   "id": "sought-surfing",
   "metadata": {},
   "outputs": [
    {
     "data": {
      "image/png": "[encoded data removed]",
      "text/plain": [
       "<Figure size 432x288 with 1 Axes>"
      ]
     },
     "metadata": {
      "needs_background": "light"
     },
     "output_type": "display_data"
    },
    {
     "data": {
      "image/png": "[encoded data removed]",
      "text/plain": [
       "<Figure size 432x288 with 1 Axes>"
      ]
     },
     "metadata": {
      "needs_background": "light"
     },
     "output_type": "display_data"
    }
   ],
   "source": [
    "index = 100\n",
    "original = dataset[index].float().to(device)\n",
    "recon, mu, logvar = model(original)\n",
    "plt.imshow(original.cpu(), cmap='Greys_r')\n",
    "plt.show()\n",
    "plt.imshow(torch.sigmoid(recon.cpu().detach()).view(64,64), cmap='Greys_r')\n",
    "plt.show()"
   ]
  },
  {
   "cell_type": "code",
   "execution_count": null,
   "id": "variable-banner",
   "metadata": {},
   "outputs": [],
   "source": []
  },
  {
   "cell_type": "code",
   "execution_count": null,
   "id": "alternate-leader",
   "metadata": {},
   "outputs": [],
   "source": []
  },
  {
   "cell_type": "code",
   "execution_count": null,
   "id": "cardiac-supervision",
   "metadata": {},
   "outputs": [],
   "source": []
  },
  {
   "cell_type": "code",
   "execution_count": 5,
   "id": "expanded-impossible",
   "metadata": {},
   "outputs": [
    {
     "data": {
      "text/plain": [
       "11520.0"
      ]
     },
     "execution_count": 5,
     "metadata": {},
     "output_type": "execute_result"
    }
   ],
   "source": [
    "len(dataset) / 64"
   ]
  },
  {
   "cell_type": "code",
   "execution_count": 8,
   "id": "occupied-column",
   "metadata": {},
   "outputs": [
    {
     "name": "stdout",
     "output_type": "stream",
     "text": [
      "None\n"
     ]
    }
   ],
   "source": []
  },
  {
   "cell_type": "code",
   "execution_count": 19,
   "id": "olympic-chick",
   "metadata": {},
   "outputs": [],
   "source": [
    "def compute_latent_gaussian_variance(model, dataset):\n",
    "    loader = DataLoader(dataset, batch_size=64, shuffle=True)\n",
    "    accumulator = torch.zeros(10)\n",
    "    with torch.no_grad():\n",
    "        for index, data in enumerate(loader):\n",
    "            # shape of data is 64 x img_size\n",
    "            _, _, logvar = model(data.float())\n",
    "            accumulator = accumulator + logvar.div(2).exp().sum(0)\n",
    "            if index % 1000 == 999:\n",
    "                print('.', end='')\n",
    "            del logvar\n",
    "    return accumulator.div(len(dataset))"
   ]
  },
  {
   "cell_type": "code",
   "execution_count": 31,
   "id": "removed-moral",
   "metadata": {},
   "outputs": [],
   "source": [
    "def plot_loss(loss_list, title):\n",
    "    plt.plot(np.arange(1,len(loss_list)+1, 1), loss_list)\n",
    "    plt.xlabel(\"Epoch\")\n",
    "    plt.ylabel(\"Loss\")\n",
    "    plt.title(\"Training \"+title)\n",
    "    plt.show()"
   ]
  },
  {
   "cell_type": "code",
   "execution_count": null,
   "id": "insured-detroit",
   "metadata": {},
   "outputs": [],
   "source": []
  },
  {
   "cell_type": "code",
   "execution_count": null,
   "id": "warming-amsterdam",
   "metadata": {},
   "outputs": [],
   "source": []
  },
  {
   "cell_type": "code",
   "execution_count": 8,
   "id": "ranging-timing",
   "metadata": {},
   "outputs": [],
   "source": [
    "model_beta1_e40_alldata_n = BetaVAEDSprites()\n",
    "optimizer = torch.optim.Adagrad(model_beta1_e40_alldata_n.parameters(), lr=1e-2)\n",
    "start_epoch = 0 \n",
    "losslogger = []"
   ]
  },
  {
   "cell_type": "code",
   "execution_count": 10,
   "id": "promising-cache",
   "metadata": {},
   "outputs": [
    {
     "name": "stdout",
     "output_type": "stream",
     "text": [
      "=> loading checkpoint 'trained_models/betavae_beta4_e40_alldata_n.pth.tar'\n",
      "=> loaded checkpoint 'trained_models/betavae_beta4_e40_alldata_n.pth.tar' (epoch 41)\n"
     ]
    },
    {
     "data": {
      "text/plain": [
       "BetaVAEDSprites(\n",
       "  (encoder): Sequential(\n",
       "    (0): Linear(in_features=4096, out_features=1200, bias=True)\n",
       "    (1): ReLU()\n",
       "    (2): Linear(in_features=1200, out_features=1200, bias=True)\n",
       "    (3): ReLU()\n",
       "    (4): Linear(in_features=1200, out_features=20, bias=True)\n",
       "  )\n",
       "  (decoder): Sequential(\n",
       "    (0): Linear(in_features=10, out_features=1200, bias=True)\n",
       "    (1): Tanh()\n",
       "    (2): Linear(in_features=1200, out_features=1200, bias=True)\n",
       "    (3): Tanh()\n",
       "    (4): Linear(in_features=1200, out_features=1200, bias=True)\n",
       "    (5): Tanh()\n",
       "    (6): Linear(in_features=1200, out_features=4096, bias=True)\n",
       "  )\n",
       ")"
      ]
     },
     "execution_count": 10,
     "metadata": {},
     "output_type": "execute_result"
    }
   ],
   "source": [
    "model_beta1_e40_alldata_n, optimizer, start_epoch, losslogger = load_checkpoint(model_beta1_e40_alldata_n, \n",
    "    optimizer, losslogger, \n",
    "    filename='trained_models/betavae_beta4_e40_alldata_n.pth.tar')\n",
    "model_beta1_e40_alldata_n.eval()"
   ]
  },
  {
   "cell_type": "code",
   "execution_count": 14,
   "id": "subtle-energy",
   "metadata": {},
   "outputs": [
    {
     "data": {
      "text/plain": [
       "BetaVAEDSprites(\n",
       "  (encoder): Sequential(\n",
       "    (0): Linear(in_features=4096, out_features=1200, bias=True)\n",
       "    (1): ReLU()\n",
       "    (2): Linear(in_features=1200, out_features=1200, bias=True)\n",
       "    (3): ReLU()\n",
       "    (4): Linear(in_features=1200, out_features=20, bias=True)\n",
       "  )\n",
       "  (decoder): Sequential(\n",
       "    (0): Linear(in_features=10, out_features=1200, bias=True)\n",
       "    (1): Tanh()\n",
       "    (2): Linear(in_features=1200, out_features=1200, bias=True)\n",
       "    (3): Tanh()\n",
       "    (4): Linear(in_features=1200, out_features=1200, bias=True)\n",
       "    (5): Tanh()\n",
       "    (6): Linear(in_features=1200, out_features=4096, bias=True)\n",
       "  )\n",
       ")"
      ]
     },
     "execution_count": 14,
     "metadata": {},
     "output_type": "execute_result"
    }
   ],
   "source": [
    "model_beta1_e40_alldata_n.cpu()\n",
    "model_beta1_e40_alldata_n"
   ]
  },
  {
   "cell_type": "code",
   "execution_count": 30,
   "id": "abstract-static",
   "metadata": {
    "scrolled": true
   },
   "outputs": [
    {
     "name": "stdout",
     "output_type": "stream",
     "text": [
      "[[ 0.  0.  0.  0.  0.  0.  0.  0.  0.  0.]\n",
      " [ 0.  0.  0. 16.  0.  0.  6.  1.  0.  0.]\n",
      " [ 0.  0.  0.  0.  0.  0. 18.  0.  0.  0.]\n",
      " [ 0.  0.  0. 14.  0.  0.  0.  0.  1.  7.]\n",
      " [ 0.  0.  0.  0.  0.  0.  0.  0. 21.  1.]\n",
      " [ 0.  0.  0.  0.  0.  0.  0. 15.  0.  0.]]\n",
      "Factor Vae metric: \n",
      "Accuracy: 0.84\n",
      "Beta Vae metric: \n",
      "Epoch 0 finished, loss: 1.7120911180973053, accuracy:0.19\n",
      "Epoch 1 finished, loss: 1.704076924920082, accuracy:0.19\n",
      "Epoch 2 finished, loss: 1.696861708164215, accuracy:0.19\n",
      "Epoch 3 finished, loss: 1.6896983921527862, accuracy:0.19\n",
      "Epoch 4 finished, loss: 1.6829786032438279, accuracy:0.19\n",
      "Epoch 5 finished, loss: 1.6764672845602036, accuracy:0.19\n",
      "Epoch 6 finished, loss: 1.6702182382345199, accuracy:0.19\n",
      "Epoch 7 finished, loss: 1.664202630519867, accuracy:0.19\n",
      "Epoch 8 finished, loss: 1.658587172627449, accuracy:0.19\n",
      "Epoch 9 finished, loss: 1.6531268388032914, accuracy:0.19\n",
      "Epoch 10 finished, loss: 1.6477662175893784, accuracy:0.19\n",
      "Epoch 11 finished, loss: 1.642840325832367, accuracy:0.19\n",
      "Epoch 12 finished, loss: 1.6379841774702073, accuracy:0.19\n",
      "Epoch 13 finished, loss: 1.633448800444603, accuracy:0.19\n",
      "Epoch 14 finished, loss: 1.6290707290172577, accuracy:0.19\n",
      "Epoch 15 finished, loss: 1.6247731626033783, accuracy:0.19\n",
      "Epoch 16 finished, loss: 1.6207707494497299, accuracy:0.19\n",
      "Epoch 17 finished, loss: 1.6168440222740172, accuracy:0.19\n",
      "Epoch 18 finished, loss: 1.6130756974220275, accuracy:0.19\n",
      "Epoch 19 finished, loss: 1.6095611840486526, accuracy:0.19\n",
      "Epoch 20 finished, loss: 1.605913805961609, accuracy:0.19\n",
      "Epoch 21 finished, loss: 1.6026562213897706, accuracy:0.19\n",
      "Epoch 22 finished, loss: 1.5994311928749085, accuracy:0.19\n",
      "Epoch 23 finished, loss: 1.5963761150836944, accuracy:0.19\n",
      "Epoch 24 finished, loss: 1.5933753043413161, accuracy:0.19\n",
      "Epoch 25 finished, loss: 1.5904986321926118, accuracy:0.19\n",
      "Epoch 26 finished, loss: 1.587660762667656, accuracy:0.19\n",
      "Epoch 27 finished, loss: 1.5849840819835663, accuracy:0.19\n",
      "Epoch 28 finished, loss: 1.582429865002632, accuracy:0.19\n",
      "Epoch 29 finished, loss: 1.5798216313123703, accuracy:0.19\n",
      "Epoch 30 finished, loss: 1.577432358264923, accuracy:0.19\n",
      "Epoch 31 finished, loss: 1.5751035928726196, accuracy:0.19\n",
      "Epoch 32 finished, loss: 1.5727931916713715, accuracy:0.19\n",
      "Epoch 33 finished, loss: 1.5705773472785949, accuracy:0.19\n",
      "Epoch 34 finished, loss: 1.5683781147003173, accuracy:0.1925\n",
      "Epoch 35 finished, loss: 1.5663437873125077, accuracy:0.195\n",
      "Epoch 36 finished, loss: 1.5643667042255402, accuracy:0.195\n",
      "Epoch 37 finished, loss: 1.5622884452342987, accuracy:0.1975\n",
      "Epoch 38 finished, loss: 1.5603433132171631, accuracy:0.1975\n",
      "Epoch 39 finished, loss: 1.5585638850927352, accuracy:0.2\n",
      "Epoch 40 finished, loss: 1.556659460067749, accuracy:0.2025\n",
      "Epoch 41 finished, loss: 1.554888117313385, accuracy:0.205\n",
      "Epoch 42 finished, loss: 1.5531518876552581, accuracy:0.2075\n",
      "Epoch 43 finished, loss: 1.5513957172632218, accuracy:0.2075\n",
      "Epoch 44 finished, loss: 1.549699729681015, accuracy:0.2125\n",
      "Epoch 45 finished, loss: 1.5480726540088654, accuracy:0.225\n",
      "Epoch 46 finished, loss: 1.5464524507522583, accuracy:0.23\n",
      "Epoch 47 finished, loss: 1.5448666006326675, accuracy:0.2375\n",
      "Epoch 48 finished, loss: 1.5433451503515243, accuracy:0.245\n",
      "Epoch 49 finished, loss: 1.5417604386806487, accuracy:0.255\n",
      "Epoch 50 finished, loss: 1.5402420908212662, accuracy:0.265\n",
      "Epoch 51 finished, loss: 1.5387925535440445, accuracy:0.28\n",
      "Epoch 52 finished, loss: 1.5374100476503372, accuracy:0.295\n",
      "Epoch 53 finished, loss: 1.5359278261661529, accuracy:0.305\n",
      "Epoch 54 finished, loss: 1.5344314962625503, accuracy:0.3175\n",
      "Epoch 55 finished, loss: 1.5330165833234788, accuracy:0.33\n",
      "Epoch 56 finished, loss: 1.531640464067459, accuracy:0.34\n",
      "Epoch 57 finished, loss: 1.5302653670310975, accuracy:0.3525\n",
      "Epoch 58 finished, loss: 1.528871664404869, accuracy:0.3625\n",
      "Epoch 59 finished, loss: 1.5275586873292923, accuracy:0.3725\n",
      "Epoch 60 finished, loss: 1.5262195944786072, accuracy:0.385\n",
      "Epoch 61 finished, loss: 1.5248236745595931, accuracy:0.375\n",
      "Epoch 62 finished, loss: 1.523516419529915, accuracy:0.3875\n",
      "Epoch 63 finished, loss: 1.5222059726715087, accuracy:0.39\n",
      "Epoch 64 finished, loss: 1.520961970090866, accuracy:0.39\n",
      "Epoch 65 finished, loss: 1.519674414396286, accuracy:0.3925\n",
      "Epoch 66 finished, loss: 1.5183509558439254, accuracy:0.395\n",
      "Epoch 67 finished, loss: 1.5172502368688583, accuracy:0.395\n",
      "Epoch 68 finished, loss: 1.5157290160655976, accuracy:0.395\n",
      "Epoch 69 finished, loss: 1.5144850194454194, accuracy:0.4\n",
      "Epoch 70 finished, loss: 1.5132352530956268, accuracy:0.4025\n",
      "Epoch 71 finished, loss: 1.511986768245697, accuracy:0.4125\n",
      "Epoch 72 finished, loss: 1.5106964468955995, accuracy:0.415\n",
      "Epoch 73 finished, loss: 1.5094652473926544, accuracy:0.4175\n",
      "Epoch 74 finished, loss: 1.5082731634378432, accuracy:0.42\n",
      "Epoch 75 finished, loss: 1.5069588840007782, accuracy:0.42\n",
      "Epoch 76 finished, loss: 1.5057746767997742, accuracy:0.4175\n",
      "Epoch 77 finished, loss: 1.5045392245054245, accuracy:0.4175\n",
      "Epoch 78 finished, loss: 1.5033039510250092, accuracy:0.4175\n",
      "Epoch 79 finished, loss: 1.5020126074552536, accuracy:0.4175\n",
      "Epoch 80 finished, loss: 1.5008090615272522, accuracy:0.4175\n",
      "Epoch 81 finished, loss: 1.499615815281868, accuracy:0.4175\n",
      "Epoch 82 finished, loss: 1.4983440220355988, accuracy:0.4175\n",
      "Epoch 83 finished, loss: 1.4971127271652223, accuracy:0.42\n",
      "Epoch 84 finished, loss: 1.4959354370832443, accuracy:0.42\n",
      "Epoch 85 finished, loss: 1.4947216898202895, accuracy:0.42\n",
      "Epoch 86 finished, loss: 1.4934801548719405, accuracy:0.42\n",
      "Epoch 87 finished, loss: 1.4922452062368392, accuracy:0.42\n",
      "Epoch 88 finished, loss: 1.4910602182149888, accuracy:0.42\n",
      "Epoch 89 finished, loss: 1.4898991018533707, accuracy:0.4225\n",
      "Epoch 90 finished, loss: 1.4886900633573532, accuracy:0.42\n",
      "Epoch 91 finished, loss: 1.4874029517173768, accuracy:0.42\n",
      "Epoch 92 finished, loss: 1.48623226583004, accuracy:0.42\n",
      "Epoch 93 finished, loss: 1.4849710017442703, accuracy:0.4225\n",
      "Epoch 94 finished, loss: 1.4837718993425368, accuracy:0.4225\n",
      "Epoch 95 finished, loss: 1.4825805008411408, accuracy:0.4225\n",
      "Epoch 96 finished, loss: 1.481344684958458, accuracy:0.4225\n",
      "Epoch 97 finished, loss: 1.4801428973674775, accuracy:0.4225\n",
      "Epoch 98 finished, loss: 1.4789841234683991, accuracy:0.4225\n",
      "Epoch 99 finished, loss: 1.47775696516037, accuracy:0.4225\n",
      "Epoch 100 finished, loss: 1.4765328347682953, accuracy:0.4225\n",
      "Epoch 101 finished, loss: 1.4753135830163955, accuracy:0.4225\n",
      "Epoch 102 finished, loss: 1.474119883775711, accuracy:0.4225\n",
      "Epoch 103 finished, loss: 1.4728995501995086, accuracy:0.4225\n",
      "Epoch 104 finished, loss: 1.4717405527830123, accuracy:0.4225\n",
      "Epoch 105 finished, loss: 1.4705099195241929, accuracy:0.4225\n",
      "Epoch 106 finished, loss: 1.4692820698022842, accuracy:0.4225\n",
      "Epoch 107 finished, loss: 1.468049454689026, accuracy:0.4225\n",
      "Epoch 108 finished, loss: 1.4668755263090134, accuracy:0.425\n",
      "Epoch 109 finished, loss: 1.4656829714775086, accuracy:0.425\n",
      "Epoch 110 finished, loss: 1.4644851326942443, accuracy:0.425\n",
      "Epoch 111 finished, loss: 1.4632423490285873, accuracy:0.425\n",
      "Epoch 112 finished, loss: 1.4620735436677932, accuracy:0.425\n",
      "Epoch 113 finished, loss: 1.4608582705259323, accuracy:0.425\n",
      "Epoch 114 finished, loss: 1.45963254570961, accuracy:0.425\n",
      "Epoch 115 finished, loss: 1.4584611147642135, accuracy:0.425\n",
      "Epoch 116 finished, loss: 1.4572648704051971, accuracy:0.425\n",
      "Epoch 117 finished, loss: 1.4560889810323716, accuracy:0.425\n",
      "Epoch 118 finished, loss: 1.4548053592443466, accuracy:0.425\n",
      "Epoch 119 finished, loss: 1.453619483113289, accuracy:0.425\n",
      "Epoch 120 finished, loss: 1.4524558395147324, accuracy:0.425\n",
      "Epoch 121 finished, loss: 1.4512081056833268, accuracy:0.4275\n",
      "Epoch 122 finished, loss: 1.4500844419002532, accuracy:0.4275\n",
      "Epoch 123 finished, loss: 1.4487759292125701, accuracy:0.4275\n",
      "Epoch 124 finished, loss: 1.4475865066051483, accuracy:0.4275\n",
      "Epoch 125 finished, loss: 1.44638332426548, accuracy:0.4275\n",
      "Epoch 126 finished, loss: 1.4451981961727143, accuracy:0.4275\n",
      "Epoch 127 finished, loss: 1.4439527362585067, accuracy:0.43\n",
      "Epoch 128 finished, loss: 1.4427803486585618, accuracy:0.43\n",
      "Epoch 129 finished, loss: 1.4415840566158296, accuracy:0.43\n",
      "Epoch 130 finished, loss: 1.4403613358736038, accuracy:0.43\n",
      "Epoch 131 finished, loss: 1.4391461730003356, accuracy:0.43\n",
      "Epoch 132 finished, loss: 1.4379304379224778, accuracy:0.43\n",
      "Epoch 133 finished, loss: 1.4367466688156127, accuracy:0.43\n"
     ]
    },
    {
     "name": "stdout",
     "output_type": "stream",
     "text": [
      "Epoch 134 finished, loss: 1.4355888694524765, accuracy:0.43\n",
      "Epoch 135 finished, loss: 1.4343276530504228, accuracy:0.4325\n",
      "Epoch 136 finished, loss: 1.433138933777809, accuracy:0.4325\n",
      "Epoch 137 finished, loss: 1.4319433867931366, accuracy:0.435\n",
      "Epoch 138 finished, loss: 1.4307247281074524, accuracy:0.4375\n",
      "Epoch 139 finished, loss: 1.4295086324214936, accuracy:0.4425\n",
      "Epoch 140 finished, loss: 1.4283787667751313, accuracy:0.445\n",
      "Epoch 141 finished, loss: 1.427139002084732, accuracy:0.445\n",
      "Epoch 142 finished, loss: 1.4259354412555694, accuracy:0.45\n",
      "Epoch 143 finished, loss: 1.4247194170951842, accuracy:0.4675\n",
      "Epoch 144 finished, loss: 1.4235026627779006, accuracy:0.4775\n",
      "Epoch 145 finished, loss: 1.4222822874784469, accuracy:0.4825\n",
      "Epoch 146 finished, loss: 1.4211142838001252, accuracy:0.4925\n",
      "Epoch 147 finished, loss: 1.419932445883751, accuracy:0.4975\n",
      "Epoch 148 finished, loss: 1.418735271692276, accuracy:0.5125\n",
      "Epoch 149 finished, loss: 1.4175016552209854, accuracy:0.53\n",
      "Epoch 150 finished, loss: 1.4163314998149872, accuracy:0.545\n",
      "Epoch 151 finished, loss: 1.4151462584733963, accuracy:0.5525\n",
      "Epoch 152 finished, loss: 1.4139468163251876, accuracy:0.56\n",
      "Epoch 153 finished, loss: 1.412716779112816, accuracy:0.57\n",
      "Epoch 154 finished, loss: 1.4114880949258803, accuracy:0.5725\n",
      "Epoch 155 finished, loss: 1.4103503793478012, accuracy:0.5875\n",
      "Epoch 156 finished, loss: 1.409189185500145, accuracy:0.58\n",
      "Epoch 157 finished, loss: 1.4079875558614732, accuracy:0.6075\n",
      "Epoch 158 finished, loss: 1.4067796111106872, accuracy:0.59\n",
      "Epoch 159 finished, loss: 1.405542144179344, accuracy:0.6075\n",
      "Epoch 160 finished, loss: 1.4043808460235596, accuracy:0.6175\n",
      "Epoch 161 finished, loss: 1.4031829595565797, accuracy:0.615\n",
      "Epoch 162 finished, loss: 1.4019840002059936, accuracy:0.6225\n",
      "Epoch 163 finished, loss: 1.4008207708597182, accuracy:0.6275\n",
      "Epoch 164 finished, loss: 1.3996287792921067, accuracy:0.63\n",
      "Epoch 165 finished, loss: 1.398415657877922, accuracy:0.63\n",
      "Epoch 166 finished, loss: 1.3972600877285004, accuracy:0.635\n",
      "Epoch 167 finished, loss: 1.3961110562086105, accuracy:0.6375\n",
      "Epoch 168 finished, loss: 1.394876316189766, accuracy:0.6375\n",
      "Epoch 169 finished, loss: 1.3936791121959686, accuracy:0.6375\n",
      "Epoch 170 finished, loss: 1.392552265524864, accuracy:0.6375\n",
      "Epoch 171 finished, loss: 1.3913564145565034, accuracy:0.6375\n",
      "Epoch 172 finished, loss: 1.3902304947376252, accuracy:0.645\n",
      "Epoch 173 finished, loss: 1.3890435546636581, accuracy:0.65\n",
      "Epoch 174 finished, loss: 1.3878167480230332, accuracy:0.645\n",
      "Epoch 175 finished, loss: 1.386705681681633, accuracy:0.645\n",
      "Epoch 176 finished, loss: 1.3855490177869796, accuracy:0.65\n",
      "Epoch 177 finished, loss: 1.3843365460634232, accuracy:0.6525\n",
      "Epoch 178 finished, loss: 1.3831183016300201, accuracy:0.6525\n",
      "Epoch 179 finished, loss: 1.3819838345050812, accuracy:0.65\n",
      "Epoch 180 finished, loss: 1.380854269862175, accuracy:0.6625\n",
      "Epoch 181 finished, loss: 1.3796320348978042, accuracy:0.665\n",
      "Epoch 182 finished, loss: 1.3785417199134826, accuracy:0.655\n",
      "Epoch 183 finished, loss: 1.3772845596075058, accuracy:0.665\n",
      "Epoch 184 finished, loss: 1.3761417537927627, accuracy:0.665\n",
      "Epoch 185 finished, loss: 1.3749999761581422, accuracy:0.665\n",
      "Epoch 186 finished, loss: 1.373848983645439, accuracy:0.665\n",
      "Epoch 187 finished, loss: 1.3726782977581025, accuracy:0.665\n",
      "Epoch 188 finished, loss: 1.3715497732162476, accuracy:0.665\n",
      "Epoch 189 finished, loss: 1.370463389158249, accuracy:0.665\n",
      "Epoch 190 finished, loss: 1.3692566514015199, accuracy:0.665\n",
      "Epoch 191 finished, loss: 1.368051341176033, accuracy:0.665\n",
      "Epoch 192 finished, loss: 1.366898274421692, accuracy:0.665\n",
      "Epoch 193 finished, loss: 1.365742379426956, accuracy:0.665\n",
      "Epoch 194 finished, loss: 1.3646329134702682, accuracy:0.665\n",
      "Epoch 195 finished, loss: 1.3635619848966598, accuracy:0.67\n",
      "Epoch 196 finished, loss: 1.3623109072446824, accuracy:0.675\n",
      "Epoch 197 finished, loss: 1.3611539512872697, accuracy:0.6725\n",
      "Epoch 198 finished, loss: 1.360003012418747, accuracy:0.675\n",
      "Epoch 199 finished, loss: 1.3589232593774796, accuracy:0.675\n",
      "Epoch 200 finished, loss: 1.357715305685997, accuracy:0.675\n",
      "Epoch 201 finished, loss: 1.3566163927316666, accuracy:0.675\n",
      "Epoch 202 finished, loss: 1.3554824411869049, accuracy:0.675\n",
      "Epoch 203 finished, loss: 1.354329252243042, accuracy:0.675\n",
      "Epoch 204 finished, loss: 1.3532342433929443, accuracy:0.675\n",
      "Epoch 205 finished, loss: 1.3521449983119964, accuracy:0.675\n",
      "Epoch 206 finished, loss: 1.3510051161050796, accuracy:0.675\n",
      "Epoch 207 finished, loss: 1.349827814102173, accuracy:0.6775\n",
      "Epoch 208 finished, loss: 1.3486707776784896, accuracy:0.6775\n",
      "Epoch 209 finished, loss: 1.3475247144699096, accuracy:0.68\n",
      "Epoch 210 finished, loss: 1.3464324742555618, accuracy:0.6825\n",
      "Epoch 211 finished, loss: 1.3452838152647018, accuracy:0.6825\n",
      "Epoch 212 finished, loss: 1.3441744804382325, accuracy:0.68\n",
      "Epoch 213 finished, loss: 1.3431079417467118, accuracy:0.685\n",
      "Epoch 214 finished, loss: 1.3419089257717132, accuracy:0.685\n",
      "Epoch 215 finished, loss: 1.3407944440841675, accuracy:0.6875\n",
      "Epoch 216 finished, loss: 1.3396736532449722, accuracy:0.6875\n",
      "Epoch 217 finished, loss: 1.3386019676923753, accuracy:0.6875\n",
      "Epoch 218 finished, loss: 1.3375797808170318, accuracy:0.6875\n",
      "Epoch 219 finished, loss: 1.3363220781087874, accuracy:0.6875\n",
      "Epoch 220 finished, loss: 1.3352717846632003, accuracy:0.6925\n",
      "Epoch 221 finished, loss: 1.3340445667505265, accuracy:0.6875\n",
      "Epoch 222 finished, loss: 1.3329846292734147, accuracy:0.69\n",
      "Epoch 223 finished, loss: 1.3318717628717422, accuracy:0.69\n",
      "Epoch 224 finished, loss: 1.3306912899017334, accuracy:0.69\n",
      "Epoch 225 finished, loss: 1.3295787423849106, accuracy:0.6925\n",
      "Epoch 226 finished, loss: 1.3284685611724854, accuracy:0.6925\n",
      "Epoch 227 finished, loss: 1.3273591488599776, accuracy:0.6925\n",
      "Epoch 228 finished, loss: 1.3262071877717971, accuracy:0.6925\n",
      "Epoch 229 finished, loss: 1.3251933187246323, accuracy:0.6925\n",
      "Epoch 230 finished, loss: 1.3240732431411744, accuracy:0.6925\n",
      "Epoch 231 finished, loss: 1.322933942079544, accuracy:0.6925\n",
      "Epoch 232 finished, loss: 1.3218234449625015, accuracy:0.695\n",
      "Epoch 233 finished, loss: 1.320716142654419, accuracy:0.6925\n",
      "Epoch 234 finished, loss: 1.319589412212372, accuracy:0.6925\n",
      "Epoch 235 finished, loss: 1.3185169517993927, accuracy:0.6925\n",
      "Epoch 236 finished, loss: 1.3173814415931702, accuracy:0.695\n",
      "Epoch 237 finished, loss: 1.3162942767143249, accuracy:0.695\n",
      "Epoch 238 finished, loss: 1.3152532547712326, accuracy:0.695\n",
      "Epoch 239 finished, loss: 1.3141281068325044, accuracy:0.6925\n",
      "Epoch 240 finished, loss: 1.3129871368408204, accuracy:0.6975\n",
      "Epoch 241 finished, loss: 1.3119669735431672, accuracy:0.695\n",
      "Epoch 242 finished, loss: 1.310795933008194, accuracy:0.6975\n",
      "Epoch 243 finished, loss: 1.3097038865089417, accuracy:0.6975\n",
      "Epoch 244 finished, loss: 1.3087346881628037, accuracy:0.6975\n",
      "Epoch 245 finished, loss: 1.3075269788503647, accuracy:0.6975\n",
      "Epoch 246 finished, loss: 1.3065100461244583, accuracy:0.6975\n",
      "Epoch 247 finished, loss: 1.3053313195705414, accuracy:0.6975\n",
      "Epoch 248 finished, loss: 1.3043150782585144, accuracy:0.6975\n",
      "Epoch 249 finished, loss: 1.303254872560501, accuracy:0.7025\n",
      "Epoch 250 finished, loss: 1.3021303415298462, accuracy:0.6975\n",
      "Epoch 251 finished, loss: 1.3010904848575593, accuracy:0.7\n",
      "Epoch 252 finished, loss: 1.2999779760837555, accuracy:0.705\n",
      "Epoch 253 finished, loss: 1.2989034801721573, accuracy:0.7\n",
      "Epoch 254 finished, loss: 1.2977885961532594, accuracy:0.7\n",
      "Epoch 255 finished, loss: 1.2967659026384353, accuracy:0.7075\n",
      "Epoch 256 finished, loss: 1.2957027703523636, accuracy:0.7025\n",
      "Epoch 257 finished, loss: 1.2945760667324067, accuracy:0.7075\n",
      "Epoch 258 finished, loss: 1.293521210551262, accuracy:0.7025\n",
      "Epoch 259 finished, loss: 1.2925278097391129, accuracy:0.7125\n",
      "Epoch 260 finished, loss: 1.291394504904747, accuracy:0.7125\n",
      "Epoch 261 finished, loss: 1.290275177359581, accuracy:0.715\n",
      "Epoch 262 finished, loss: 1.2892150163650513, accuracy:0.7125\n",
      "Epoch 263 finished, loss: 1.2881186366081239, accuracy:0.71\n",
      "Epoch 264 finished, loss: 1.2871146559715272, accuracy:0.7125\n",
      "Epoch 265 finished, loss: 1.2861791878938675, accuracy:0.72\n",
      "Epoch 266 finished, loss: 1.284965306520462, accuracy:0.715\n",
      "Epoch 267 finished, loss: 1.2839391887187959, accuracy:0.715\n",
      "Epoch 268 finished, loss: 1.28289695084095, accuracy:0.7175\n",
      "Epoch 269 finished, loss: 1.281876590847969, accuracy:0.715\n",
      "Epoch 270 finished, loss: 1.2807444721460342, accuracy:0.725\n",
      "Epoch 271 finished, loss: 1.2796881288290023, accuracy:0.7225\n",
      "Epoch 272 finished, loss: 1.2787307739257812, accuracy:0.725\n",
      "Epoch 273 finished, loss: 1.2775746017694474, accuracy:0.725\n"
     ]
    },
    {
     "name": "stdout",
     "output_type": "stream",
     "text": [
      "Epoch 274 finished, loss: 1.2765860706567764, accuracy:0.725\n",
      "Epoch 275 finished, loss: 1.27559095621109, accuracy:0.7225\n",
      "Epoch 276 finished, loss: 1.2744657337665557, accuracy:0.725\n",
      "Epoch 277 finished, loss: 1.2734626293182374, accuracy:0.725\n",
      "Epoch 278 finished, loss: 1.272434514760971, accuracy:0.725\n",
      "Epoch 279 finished, loss: 1.2713997662067413, accuracy:0.7275\n",
      "Epoch 280 finished, loss: 1.2702911913394928, accuracy:0.7275\n",
      "Epoch 281 finished, loss: 1.2692651569843292, accuracy:0.7275\n",
      "Epoch 282 finished, loss: 1.268244171142578, accuracy:0.73\n",
      "Epoch 283 finished, loss: 1.2672714740037918, accuracy:0.73\n",
      "Epoch 284 finished, loss: 1.2661648899316789, accuracy:0.73\n",
      "Epoch 285 finished, loss: 1.2651439636945725, accuracy:0.73\n",
      "Epoch 286 finished, loss: 1.264110490679741, accuracy:0.73\n",
      "Epoch 287 finished, loss: 1.2630628585815429, accuracy:0.73\n",
      "Epoch 288 finished, loss: 1.2620800107717514, accuracy:0.73\n",
      "Epoch 289 finished, loss: 1.261035904288292, accuracy:0.735\n",
      "Epoch 290 finished, loss: 1.260035479068756, accuracy:0.7325\n",
      "Epoch 291 finished, loss: 1.2590507000684739, accuracy:0.7325\n",
      "Epoch 292 finished, loss: 1.2579904079437256, accuracy:0.7325\n",
      "Epoch 293 finished, loss: 1.2569487661123275, accuracy:0.735\n",
      "Epoch 294 finished, loss: 1.2559509247541427, accuracy:0.735\n",
      "Epoch 295 finished, loss: 1.2548867762088776, accuracy:0.735\n",
      "Epoch 296 finished, loss: 1.2538917273283006, accuracy:0.735\n",
      "Epoch 297 finished, loss: 1.2528611660003661, accuracy:0.7375\n",
      "Epoch 298 finished, loss: 1.2518526941537857, accuracy:0.7375\n",
      "Epoch 299 finished, loss: 1.250900647044182, accuracy:0.735\n",
      "Epoch 300 finished, loss: 1.249845415353775, accuracy:0.735\n",
      "Epoch 301 finished, loss: 1.2488451987504958, accuracy:0.74\n",
      "Epoch 302 finished, loss: 1.247862657904625, accuracy:0.745\n",
      "Epoch 303 finished, loss: 1.2468505382537842, accuracy:0.7375\n",
      "Epoch 304 finished, loss: 1.2457806497812272, accuracy:0.7425\n",
      "Epoch 305 finished, loss: 1.2448517978191376, accuracy:0.7425\n",
      "Epoch 306 finished, loss: 1.2438887745141982, accuracy:0.745\n",
      "Epoch 307 finished, loss: 1.242849388718605, accuracy:0.745\n",
      "Epoch 308 finished, loss: 1.2418120354413986, accuracy:0.7475\n",
      "Epoch 309 finished, loss: 1.2408018946647643, accuracy:0.7475\n",
      "Epoch 310 finished, loss: 1.2398256331682205, accuracy:0.7425\n",
      "Epoch 311 finished, loss: 1.2388007164001464, accuracy:0.7475\n",
      "Epoch 312 finished, loss: 1.2378863364458084, accuracy:0.7475\n",
      "Epoch 313 finished, loss: 1.2367682456970215, accuracy:0.7475\n",
      "Epoch 314 finished, loss: 1.235800915956497, accuracy:0.7475\n",
      "Epoch 315 finished, loss: 1.2348340630531311, accuracy:0.7475\n",
      "Epoch 316 finished, loss: 1.233868584036827, accuracy:0.7475\n",
      "Epoch 317 finished, loss: 1.232797336578369, accuracy:0.7475\n",
      "Epoch 318 finished, loss: 1.2318511426448822, accuracy:0.7475\n",
      "Epoch 319 finished, loss: 1.230893549323082, accuracy:0.7475\n",
      "Epoch 320 finished, loss: 1.2298522144556046, accuracy:0.7475\n",
      "Epoch 321 finished, loss: 1.2289853870868683, accuracy:0.75\n",
      "Epoch 322 finished, loss: 1.2278719186782836, accuracy:0.75\n",
      "Epoch 323 finished, loss: 1.2268818497657776, accuracy:0.75\n",
      "Epoch 324 finished, loss: 1.2258913815021515, accuracy:0.75\n",
      "Epoch 325 finished, loss: 1.2250537812709807, accuracy:0.75\n",
      "Epoch 326 finished, loss: 1.2239634215831756, accuracy:0.75\n",
      "Epoch 327 finished, loss: 1.2229429960250855, accuracy:0.75\n",
      "Epoch 328 finished, loss: 1.2219721615314483, accuracy:0.75\n",
      "Epoch 329 finished, loss: 1.2209738731384276, accuracy:0.7525\n",
      "Epoch 330 finished, loss: 1.2199849516153336, accuracy:0.7525\n",
      "Epoch 331 finished, loss: 1.2190349340438842, accuracy:0.7525\n",
      "Epoch 332 finished, loss: 1.2180189341306686, accuracy:0.75\n",
      "Epoch 333 finished, loss: 1.2170908808708192, accuracy:0.755\n",
      "Epoch 334 finished, loss: 1.216113565862179, accuracy:0.7575\n",
      "Epoch 335 finished, loss: 1.2151602804660797, accuracy:0.7525\n",
      "Epoch 336 finished, loss: 1.2141631543636322, accuracy:0.755\n",
      "Epoch 337 finished, loss: 1.2132021635770798, accuracy:0.755\n",
      "Epoch 338 finished, loss: 1.212171271443367, accuracy:0.7575\n",
      "Epoch 339 finished, loss: 1.211236572265625, accuracy:0.7575\n",
      "Epoch 340 finished, loss: 1.2102561324834824, accuracy:0.7575\n",
      "Epoch 341 finished, loss: 1.209343808889389, accuracy:0.7575\n",
      "Epoch 342 finished, loss: 1.2083889931440353, accuracy:0.7575\n",
      "Epoch 343 finished, loss: 1.207406359910965, accuracy:0.7575\n",
      "Epoch 344 finished, loss: 1.2064193546772004, accuracy:0.7575\n",
      "Epoch 345 finished, loss: 1.205450175702572, accuracy:0.7575\n",
      "Epoch 346 finished, loss: 1.2045317471027375, accuracy:0.76\n",
      "Epoch 347 finished, loss: 1.2035624831914902, accuracy:0.7625\n",
      "Epoch 348 finished, loss: 1.2025733023881913, accuracy:0.7625\n",
      "Epoch 349 finished, loss: 1.201711791753769, accuracy:0.7575\n",
      "Epoch 350 finished, loss: 1.2006511986255646, accuracy:0.7575\n",
      "Epoch 351 finished, loss: 1.1997532278299332, accuracy:0.7625\n",
      "Epoch 352 finished, loss: 1.198778197169304, accuracy:0.7625\n",
      "Epoch 353 finished, loss: 1.1977761894464494, accuracy:0.7625\n",
      "Epoch 354 finished, loss: 1.1968974947929383, accuracy:0.7625\n",
      "Epoch 355 finished, loss: 1.195958599448204, accuracy:0.7625\n",
      "Epoch 356 finished, loss: 1.194957685470581, accuracy:0.765\n",
      "Epoch 357 finished, loss: 1.1939950257539749, accuracy:0.7625\n",
      "Epoch 358 finished, loss: 1.1930682510137558, accuracy:0.765\n",
      "Epoch 359 finished, loss: 1.1920935794711114, accuracy:0.7675\n",
      "Epoch 360 finished, loss: 1.1911263048648835, accuracy:0.7625\n",
      "Epoch 361 finished, loss: 1.1901572853326798, accuracy:0.765\n",
      "Epoch 362 finished, loss: 1.1892314180731773, accuracy:0.775\n",
      "Epoch 363 finished, loss: 1.188301296532154, accuracy:0.765\n",
      "Epoch 364 finished, loss: 1.1873960047960281, accuracy:0.7675\n",
      "Epoch 365 finished, loss: 1.1863975077867508, accuracy:0.77\n",
      "Epoch 366 finished, loss: 1.185452836751938, accuracy:0.7675\n",
      "Epoch 367 finished, loss: 1.1845687001943588, accuracy:0.77\n",
      "Epoch 368 finished, loss: 1.1835165649652482, accuracy:0.7675\n",
      "Epoch 369 finished, loss: 1.1826349824666977, accuracy:0.765\n",
      "Epoch 370 finished, loss: 1.1817088335752488, accuracy:0.765\n",
      "Epoch 371 finished, loss: 1.1807149678468705, accuracy:0.7725\n",
      "Epoch 372 finished, loss: 1.1798031792044639, accuracy:0.775\n",
      "Epoch 373 finished, loss: 1.1788466811180114, accuracy:0.77\n",
      "Epoch 374 finished, loss: 1.1779024392366408, accuracy:0.775\n",
      "Epoch 375 finished, loss: 1.1770520329475402, accuracy:0.775\n",
      "Epoch 376 finished, loss: 1.1760526701807976, accuracy:0.775\n",
      "Epoch 377 finished, loss: 1.1751430928707123, accuracy:0.775\n",
      "Epoch 378 finished, loss: 1.1742596745491027, accuracy:0.7775\n",
      "Epoch 379 finished, loss: 1.1732944548130035, accuracy:0.7775\n",
      "Epoch 380 finished, loss: 1.172376661002636, accuracy:0.7775\n",
      "Epoch 381 finished, loss: 1.1714464128017426, accuracy:0.7775\n",
      "Epoch 382 finished, loss: 1.1705426022410392, accuracy:0.7775\n",
      "Epoch 383 finished, loss: 1.1696106359362601, accuracy:0.7775\n",
      "Epoch 384 finished, loss: 1.16872535943985, accuracy:0.7775\n",
      "Epoch 385 finished, loss: 1.1677676558494567, accuracy:0.7775\n",
      "Epoch 386 finished, loss: 1.166833445429802, accuracy:0.7775\n",
      "Epoch 387 finished, loss: 1.1659020334482193, accuracy:0.7775\n",
      "Epoch 388 finished, loss: 1.16503544151783, accuracy:0.7775\n",
      "Epoch 389 finished, loss: 1.164073607325554, accuracy:0.7775\n",
      "Epoch 390 finished, loss: 1.1632005512714385, accuracy:0.78\n",
      "Epoch 391 finished, loss: 1.1622429862618446, accuracy:0.78\n",
      "Epoch 392 finished, loss: 1.16137855052948, accuracy:0.78\n",
      "Epoch 393 finished, loss: 1.160446560382843, accuracy:0.78\n",
      "Epoch 394 finished, loss: 1.1595883026719094, accuracy:0.78\n",
      "Epoch 395 finished, loss: 1.158707745373249, accuracy:0.78\n",
      "Epoch 396 finished, loss: 1.157720935344696, accuracy:0.78\n",
      "Epoch 397 finished, loss: 1.1568415358662605, accuracy:0.78\n",
      "Epoch 398 finished, loss: 1.1559398576617241, accuracy:0.78\n",
      "Epoch 399 finished, loss: 1.1550365030765533, accuracy:0.7825\n",
      "Epoch 400 finished, loss: 1.1541729852557183, accuracy:0.78\n",
      "Epoch 401 finished, loss: 1.153213407099247, accuracy:0.7825\n",
      "Epoch 402 finished, loss: 1.152378261089325, accuracy:0.785\n",
      "Epoch 403 finished, loss: 1.1514608889818192, accuracy:0.7825\n",
      "Epoch 404 finished, loss: 1.1505472928285598, accuracy:0.785\n",
      "Epoch 405 finished, loss: 1.1496403530240058, accuracy:0.785\n",
      "Epoch 406 finished, loss: 1.1487456157803535, accuracy:0.785\n",
      "Epoch 407 finished, loss: 1.1479143276810646, accuracy:0.785\n",
      "Epoch 408 finished, loss: 1.147006982564926, accuracy:0.7825\n"
     ]
    },
    {
     "name": "stdout",
     "output_type": "stream",
     "text": [
      "Epoch 409 finished, loss: 1.1461319386959077, accuracy:0.785\n",
      "Epoch 410 finished, loss: 1.145190140604973, accuracy:0.785\n",
      "Epoch 411 finished, loss: 1.144281952083111, accuracy:0.785\n",
      "Epoch 412 finished, loss: 1.143425777554512, accuracy:0.785\n",
      "Epoch 413 finished, loss: 1.1425446763634681, accuracy:0.785\n",
      "Epoch 414 finished, loss: 1.141650454699993, accuracy:0.785\n",
      "Epoch 415 finished, loss: 1.1407668203115464, accuracy:0.785\n",
      "Epoch 416 finished, loss: 1.1398436695337295, accuracy:0.785\n",
      "Epoch 417 finished, loss: 1.1390187233686446, accuracy:0.785\n",
      "Epoch 418 finished, loss: 1.1381282582879066, accuracy:0.785\n",
      "Epoch 419 finished, loss: 1.1372725501656533, accuracy:0.785\n",
      "Epoch 420 finished, loss: 1.136397297680378, accuracy:0.785\n",
      "Epoch 421 finished, loss: 1.1355253070592881, accuracy:0.785\n",
      "Epoch 422 finished, loss: 1.1346317365765572, accuracy:0.785\n",
      "Epoch 423 finished, loss: 1.1337116584181786, accuracy:0.785\n",
      "Epoch 424 finished, loss: 1.1328942805528641, accuracy:0.785\n",
      "Epoch 425 finished, loss: 1.1320373564958572, accuracy:0.785\n",
      "Epoch 426 finished, loss: 1.1312108933925629, accuracy:0.785\n",
      "Epoch 427 finished, loss: 1.130282674729824, accuracy:0.785\n",
      "Epoch 428 finished, loss: 1.1293639838695526, accuracy:0.785\n",
      "Epoch 429 finished, loss: 1.1285476773977279, accuracy:0.785\n",
      "Epoch 430 finished, loss: 1.1276469215750695, accuracy:0.785\n",
      "Epoch 431 finished, loss: 1.1268066227436067, accuracy:0.785\n",
      "Epoch 432 finished, loss: 1.1259581759572028, accuracy:0.785\n",
      "Epoch 433 finished, loss: 1.1250409305095672, accuracy:0.785\n",
      "Epoch 434 finished, loss: 1.1241980776190759, accuracy:0.785\n",
      "Epoch 435 finished, loss: 1.1233177289366723, accuracy:0.785\n",
      "Epoch 436 finished, loss: 1.1224481076002122, accuracy:0.7875\n",
      "Epoch 437 finished, loss: 1.1216458097100257, accuracy:0.7875\n",
      "Epoch 438 finished, loss: 1.120751316845417, accuracy:0.7875\n",
      "Epoch 439 finished, loss: 1.119980412721634, accuracy:0.7875\n",
      "Epoch 440 finished, loss: 1.119053703546524, accuracy:0.79\n",
      "Epoch 441 finished, loss: 1.1181814908981322, accuracy:0.79\n",
      "Epoch 442 finished, loss: 1.1174208030104638, accuracy:0.7925\n",
      "Epoch 443 finished, loss: 1.1165595650672913, accuracy:0.795\n",
      "Epoch 444 finished, loss: 1.1156810984015464, accuracy:0.7975\n",
      "Epoch 445 finished, loss: 1.114789842069149, accuracy:0.7975\n",
      "Epoch 446 finished, loss: 1.113997831940651, accuracy:0.7975\n",
      "Epoch 447 finished, loss: 1.1131331577897072, accuracy:0.7925\n",
      "Epoch 448 finished, loss: 1.1122670203447342, accuracy:0.7975\n",
      "Epoch 449 finished, loss: 1.111448810994625, accuracy:0.7975\n",
      "Epoch 450 finished, loss: 1.1106017723679542, accuracy:0.7975\n",
      "Epoch 451 finished, loss: 1.1097368165850638, accuracy:0.7975\n",
      "Epoch 452 finished, loss: 1.1088870897889138, accuracy:0.7975\n",
      "Epoch 453 finished, loss: 1.1080267593264579, accuracy:0.7975\n",
      "Epoch 454 finished, loss: 1.1072518333792687, accuracy:0.7975\n",
      "Epoch 455 finished, loss: 1.1063775822520256, accuracy:0.7975\n",
      "Epoch 456 finished, loss: 1.1055305361747743, accuracy:0.7975\n",
      "Epoch 457 finished, loss: 1.1047148883342743, accuracy:0.7975\n",
      "Epoch 458 finished, loss: 1.1038700565695763, accuracy:0.7975\n",
      "Epoch 459 finished, loss: 1.1029715210199356, accuracy:0.7975\n",
      "Epoch 460 finished, loss: 1.1021902665495873, accuracy:0.7975\n",
      "Epoch 461 finished, loss: 1.1013847604393958, accuracy:0.7975\n",
      "Epoch 462 finished, loss: 1.1005303665995598, accuracy:0.7975\n",
      "Epoch 463 finished, loss: 1.0996584698557854, accuracy:0.7975\n",
      "Epoch 464 finished, loss: 1.0989153191447258, accuracy:0.7975\n",
      "Epoch 465 finished, loss: 1.0980106011033057, accuracy:0.7975\n",
      "Epoch 466 finished, loss: 1.0972102582454681, accuracy:0.7975\n",
      "Epoch 467 finished, loss: 1.096392698585987, accuracy:0.7975\n",
      "Epoch 468 finished, loss: 1.0955454394221307, accuracy:0.7975\n",
      "Epoch 469 finished, loss: 1.094725665450096, accuracy:0.7975\n",
      "Epoch 470 finished, loss: 1.0939409479498863, accuracy:0.7975\n",
      "Epoch 471 finished, loss: 1.0931708484888076, accuracy:0.7975\n",
      "Epoch 472 finished, loss: 1.0922788053750991, accuracy:0.7975\n",
      "Epoch 473 finished, loss: 1.0914362728595735, accuracy:0.7975\n",
      "Epoch 474 finished, loss: 1.0906046479940414, accuracy:0.7975\n",
      "Epoch 475 finished, loss: 1.0898427024483681, accuracy:0.7975\n",
      "Epoch 476 finished, loss: 1.0890335246920586, accuracy:0.7975\n",
      "Epoch 477 finished, loss: 1.0881945297122002, accuracy:0.7975\n",
      "Epoch 478 finished, loss: 1.0874190017580987, accuracy:0.7975\n",
      "Epoch 479 finished, loss: 1.086541973054409, accuracy:0.8\n",
      "Epoch 480 finished, loss: 1.085736085474491, accuracy:0.7975\n",
      "Epoch 481 finished, loss: 1.0849673479795456, accuracy:0.7975\n",
      "Epoch 482 finished, loss: 1.0841043591499329, accuracy:0.7975\n",
      "Epoch 483 finished, loss: 1.08331251591444, accuracy:0.7975\n",
      "Epoch 484 finished, loss: 1.0825399458408356, accuracy:0.7975\n",
      "Epoch 485 finished, loss: 1.0817636579275132, accuracy:0.7975\n",
      "Epoch 486 finished, loss: 1.0809152185916902, accuracy:0.8\n",
      "Epoch 487 finished, loss: 1.0800688520073891, accuracy:0.8\n",
      "Epoch 488 finished, loss: 1.0792930647730827, accuracy:0.7975\n",
      "Epoch 489 finished, loss: 1.0784599497914313, accuracy:0.8\n",
      "Epoch 490 finished, loss: 1.077719734609127, accuracy:0.8\n",
      "Epoch 491 finished, loss: 1.076897995173931, accuracy:0.8\n",
      "Epoch 492 finished, loss: 1.0760760724544525, accuracy:0.7975\n",
      "Epoch 493 finished, loss: 1.0752284705638886, accuracy:0.8\n",
      "Epoch 494 finished, loss: 1.074484221637249, accuracy:0.8\n",
      "Epoch 495 finished, loss: 1.0736965522170068, accuracy:0.8\n",
      "Epoch 496 finished, loss: 1.072854171693325, accuracy:0.8\n",
      "Epoch 497 finished, loss: 1.0720677748322487, accuracy:0.8\n",
      "Epoch 498 finished, loss: 1.0712824687361717, accuracy:0.8\n",
      "Epoch 499 finished, loss: 1.070474709570408, accuracy:0.8\n",
      "Epoch 500 finished, loss: 1.0697103589773178, accuracy:0.8\n",
      "Epoch 501 finished, loss: 1.0689023658633232, accuracy:0.8\n",
      "Epoch 502 finished, loss: 1.0681250855326652, accuracy:0.8\n",
      "Epoch 503 finished, loss: 1.067388617992401, accuracy:0.8\n",
      "Epoch 504 finished, loss: 1.0665596589446067, accuracy:0.8\n",
      "Epoch 505 finished, loss: 1.0658351346850394, accuracy:0.8\n",
      "Epoch 506 finished, loss: 1.0649949789047242, accuracy:0.8\n",
      "Epoch 507 finished, loss: 1.0642261236906052, accuracy:0.8\n",
      "Epoch 508 finished, loss: 1.063408002257347, accuracy:0.8\n",
      "Epoch 509 finished, loss: 1.0626645237207413, accuracy:0.8\n",
      "Epoch 510 finished, loss: 1.0618604302406311, accuracy:0.8\n",
      "Epoch 511 finished, loss: 1.0610765725374223, accuracy:0.8\n",
      "Epoch 512 finished, loss: 1.0602864518761634, accuracy:0.8\n",
      "Epoch 513 finished, loss: 1.0595494627952575, accuracy:0.8\n",
      "Epoch 514 finished, loss: 1.0587717473506928, accuracy:0.8025\n",
      "Epoch 515 finished, loss: 1.0580232739448547, accuracy:0.8025\n",
      "Epoch 516 finished, loss: 1.0572030767798424, accuracy:0.8\n",
      "Epoch 517 finished, loss: 1.0564591318368912, accuracy:0.8\n",
      "Epoch 518 finished, loss: 1.0556937232613564, accuracy:0.8025\n",
      "Epoch 519 finished, loss: 1.0549367383122443, accuracy:0.8025\n",
      "Epoch 520 finished, loss: 1.054098331928253, accuracy:0.8\n",
      "Epoch 521 finished, loss: 1.0534023508429526, accuracy:0.8025\n",
      "Epoch 522 finished, loss: 1.0525993168354035, accuracy:0.8025\n",
      "Epoch 523 finished, loss: 1.0518183797597884, accuracy:0.8\n",
      "Epoch 524 finished, loss: 1.051083531975746, accuracy:0.8025\n",
      "Epoch 525 finished, loss: 1.0503398314118386, accuracy:0.8025\n",
      "Epoch 526 finished, loss: 1.049526822566986, accuracy:0.8025\n",
      "Epoch 527 finished, loss: 1.0488275274634362, accuracy:0.8025\n",
      "Epoch 528 finished, loss: 1.0479803875088691, accuracy:0.8025\n",
      "Epoch 529 finished, loss: 1.0472645923495292, accuracy:0.8025\n",
      "Epoch 530 finished, loss: 1.046554332971573, accuracy:0.8025\n",
      "Epoch 531 finished, loss: 1.045721560716629, accuracy:0.8025\n",
      "Epoch 532 finished, loss: 1.0449590340256691, accuracy:0.8025\n",
      "Epoch 533 finished, loss: 1.0442029118537903, accuracy:0.8025\n",
      "Epoch 534 finished, loss: 1.0434577867388726, accuracy:0.8025\n",
      "Epoch 535 finished, loss: 1.0426917120814323, accuracy:0.8025\n",
      "Epoch 536 finished, loss: 1.041913416981697, accuracy:0.8025\n",
      "Epoch 537 finished, loss: 1.041145697236061, accuracy:0.8025\n",
      "Epoch 538 finished, loss: 1.0404496997594834, accuracy:0.8025\n",
      "Epoch 539 finished, loss: 1.039655727148056, accuracy:0.8025\n",
      "Epoch 540 finished, loss: 1.0389064997434616, accuracy:0.8025\n",
      "Epoch 541 finished, loss: 1.03816998898983, accuracy:0.8025\n",
      "Epoch 542 finished, loss: 1.0374522358179092, accuracy:0.8025\n",
      "Epoch 543 finished, loss: 1.0366943061351777, accuracy:0.8025\n",
      "Epoch 544 finished, loss: 1.0358971565961839, accuracy:0.8025\n"
     ]
    },
    {
     "name": "stdout",
     "output_type": "stream",
     "text": [
      "Epoch 545 finished, loss: 1.0351388841867446, accuracy:0.8025\n",
      "Epoch 546 finished, loss: 1.034417125582695, accuracy:0.8025\n",
      "Epoch 547 finished, loss: 1.0336764588952065, accuracy:0.8025\n",
      "Epoch 548 finished, loss: 1.0329699471592904, accuracy:0.8025\n",
      "Epoch 549 finished, loss: 1.03218055665493, accuracy:0.8025\n",
      "Epoch 550 finished, loss: 1.031451340019703, accuracy:0.8025\n",
      "Epoch 551 finished, loss: 1.0307082146406175, accuracy:0.8025\n",
      "Epoch 552 finished, loss: 1.0299386069178582, accuracy:0.8025\n",
      "Epoch 553 finished, loss: 1.0292165234684945, accuracy:0.805\n",
      "Epoch 554 finished, loss: 1.028490974009037, accuracy:0.805\n",
      "Epoch 555 finished, loss: 1.0277570113539696, accuracy:0.8025\n",
      "Epoch 556 finished, loss: 1.0269658073782921, accuracy:0.8025\n",
      "Epoch 557 finished, loss: 1.026241771876812, accuracy:0.8025\n",
      "Epoch 558 finished, loss: 1.025532454252243, accuracy:0.8025\n",
      "Epoch 559 finished, loss: 1.0248153015971184, accuracy:0.805\n",
      "Epoch 560 finished, loss: 1.0240635082125664, accuracy:0.805\n",
      "Epoch 561 finished, loss: 1.023340843617916, accuracy:0.805\n",
      "Epoch 562 finished, loss: 1.0226315945386886, accuracy:0.805\n",
      "Epoch 563 finished, loss: 1.0218341514468192, accuracy:0.805\n",
      "Epoch 564 finished, loss: 1.0211401358246803, accuracy:0.805\n",
      "Epoch 565 finished, loss: 1.0204171448946, accuracy:0.805\n",
      "Epoch 566 finished, loss: 1.0196655139327049, accuracy:0.805\n",
      "Epoch 567 finished, loss: 1.0189439877867699, accuracy:0.805\n",
      "Epoch 568 finished, loss: 1.0182614833116532, accuracy:0.805\n",
      "Epoch 569 finished, loss: 1.017455779016018, accuracy:0.805\n",
      "Epoch 570 finished, loss: 1.016817571222782, accuracy:0.805\n",
      "Epoch 571 finished, loss: 1.0159966960549354, accuracy:0.805\n",
      "Epoch 572 finished, loss: 1.0153392747044563, accuracy:0.805\n",
      "Epoch 573 finished, loss: 1.014559242129326, accuracy:0.805\n",
      "Epoch 574 finished, loss: 1.0138756796717643, accuracy:0.805\n",
      "Epoch 575 finished, loss: 1.0131723314523697, accuracy:0.805\n",
      "Epoch 576 finished, loss: 1.0124104127287865, accuracy:0.805\n",
      "Epoch 577 finished, loss: 1.0117716446518898, accuracy:0.805\n",
      "Epoch 578 finished, loss: 1.0109867364168168, accuracy:0.805\n",
      "Epoch 579 finished, loss: 1.010268934071064, accuracy:0.805\n",
      "Epoch 580 finished, loss: 1.0095466837286948, accuracy:0.805\n",
      "Epoch 581 finished, loss: 1.0088287204504014, accuracy:0.805\n",
      "Epoch 582 finished, loss: 1.00813430249691, accuracy:0.805\n",
      "Epoch 583 finished, loss: 1.0074329510331155, accuracy:0.805\n",
      "Epoch 584 finished, loss: 1.00675830245018, accuracy:0.805\n",
      "Epoch 585 finished, loss: 1.0060192808508872, accuracy:0.805\n",
      "Epoch 586 finished, loss: 1.0053546875715256, accuracy:0.805\n",
      "Epoch 587 finished, loss: 1.004559949040413, accuracy:0.805\n",
      "Epoch 588 finished, loss: 1.0039020225405693, accuracy:0.805\n",
      "Epoch 589 finished, loss: 1.0031612351536752, accuracy:0.805\n",
      "Epoch 590 finished, loss: 1.0024685084819793, accuracy:0.805\n",
      "Epoch 591 finished, loss: 1.001778782904148, accuracy:0.805\n",
      "Epoch 592 finished, loss: 1.0010342255234719, accuracy:0.805\n",
      "Epoch 593 finished, loss: 1.0003364473581313, accuracy:0.805\n",
      "Epoch 594 finished, loss: 0.9996959954500199, accuracy:0.805\n",
      "Epoch 595 finished, loss: 0.9989581942558289, accuracy:0.805\n",
      "Epoch 596 finished, loss: 0.9983370512723923, accuracy:0.805\n",
      "Epoch 597 finished, loss: 0.997581884264946, accuracy:0.805\n",
      "Epoch 598 finished, loss: 0.9968488499522209, accuracy:0.805\n",
      "Epoch 599 finished, loss: 0.9961765870451927, accuracy:0.805\n",
      "Epoch 600 finished, loss: 0.9954574480652809, accuracy:0.805\n",
      "Epoch 601 finished, loss: 0.9948466911911964, accuracy:0.805\n",
      "Epoch 602 finished, loss: 0.994100221991539, accuracy:0.805\n",
      "Epoch 603 finished, loss: 0.9933690220117569, accuracy:0.805\n",
      "Epoch 604 finished, loss: 0.9927105873823165, accuracy:0.805\n",
      "Epoch 605 finished, loss: 0.9920314133167267, accuracy:0.805\n",
      "Epoch 606 finished, loss: 0.9912631303071976, accuracy:0.805\n",
      "Epoch 607 finished, loss: 0.9906366243958473, accuracy:0.805\n",
      "Epoch 608 finished, loss: 0.9899391770362854, accuracy:0.805\n",
      "Epoch 609 finished, loss: 0.989326323568821, accuracy:0.805\n",
      "Epoch 610 finished, loss: 0.988518288731575, accuracy:0.805\n",
      "Epoch 611 finished, loss: 0.98789182305336, accuracy:0.805\n",
      "Epoch 612 finished, loss: 0.9871961295604705, accuracy:0.805\n",
      "Epoch 613 finished, loss: 0.9865430772304535, accuracy:0.805\n",
      "Epoch 614 finished, loss: 0.985843825340271, accuracy:0.805\n",
      "Epoch 615 finished, loss: 0.9851587444543839, accuracy:0.805\n",
      "Epoch 616 finished, loss: 0.9844572320580482, accuracy:0.805\n",
      "Epoch 617 finished, loss: 0.9837617769837379, accuracy:0.805\n",
      "Epoch 618 finished, loss: 0.9831172883510589, accuracy:0.805\n",
      "Epoch 619 finished, loss: 0.9824563756585121, accuracy:0.805\n",
      "Epoch 620 finished, loss: 0.9818048655986786, accuracy:0.805\n",
      "Epoch 621 finished, loss: 0.9810482814908028, accuracy:0.805\n",
      "Epoch 622 finished, loss: 0.9804221808910369, accuracy:0.805\n",
      "Epoch 623 finished, loss: 0.9797255426645279, accuracy:0.805\n",
      "Epoch 624 finished, loss: 0.9790797486901284, accuracy:0.805\n",
      "Epoch 625 finished, loss: 0.9784061148762703, accuracy:0.805\n",
      "Epoch 626 finished, loss: 0.9777650713920594, accuracy:0.805\n",
      "Epoch 627 finished, loss: 0.9771009415388108, accuracy:0.805\n",
      "Epoch 628 finished, loss: 0.9764084339141845, accuracy:0.805\n",
      "Epoch 629 finished, loss: 0.9757075354456901, accuracy:0.805\n",
      "Epoch 630 finished, loss: 0.9750477999448777, accuracy:0.805\n",
      "Epoch 631 finished, loss: 0.9744189903140068, accuracy:0.805\n",
      "Epoch 632 finished, loss: 0.9736747041344642, accuracy:0.805\n",
      "Epoch 633 finished, loss: 0.9730956226587295, accuracy:0.805\n",
      "Epoch 634 finished, loss: 0.9723579421639442, accuracy:0.805\n",
      "Epoch 635 finished, loss: 0.9717303395271302, accuracy:0.805\n",
      "Epoch 636 finished, loss: 0.9710533767938614, accuracy:0.805\n",
      "Epoch 637 finished, loss: 0.9704285979270935, accuracy:0.805\n",
      "Epoch 638 finished, loss: 0.9697428598999978, accuracy:0.805\n",
      "Epoch 639 finished, loss: 0.9691482961177826, accuracy:0.805\n",
      "Epoch 640 finished, loss: 0.9684121325612068, accuracy:0.805\n",
      "Epoch 641 finished, loss: 0.9677836939692497, accuracy:0.805\n",
      "Epoch 642 finished, loss: 0.9671191513538361, accuracy:0.805\n",
      "Epoch 643 finished, loss: 0.966440586745739, accuracy:0.805\n",
      "Epoch 644 finished, loss: 0.9658208236098289, accuracy:0.805\n",
      "Epoch 645 finished, loss: 0.9651902303099632, accuracy:0.805\n",
      "Epoch 646 finished, loss: 0.9645237416028977, accuracy:0.805\n",
      "Epoch 647 finished, loss: 0.9638874053955078, accuracy:0.805\n",
      "Epoch 648 finished, loss: 0.9632351636886597, accuracy:0.805\n",
      "Epoch 649 finished, loss: 0.9625552743673325, accuracy:0.805\n",
      "Epoch 650 finished, loss: 0.9618884861469269, accuracy:0.805\n",
      "Epoch 651 finished, loss: 0.961231978237629, accuracy:0.805\n",
      "Epoch 652 finished, loss: 0.9606218039989471, accuracy:0.805\n",
      "Epoch 653 finished, loss: 0.9599450647830963, accuracy:0.805\n",
      "Epoch 654 finished, loss: 0.9593064725399018, accuracy:0.805\n",
      "Epoch 655 finished, loss: 0.9586387246847152, accuracy:0.805\n",
      "Epoch 656 finished, loss: 0.9579899251461029, accuracy:0.805\n",
      "Epoch 657 finished, loss: 0.9573549449443817, accuracy:0.805\n",
      "Epoch 658 finished, loss: 0.9566784158349038, accuracy:0.805\n",
      "Epoch 659 finished, loss: 0.956065584719181, accuracy:0.805\n",
      "Epoch 660 finished, loss: 0.9554477736353875, accuracy:0.805\n",
      "Epoch 661 finished, loss: 0.9548006966710091, accuracy:0.805\n",
      "Epoch 662 finished, loss: 0.9541692316532135, accuracy:0.805\n",
      "Epoch 663 finished, loss: 0.9535049065947533, accuracy:0.805\n",
      "Epoch 664 finished, loss: 0.9528500139713287, accuracy:0.805\n",
      "Epoch 665 finished, loss: 0.9522538676857948, accuracy:0.805\n",
      "Epoch 666 finished, loss: 0.9516022726893425, accuracy:0.805\n",
      "Epoch 667 finished, loss: 0.9509557738900185, accuracy:0.805\n",
      "Epoch 668 finished, loss: 0.9503126114606857, accuracy:0.805\n",
      "Epoch 669 finished, loss: 0.9496584117412568, accuracy:0.805\n",
      "Epoch 670 finished, loss: 0.9490176260471344, accuracy:0.805\n",
      "Epoch 671 finished, loss: 0.9484305724501609, accuracy:0.805\n",
      "Epoch 672 finished, loss: 0.9477345302700997, accuracy:0.805\n",
      "Epoch 673 finished, loss: 0.9471274361014366, accuracy:0.805\n",
      "Epoch 674 finished, loss: 0.9465680852532387, accuracy:0.805\n",
      "Epoch 675 finished, loss: 0.945909608900547, accuracy:0.805\n",
      "Epoch 676 finished, loss: 0.9452351376414299, accuracy:0.805\n",
      "Epoch 677 finished, loss: 0.9446091040968895, accuracy:0.805\n",
      "Epoch 678 finished, loss: 0.9439629465341568, accuracy:0.805\n",
      "Epoch 679 finished, loss: 0.943346445262432, accuracy:0.805\n",
      "Epoch 680 finished, loss: 0.9427333474159241, accuracy:0.805\n",
      "Epoch 681 finished, loss: 0.9420915484428406, accuracy:0.805\n"
     ]
    },
    {
     "name": "stdout",
     "output_type": "stream",
     "text": [
      "Epoch 682 finished, loss: 0.9414773613214493, accuracy:0.805\n",
      "Epoch 683 finished, loss: 0.9408844217658043, accuracy:0.805\n",
      "Epoch 684 finished, loss: 0.9402497857809067, accuracy:0.805\n",
      "Epoch 685 finished, loss: 0.9396172419190407, accuracy:0.805\n",
      "Epoch 686 finished, loss: 0.9389940515160561, accuracy:0.805\n",
      "Epoch 687 finished, loss: 0.9383824869990349, accuracy:0.805\n",
      "Epoch 688 finished, loss: 0.9377943366765976, accuracy:0.805\n",
      "Epoch 689 finished, loss: 0.9371899545192719, accuracy:0.805\n",
      "Epoch 690 finished, loss: 0.9365170821547508, accuracy:0.805\n",
      "Epoch 691 finished, loss: 0.9359716355800629, accuracy:0.805\n",
      "Epoch 692 finished, loss: 0.9353200107812881, accuracy:0.805\n",
      "Epoch 693 finished, loss: 0.9346848472952842, accuracy:0.805\n",
      "Epoch 694 finished, loss: 0.9341140910983086, accuracy:0.805\n",
      "Epoch 695 finished, loss: 0.933516825735569, accuracy:0.805\n",
      "Epoch 696 finished, loss: 0.9329131290316581, accuracy:0.805\n",
      "Epoch 697 finished, loss: 0.9322387486696243, accuracy:0.805\n",
      "Epoch 698 finished, loss: 0.9317587032914162, accuracy:0.805\n",
      "Epoch 699 finished, loss: 0.9309805721044541, accuracy:0.805\n",
      "Epoch 700 finished, loss: 0.9304291144013405, accuracy:0.805\n",
      "Epoch 701 finished, loss: 0.9298347473144531, accuracy:0.805\n",
      "Epoch 702 finished, loss: 0.9292296677827835, accuracy:0.805\n",
      "Epoch 703 finished, loss: 0.9286227136850357, accuracy:0.805\n",
      "Epoch 704 finished, loss: 0.9280801713466644, accuracy:0.805\n",
      "Epoch 705 finished, loss: 0.927398057281971, accuracy:0.805\n",
      "Epoch 706 finished, loss: 0.9268530413508416, accuracy:0.805\n",
      "Epoch 707 finished, loss: 0.9262113645672798, accuracy:0.805\n",
      "Epoch 708 finished, loss: 0.9256122916936874, accuracy:0.805\n",
      "Epoch 709 finished, loss: 0.9250020191073418, accuracy:0.805\n",
      "Epoch 710 finished, loss: 0.9244173333048821, accuracy:0.805\n",
      "Epoch 711 finished, loss: 0.9237998381257058, accuracy:0.805\n",
      "Epoch 712 finished, loss: 0.9232124418020249, accuracy:0.805\n",
      "Epoch 713 finished, loss: 0.9227222710847854, accuracy:0.805\n",
      "Epoch 714 finished, loss: 0.9220106169581413, accuracy:0.805\n",
      "Epoch 715 finished, loss: 0.9214425995945931, accuracy:0.805\n",
      "Epoch 716 finished, loss: 0.9208172619342804, accuracy:0.805\n",
      "Epoch 717 finished, loss: 0.9202881962060928, accuracy:0.805\n",
      "Epoch 718 finished, loss: 0.9196224257349968, accuracy:0.805\n",
      "Epoch 719 finished, loss: 0.919064350426197, accuracy:0.805\n",
      "Epoch 720 finished, loss: 0.9184503868222237, accuracy:0.805\n",
      "Epoch 721 finished, loss: 0.9179155215620994, accuracy:0.805\n",
      "Epoch 722 finished, loss: 0.9172723740339279, accuracy:0.805\n",
      "Epoch 723 finished, loss: 0.9166811183094978, accuracy:0.805\n",
      "Epoch 724 finished, loss: 0.9161544963717461, accuracy:0.805\n",
      "Epoch 725 finished, loss: 0.9155465885996819, accuracy:0.8075\n",
      "Epoch 726 finished, loss: 0.9149743050336838, accuracy:0.805\n",
      "Epoch 727 finished, loss: 0.9143290340900421, accuracy:0.805\n",
      "Epoch 728 finished, loss: 0.9137593969702721, accuracy:0.805\n",
      "Epoch 729 finished, loss: 0.9132085770368576, accuracy:0.805\n",
      "Epoch 730 finished, loss: 0.9125960558652878, accuracy:0.805\n",
      "Epoch 731 finished, loss: 0.9119979679584503, accuracy:0.805\n",
      "Epoch 732 finished, loss: 0.9114055410027504, accuracy:0.805\n",
      "Epoch 733 finished, loss: 0.9108266294002533, accuracy:0.805\n",
      "Epoch 734 finished, loss: 0.9102532297372818, accuracy:0.805\n",
      "Epoch 735 finished, loss: 0.9096839636564255, accuracy:0.805\n",
      "Epoch 736 finished, loss: 0.9090689182281494, accuracy:0.805\n",
      "Epoch 737 finished, loss: 0.9084978222846984, accuracy:0.805\n",
      "Epoch 738 finished, loss: 0.9079324319958687, accuracy:0.805\n",
      "Epoch 739 finished, loss: 0.9073505386710167, accuracy:0.805\n",
      "Epoch 740 finished, loss: 0.9068125024437904, accuracy:0.805\n",
      "Epoch 741 finished, loss: 0.9061929777264595, accuracy:0.805\n",
      "Epoch 742 finished, loss: 0.905615645647049, accuracy:0.805\n",
      "Epoch 743 finished, loss: 0.9050948962569236, accuracy:0.8075\n",
      "Epoch 744 finished, loss: 0.9045300260186195, accuracy:0.805\n",
      "Epoch 745 finished, loss: 0.9039065703749657, accuracy:0.805\n",
      "Epoch 746 finished, loss: 0.9033052787184715, accuracy:0.805\n",
      "Epoch 747 finished, loss: 0.9027942880988121, accuracy:0.805\n",
      "Epoch 748 finished, loss: 0.9022164300084115, accuracy:0.8075\n",
      "Epoch 749 finished, loss: 0.9016209125518799, accuracy:0.805\n",
      "Epoch 750 finished, loss: 0.9010979205369949, accuracy:0.805\n",
      "Epoch 751 finished, loss: 0.9004697039723396, accuracy:0.805\n",
      "Epoch 752 finished, loss: 0.8999346062541008, accuracy:0.8075\n",
      "Epoch 753 finished, loss: 0.8993593767285347, accuracy:0.8075\n",
      "Epoch 754 finished, loss: 0.8987527832388877, accuracy:0.8075\n",
      "Epoch 755 finished, loss: 0.8982192024588584, accuracy:0.8075\n",
      "Epoch 756 finished, loss: 0.8977095559239388, accuracy:0.8075\n",
      "Epoch 757 finished, loss: 0.8971659809350967, accuracy:0.8075\n",
      "Epoch 758 finished, loss: 0.8966247990727425, accuracy:0.805\n",
      "Epoch 759 finished, loss: 0.8959770783782005, accuracy:0.8075\n",
      "Epoch 760 finished, loss: 0.895461069047451, accuracy:0.8075\n",
      "Epoch 761 finished, loss: 0.8948290139436722, accuracy:0.8075\n",
      "Epoch 762 finished, loss: 0.894292850792408, accuracy:0.8075\n",
      "Epoch 763 finished, loss: 0.8937462747097016, accuracy:0.8075\n",
      "Epoch 764 finished, loss: 0.89321718364954, accuracy:0.8075\n",
      "Epoch 765 finished, loss: 0.8926648959517479, accuracy:0.8075\n",
      "Epoch 766 finished, loss: 0.8920914128422737, accuracy:0.8075\n",
      "Epoch 767 finished, loss: 0.8915555328130722, accuracy:0.8075\n",
      "Epoch 768 finished, loss: 0.8909516409039497, accuracy:0.8075\n",
      "Epoch 769 finished, loss: 0.8904765456914902, accuracy:0.8075\n",
      "Epoch 770 finished, loss: 0.8898620590567589, accuracy:0.8075\n",
      "Epoch 771 finished, loss: 0.8893722832202912, accuracy:0.8075\n",
      "Epoch 772 finished, loss: 0.8887668162584305, accuracy:0.8075\n",
      "Epoch 773 finished, loss: 0.8882782325148583, accuracy:0.8075\n",
      "Epoch 774 finished, loss: 0.8876913458108902, accuracy:0.8075\n",
      "Epoch 775 finished, loss: 0.8871334344148636, accuracy:0.8075\n",
      "Epoch 776 finished, loss: 0.8865885213017464, accuracy:0.8075\n",
      "Epoch 777 finished, loss: 0.8860495373606682, accuracy:0.8075\n",
      "Epoch 778 finished, loss: 0.8855073988437653, accuracy:0.8075\n",
      "Epoch 779 finished, loss: 0.8849902436137199, accuracy:0.8075\n",
      "Epoch 780 finished, loss: 0.8844326600432396, accuracy:0.8075\n",
      "Epoch 781 finished, loss: 0.8838472917675972, accuracy:0.8075\n",
      "Epoch 782 finished, loss: 0.8833263114094734, accuracy:0.8075\n",
      "Epoch 783 finished, loss: 0.8827687799930573, accuracy:0.8075\n",
      "Epoch 784 finished, loss: 0.8822689071297646, accuracy:0.8075\n",
      "Epoch 785 finished, loss: 0.8817563503980637, accuracy:0.8075\n",
      "Epoch 786 finished, loss: 0.8812869682908058, accuracy:0.8075\n",
      "Epoch 787 finished, loss: 0.8806939512491226, accuracy:0.8075\n",
      "Epoch 788 finished, loss: 0.880091592669487, accuracy:0.8075\n",
      "Epoch 789 finished, loss: 0.879535385966301, accuracy:0.8075\n",
      "Epoch 790 finished, loss: 0.8790379673242569, accuracy:0.8075\n",
      "Epoch 791 finished, loss: 0.8784905418753624, accuracy:0.8075\n",
      "Epoch 792 finished, loss: 0.8779445469379425, accuracy:0.8075\n",
      "Epoch 793 finished, loss: 0.8774234369397164, accuracy:0.8075\n",
      "Epoch 794 finished, loss: 0.876880107820034, accuracy:0.8075\n",
      "Epoch 795 finished, loss: 0.876490905880928, accuracy:0.8075\n",
      "Epoch 796 finished, loss: 0.8758831545710564, accuracy:0.8075\n",
      "Epoch 797 finished, loss: 0.875299496948719, accuracy:0.8075\n",
      "Epoch 798 finished, loss: 0.8747455537319183, accuracy:0.8075\n",
      "Epoch 799 finished, loss: 0.8742399543523789, accuracy:0.8075\n",
      "Epoch 800 finished, loss: 0.8737726420164108, accuracy:0.8075\n",
      "Epoch 801 finished, loss: 0.8731708109378815, accuracy:0.8075\n",
      "Epoch 802 finished, loss: 0.8726467534899711, accuracy:0.8075\n",
      "Epoch 803 finished, loss: 0.8721248671412468, accuracy:0.8075\n",
      "Epoch 804 finished, loss: 0.8717381075024605, accuracy:0.8075\n",
      "Epoch 805 finished, loss: 0.871041975915432, accuracy:0.8075\n",
      "Epoch 806 finished, loss: 0.870548041164875, accuracy:0.8075\n",
      "Epoch 807 finished, loss: 0.8700207650661469, accuracy:0.8075\n",
      "Epoch 808 finished, loss: 0.8694833889603615, accuracy:0.8075\n",
      "Epoch 809 finished, loss: 0.8689669080078601, accuracy:0.8075\n",
      "Epoch 810 finished, loss: 0.8684664130210876, accuracy:0.8075\n",
      "Epoch 811 finished, loss: 0.8679246366024017, accuracy:0.8075\n",
      "Epoch 812 finished, loss: 0.8674128830432892, accuracy:0.8075\n",
      "Epoch 813 finished, loss: 0.8668821513652801, accuracy:0.8075\n",
      "Epoch 814 finished, loss: 0.8664030238986016, accuracy:0.8075\n",
      "Epoch 815 finished, loss: 0.8658450096845627, accuracy:0.8075\n",
      "Epoch 816 finished, loss: 0.8653924360871315, accuracy:0.8075\n"
     ]
    },
    {
     "name": "stdout",
     "output_type": "stream",
     "text": [
      "Epoch 817 finished, loss: 0.864827336370945, accuracy:0.8075\n",
      "Epoch 818 finished, loss: 0.8643265724182129, accuracy:0.8075\n",
      "Epoch 819 finished, loss: 0.863782799243927, accuracy:0.8075\n",
      "Epoch 820 finished, loss: 0.8632969245314598, accuracy:0.8075\n",
      "Epoch 821 finished, loss: 0.8627823770046235, accuracy:0.8075\n",
      "Epoch 822 finished, loss: 0.8622479185461998, accuracy:0.8075\n",
      "Epoch 823 finished, loss: 0.8617481470108033, accuracy:0.8075\n",
      "Epoch 824 finished, loss: 0.8612018600106239, accuracy:0.8075\n",
      "Epoch 825 finished, loss: 0.8607539296150207, accuracy:0.8075\n",
      "Epoch 826 finished, loss: 0.8601640611886978, accuracy:0.8075\n",
      "Epoch 827 finished, loss: 0.8596940562129021, accuracy:0.8075\n",
      "Epoch 828 finished, loss: 0.8592250064015389, accuracy:0.8075\n",
      "Epoch 829 finished, loss: 0.8586180284619331, accuracy:0.8075\n",
      "Epoch 830 finished, loss: 0.8581425607204437, accuracy:0.8075\n",
      "Epoch 831 finished, loss: 0.8575997829437256, accuracy:0.8075\n",
      "Epoch 832 finished, loss: 0.8571165725588799, accuracy:0.8075\n",
      "Epoch 833 finished, loss: 0.856702233850956, accuracy:0.8075\n",
      "Epoch 834 finished, loss: 0.8561218872666359, accuracy:0.8075\n",
      "Epoch 835 finished, loss: 0.855576466023922, accuracy:0.8075\n",
      "Epoch 836 finished, loss: 0.8550889283418656, accuracy:0.8075\n",
      "Epoch 837 finished, loss: 0.8546119913458824, accuracy:0.8075\n",
      "Epoch 838 finished, loss: 0.8540966168045998, accuracy:0.8075\n",
      "Epoch 839 finished, loss: 0.8536223560571671, accuracy:0.8075\n",
      "Epoch 840 finished, loss: 0.8531154274940491, accuracy:0.8075\n",
      "Epoch 841 finished, loss: 0.85257408618927, accuracy:0.8075\n",
      "Epoch 842 finished, loss: 0.852053564786911, accuracy:0.8075\n",
      "Epoch 843 finished, loss: 0.8515457779169082, accuracy:0.8075\n",
      "Epoch 844 finished, loss: 0.8511115774512291, accuracy:0.8075\n",
      "Epoch 845 finished, loss: 0.8505809590220451, accuracy:0.8075\n",
      "Epoch 846 finished, loss: 0.8501569598913192, accuracy:0.8075\n",
      "Epoch 847 finished, loss: 0.8495802447199822, accuracy:0.8075\n",
      "Epoch 848 finished, loss: 0.8491428881883621, accuracy:0.8075\n",
      "Epoch 849 finished, loss: 0.8485677540302277, accuracy:0.8075\n",
      "Epoch 850 finished, loss: 0.8481092229485512, accuracy:0.8075\n",
      "Epoch 851 finished, loss: 0.8476151272654533, accuracy:0.8075\n",
      "Epoch 852 finished, loss: 0.8471256986260414, accuracy:0.8075\n",
      "Epoch 853 finished, loss: 0.8466370433568955, accuracy:0.8075\n",
      "Epoch 854 finished, loss: 0.8461265832185745, accuracy:0.8075\n",
      "Epoch 855 finished, loss: 0.8456199780106545, accuracy:0.8075\n",
      "Epoch 856 finished, loss: 0.8451164320111275, accuracy:0.8075\n",
      "Epoch 857 finished, loss: 0.8446261301636696, accuracy:0.8075\n",
      "Epoch 858 finished, loss: 0.8441498413681984, accuracy:0.8075\n",
      "Epoch 859 finished, loss: 0.8437222182750702, accuracy:0.8075\n",
      "Epoch 860 finished, loss: 0.8432003036141396, accuracy:0.8075\n",
      "Epoch 861 finished, loss: 0.8426809057593345, accuracy:0.8075\n",
      "Epoch 862 finished, loss: 0.8422062620520592, accuracy:0.8075\n",
      "Epoch 863 finished, loss: 0.8417417749762535, accuracy:0.8075\n",
      "Epoch 864 finished, loss: 0.8412614539265633, accuracy:0.8075\n",
      "Epoch 865 finished, loss: 0.8407667085528374, accuracy:0.8075\n",
      "Epoch 866 finished, loss: 0.84028330296278, accuracy:0.8075\n",
      "Epoch 867 finished, loss: 0.8398299440741539, accuracy:0.81\n",
      "Epoch 868 finished, loss: 0.8393216922879219, accuracy:0.8075\n",
      "Epoch 869 finished, loss: 0.8388116881251335, accuracy:0.8075\n",
      "Epoch 870 finished, loss: 0.8383596584200859, accuracy:0.8075\n",
      "Epoch 871 finished, loss: 0.8378155112266541, accuracy:0.8075\n",
      "Epoch 872 finished, loss: 0.8373470693826676, accuracy:0.8075\n",
      "Epoch 873 finished, loss: 0.8368681848049164, accuracy:0.8075\n",
      "Epoch 874 finished, loss: 0.836423036456108, accuracy:0.8075\n",
      "Epoch 875 finished, loss: 0.835906283557415, accuracy:0.8075\n",
      "Epoch 876 finished, loss: 0.8354315340518952, accuracy:0.8075\n",
      "Epoch 877 finished, loss: 0.8349531307816506, accuracy:0.8075\n",
      "Epoch 878 finished, loss: 0.834506930410862, accuracy:0.81\n",
      "Epoch 879 finished, loss: 0.8340096831321716, accuracy:0.8075\n",
      "Epoch 880 finished, loss: 0.8336066365242004, accuracy:0.8075\n",
      "Epoch 881 finished, loss: 0.833047778904438, accuracy:0.81\n",
      "Epoch 882 finished, loss: 0.832654096186161, accuracy:0.81\n",
      "Epoch 883 finished, loss: 0.832179781794548, accuracy:0.81\n",
      "Epoch 884 finished, loss: 0.8316371232271195, accuracy:0.81\n",
      "Epoch 885 finished, loss: 0.8311621814966201, accuracy:0.81\n",
      "Epoch 886 finished, loss: 0.8306673504412174, accuracy:0.81\n",
      "Epoch 887 finished, loss: 0.8301888719201088, accuracy:0.81\n",
      "Epoch 888 finished, loss: 0.829732158780098, accuracy:0.81\n",
      "Epoch 889 finished, loss: 0.8293256625533104, accuracy:0.81\n",
      "Epoch 890 finished, loss: 0.8287518650293351, accuracy:0.81\n",
      "Epoch 891 finished, loss: 0.8282735139131546, accuracy:0.81\n",
      "Epoch 892 finished, loss: 0.8278172835707664, accuracy:0.81\n",
      "Epoch 893 finished, loss: 0.8273689091205597, accuracy:0.81\n",
      "Epoch 894 finished, loss: 0.8268442839384079, accuracy:0.81\n",
      "Epoch 895 finished, loss: 0.8264091819524765, accuracy:0.81\n",
      "Epoch 896 finished, loss: 0.8259234540164471, accuracy:0.81\n",
      "Epoch 897 finished, loss: 0.8255364879965782, accuracy:0.81\n",
      "Epoch 898 finished, loss: 0.8249691158533097, accuracy:0.81\n",
      "Epoch 899 finished, loss: 0.8245275750756264, accuracy:0.81\n",
      "Epoch 900 finished, loss: 0.8240484744310379, accuracy:0.81\n",
      "Epoch 901 finished, loss: 0.823599225282669, accuracy:0.81\n",
      "Epoch 902 finished, loss: 0.8231217652559281, accuracy:0.81\n",
      "Epoch 903 finished, loss: 0.8227213799953461, accuracy:0.81\n",
      "Epoch 904 finished, loss: 0.8221997514367103, accuracy:0.81\n",
      "Epoch 905 finished, loss: 0.8217467442154884, accuracy:0.81\n",
      "Epoch 906 finished, loss: 0.8212347820401191, accuracy:0.81\n",
      "Epoch 907 finished, loss: 0.8208178296685219, accuracy:0.81\n",
      "Epoch 908 finished, loss: 0.8203414171934128, accuracy:0.81\n",
      "Epoch 909 finished, loss: 0.8198835402727127, accuracy:0.81\n",
      "Epoch 910 finished, loss: 0.8194347321987152, accuracy:0.81\n",
      "Epoch 911 finished, loss: 0.8189932584762574, accuracy:0.81\n",
      "Epoch 912 finished, loss: 0.8184777081012726, accuracy:0.81\n",
      "Epoch 913 finished, loss: 0.8180388867855072, accuracy:0.81\n",
      "Epoch 914 finished, loss: 0.8175555452704429, accuracy:0.81\n",
      "Epoch 915 finished, loss: 0.8170794576406479, accuracy:0.81\n",
      "Epoch 916 finished, loss: 0.81663698554039, accuracy:0.81\n",
      "Epoch 917 finished, loss: 0.816192875802517, accuracy:0.81\n",
      "Epoch 918 finished, loss: 0.8157416597008705, accuracy:0.81\n",
      "Epoch 919 finished, loss: 0.8152734957635402, accuracy:0.81\n",
      "Epoch 920 finished, loss: 0.8148072227835655, accuracy:0.81\n",
      "Epoch 921 finished, loss: 0.814445698261261, accuracy:0.81\n",
      "Epoch 922 finished, loss: 0.81395533233881, accuracy:0.81\n",
      "Epoch 923 finished, loss: 0.8134466752409935, accuracy:0.81\n",
      "Epoch 924 finished, loss: 0.8129853054881095, accuracy:0.81\n",
      "Epoch 925 finished, loss: 0.8125754207372665, accuracy:0.81\n",
      "Epoch 926 finished, loss: 0.8121059626340866, accuracy:0.81\n",
      "Epoch 927 finished, loss: 0.8116541460156441, accuracy:0.81\n",
      "Epoch 928 finished, loss: 0.8111981615424156, accuracy:0.81\n",
      "Epoch 929 finished, loss: 0.8107127122581005, accuracy:0.81\n",
      "Epoch 930 finished, loss: 0.8104083657264709, accuracy:0.81\n",
      "Epoch 931 finished, loss: 0.8098585113883019, accuracy:0.81\n",
      "Epoch 932 finished, loss: 0.8094367802143096, accuracy:0.81\n",
      "Epoch 933 finished, loss: 0.8089548408985138, accuracy:0.81\n",
      "Epoch 934 finished, loss: 0.808529457449913, accuracy:0.81\n",
      "Epoch 935 finished, loss: 0.8080614045262337, accuracy:0.81\n",
      "Epoch 936 finished, loss: 0.8076467677950859, accuracy:0.81\n",
      "Epoch 937 finished, loss: 0.807193610072136, accuracy:0.81\n",
      "Epoch 938 finished, loss: 0.8067447200417519, accuracy:0.81\n",
      "Epoch 939 finished, loss: 0.8063101902604103, accuracy:0.81\n",
      "Epoch 940 finished, loss: 0.8058783948421478, accuracy:0.81\n",
      "Epoch 941 finished, loss: 0.8054247468709945, accuracy:0.81\n",
      "Epoch 942 finished, loss: 0.8049829080700874, accuracy:0.81\n",
      "Epoch 943 finished, loss: 0.8045427531003952, accuracy:0.81\n",
      "Epoch 944 finished, loss: 0.804118549823761, accuracy:0.81\n",
      "Epoch 945 finished, loss: 0.8036735609173775, accuracy:0.81\n",
      "Epoch 946 finished, loss: 0.8032580725848675, accuracy:0.81\n",
      "Epoch 947 finished, loss: 0.8028231456875801, accuracy:0.81\n",
      "Epoch 948 finished, loss: 0.8023434579372406, accuracy:0.81\n",
      "Epoch 949 finished, loss: 0.8019665971398353, accuracy:0.81\n",
      "Epoch 950 finished, loss: 0.8014831140637397, accuracy:0.81\n",
      "Epoch 951 finished, loss: 0.8010733127593994, accuracy:0.81\n",
      "Epoch 952 finished, loss: 0.8006107747554779, accuracy:0.81\n"
     ]
    },
    {
     "name": "stdout",
     "output_type": "stream",
     "text": [
      "Epoch 953 finished, loss: 0.8002018839120865, accuracy:0.81\n",
      "Epoch 954 finished, loss: 0.799787849187851, accuracy:0.81\n",
      "Epoch 955 finished, loss: 0.7994176484644413, accuracy:0.81\n",
      "Epoch 956 finished, loss: 0.7989073976874351, accuracy:0.81\n",
      "Epoch 957 finished, loss: 0.7984395250678062, accuracy:0.81\n",
      "Epoch 958 finished, loss: 0.7980972930788994, accuracy:0.81\n",
      "Epoch 959 finished, loss: 0.7975846573710441, accuracy:0.81\n",
      "Epoch 960 finished, loss: 0.7971542805433274, accuracy:0.81\n",
      "Epoch 961 finished, loss: 0.7967872008681297, accuracy:0.81\n",
      "Epoch 962 finished, loss: 0.7962910532951355, accuracy:0.81\n",
      "Epoch 963 finished, loss: 0.7958976477384567, accuracy:0.81\n",
      "Epoch 964 finished, loss: 0.7954506933689117, accuracy:0.81\n",
      "Epoch 965 finished, loss: 0.7950294017791748, accuracy:0.81\n",
      "Epoch 966 finished, loss: 0.7945835903286934, accuracy:0.81\n",
      "Epoch 967 finished, loss: 0.7942692995071411, accuracy:0.81\n",
      "Epoch 968 finished, loss: 0.7937443628907204, accuracy:0.81\n",
      "Epoch 969 finished, loss: 0.7933131188154221, accuracy:0.81\n",
      "Epoch 970 finished, loss: 0.7929047040641308, accuracy:0.81\n",
      "Epoch 971 finished, loss: 0.7924774192273617, accuracy:0.81\n",
      "Epoch 972 finished, loss: 0.7920612797141076, accuracy:0.81\n",
      "Epoch 973 finished, loss: 0.791596594452858, accuracy:0.81\n",
      "Epoch 974 finished, loss: 0.7911872908473014, accuracy:0.81\n",
      "Epoch 975 finished, loss: 0.7907689481973648, accuracy:0.81\n",
      "Epoch 976 finished, loss: 0.7903419181704521, accuracy:0.81\n",
      "Epoch 977 finished, loss: 0.7899592742323875, accuracy:0.81\n",
      "Epoch 978 finished, loss: 0.7894997373223305, accuracy:0.81\n",
      "Epoch 979 finished, loss: 0.789140772819519, accuracy:0.81\n",
      "Epoch 980 finished, loss: 0.7886419236660004, accuracy:0.81\n",
      "Epoch 981 finished, loss: 0.7882535845041275, accuracy:0.8125\n",
      "Epoch 982 finished, loss: 0.7878448769450188, accuracy:0.81\n",
      "Epoch 983 finished, loss: 0.7874721691012383, accuracy:0.81\n",
      "Epoch 984 finished, loss: 0.7869871601462364, accuracy:0.81\n",
      "Epoch 985 finished, loss: 0.7865686401724815, accuracy:0.81\n",
      "Epoch 986 finished, loss: 0.7861863240599632, accuracy:0.81\n",
      "Epoch 987 finished, loss: 0.7858063295483589, accuracy:0.81\n",
      "Epoch 988 finished, loss: 0.7853255406022072, accuracy:0.81\n",
      "Epoch 989 finished, loss: 0.7849454611539841, accuracy:0.81\n",
      "Epoch 990 finished, loss: 0.7844996705651284, accuracy:0.81\n",
      "Epoch 991 finished, loss: 0.7840738594532013, accuracy:0.81\n",
      "Epoch 992 finished, loss: 0.7836535722017288, accuracy:0.81\n",
      "Epoch 993 finished, loss: 0.7832532197237014, accuracy:0.81\n",
      "Epoch 994 finished, loss: 0.7828393265604973, accuracy:0.81\n",
      "Epoch 995 finished, loss: 0.7823943085968494, accuracy:0.81\n",
      "Epoch 996 finished, loss: 0.7820442244410515, accuracy:0.81\n",
      "Epoch 997 finished, loss: 0.7815869063138962, accuracy:0.81\n",
      "Epoch 998 finished, loss: 0.7811961062252522, accuracy:0.81\n",
      "Epoch 999 finished, loss: 0.780772665143013, accuracy:0.8125\n",
      "Test loss: 0.8265316486358643, test accuracy: 0.73\n"
     ]
    },
    {
     "ename": "NameError",
     "evalue": "name 'plot_loss' is not defined",
     "output_type": "error",
     "traceback": [
      "\u001b[0;31m---------------------------------------------------------------------------\u001b[0m",
      "\u001b[0;31mNameError\u001b[0m                                 Traceback (most recent call last)",
      "\u001b[0;32m<ipython-input-30-abec3e8b817d>\u001b[0m in \u001b[0;36m<module>\u001b[0;34m\u001b[0m\n\u001b[1;32m      7\u001b[0m losses, accuracies = entanglement_metric_beta_vae(model_beta1_e40_alldata_n, \n\u001b[1;32m      8\u001b[0m                                                   classifier, optimizer, 1000,  data_, 500, 50)\n\u001b[0;32m----> 9\u001b[0;31m \u001b[0mplot_loss\u001b[0m\u001b[0;34m(\u001b[0m\u001b[0mlosses\u001b[0m\u001b[0;34m,\u001b[0m \u001b[0;34m\"NLL Loss\"\u001b[0m\u001b[0;34m)\u001b[0m\u001b[0;34m\u001b[0m\u001b[0;34m\u001b[0m\u001b[0m\n\u001b[0m\u001b[1;32m     10\u001b[0m \u001b[0mplot_loss\u001b[0m\u001b[0;34m(\u001b[0m\u001b[0maccuracies\u001b[0m\u001b[0;34m,\u001b[0m \u001b[0;34m\"Accuracy\"\u001b[0m\u001b[0;34m)\u001b[0m\u001b[0;34m\u001b[0m\u001b[0;34m\u001b[0m\u001b[0m\n",
      "\u001b[0;31mNameError\u001b[0m: name 'plot_loss' is not defined"
     ]
    }
   ],
   "source": [
    "loss = entanglement_metric_factor_vae(model_beta1_e40_alldata_n, data_, 100, 1000)\n",
    "print(\"Factor Vae metric: \")\n",
    "print(\"Accuracy: \"+str(1-loss))\n",
    "print(\"Beta Vae metric: \")\n",
    "classifier = Classifier()\n",
    "optimizer = torch.optim.Adam(classifier.parameters(), lr=1e-4)\n",
    "losses, accuracies = entanglement_metric_beta_vae(model_beta1_e40_alldata_n, \n",
    "                                                  classifier, optimizer, 1000,  data_, 500, 50)\n",
    "plot_loss(losses, \"NLL Loss\")\n",
    "plot_loss(accuracies, \"Accuracy\")"
   ]
  },
  {
   "cell_type": "code",
   "execution_count": 32,
   "id": "pressed-librarian",
   "metadata": {},
   "outputs": [
    {
     "data": {
      "image/png": "[encoded data removed]",
      "text/plain": [
       "<Figure size 432x288 with 1 Axes>"
      ]
     },
     "metadata": {
      "needs_background": "light"
     },
     "output_type": "display_data"
    },
    {
     "data": {
      "image/png": "[encoded data removed]",
      "text/plain": [
       "<Figure size 432x288 with 1 Axes>"
      ]
     },
     "metadata": {
      "needs_background": "light"
     },
     "output_type": "display_data"
    }
   ],
   "source": [
    "plot_loss(losses, \"NLL Loss\")\n",
    "plot_loss(accuracies, \"Accuracy\")"
   ]
  },
  {
   "cell_type": "code",
   "execution_count": 33,
   "id": "direct-technique",
   "metadata": {},
   "outputs": [],
   "source": [
    "torch.save(model_beta1_e40_alldata_n, 'trained_models/model_beta1_e40_alldata_n.dat')"
   ]
  },
  {
   "cell_type": "code",
   "execution_count": 21,
   "id": "informal-escape",
   "metadata": {},
   "outputs": [
    {
     "name": "stdout",
     "output_type": "stream",
     "text": [
      "...........tensor([0.9926, 0.9936, 0.9948, 0.3158, 0.9926, 0.9931, 0.1109, 0.0412, 0.0673,\n",
      "        0.1960])\n"
     ]
    }
   ],
   "source": [
    "latent_gaussian_variance_beta4_n = compute_latent_gaussian_variance(model_beta1_e40_alldata_n, dataset)\n",
    "print(latent_gaussian_variance_beta4_n)"
   ]
  },
  {
   "cell_type": "code",
   "execution_count": 24,
   "id": "enabling-hudson",
   "metadata": {},
   "outputs": [
    {
     "data": {
      "image/png": "[encoded data removed]",
      "text/plain": [
       "<Figure size 432x288 with 1 Axes>"
      ]
     },
     "metadata": {
      "needs_background": "light"
     },
     "output_type": "display_data"
    }
   ],
   "source": [
    "index = np.random.randint(0, len(dataset))\n",
    "original = dataset[index].float()\n",
    "plt.imshow(torch.sigmoid(original.detach()).view(64,64), cmap='Greys_r')\n",
    "plt.show()"
   ]
  },
  {
   "cell_type": "code",
   "execution_count": 25,
   "id": "minor-stage",
   "metadata": {},
   "outputs": [],
   "source": [
    "recon, mu, logvar = model_beta1_e40_alldata_n(original)"
   ]
  },
  {
   "cell_type": "code",
   "execution_count": 26,
   "id": "false-desperate",
   "metadata": {},
   "outputs": [
    {
     "data": {
      "image/png": "[encoded data removed]",
      "text/plain": [
       "<Figure size 432x288 with 1 Axes>"
      ]
     },
     "metadata": {
      "needs_background": "light"
     },
     "output_type": "display_data"
    }
   ],
   "source": [
    "plt.imshow(torch.sigmoid(recon.cpu().detach()).view(64,64), cmap='Greys_r')\n",
    "plt.show()"
   ]
  },
  {
   "cell_type": "code",
   "execution_count": 27,
   "id": "exact-lancaster",
   "metadata": {
    "scrolled": false
   },
   "outputs": [
    {
     "data": {
      "image/png": "[encoded data removed]",
      "text/plain": [
       "<Figure size 864x864 with 100 Axes>"
      ]
     },
     "metadata": {
      "needs_background": "light"
     },
     "output_type": "display_data"
    }
   ],
   "source": [
    "fig = plt.figure(figsize=[12, 12])\n",
    "for i in range(10):\n",
    "    imgs = latent_transversal(model_beta1_e40_alldata_n, original, -3, 3, 10, i)\n",
    "    for j, img in enumerate(imgs):\n",
    "        plt.subplot(10, 10, i * 10 + j + 1)\n",
    "        plt.axis('off')\n",
    "        plt.imshow(torch.sigmoid(img.detach()).view(64,64), cmap='Greys_r')\n",
    "plt.show()"
   ]
  },
  {
   "cell_type": "code",
   "execution_count": null,
   "id": "standing-toner",
   "metadata": {},
   "outputs": [],
   "source": []
  },
  {
   "cell_type": "code",
   "execution_count": null,
   "id": "joined-salvation",
   "metadata": {},
   "outputs": [],
   "source": []
  },
  {
   "cell_type": "code",
   "execution_count": 34,
   "id": "global-separation",
   "metadata": {},
   "outputs": [],
   "source": [
    "model_beta1_e100_alldata_n = BetaVAEDSprites()\n",
    "optimizer = torch.optim.Adagrad(model_beta1_e100_alldata_n.parameters(), lr=1e-2)\n",
    "start_epoch = 0 \n",
    "losslogger = []"
   ]
  },
  {
   "cell_type": "code",
   "execution_count": 35,
   "id": "welsh-moore",
   "metadata": {},
   "outputs": [
    {
     "name": "stdout",
     "output_type": "stream",
     "text": [
      "=> loading checkpoint 'trained_models/betavae_beta4_e100_alldata_n.pth.tar'\n",
      "=> loaded checkpoint 'trained_models/betavae_beta4_e100_alldata_n.pth.tar' (epoch 101)\n"
     ]
    },
    {
     "data": {
      "text/plain": [
       "BetaVAEDSprites(\n",
       "  (encoder): Sequential(\n",
       "    (0): Linear(in_features=4096, out_features=1200, bias=True)\n",
       "    (1): ReLU()\n",
       "    (2): Linear(in_features=1200, out_features=1200, bias=True)\n",
       "    (3): ReLU()\n",
       "    (4): Linear(in_features=1200, out_features=20, bias=True)\n",
       "  )\n",
       "  (decoder): Sequential(\n",
       "    (0): Linear(in_features=10, out_features=1200, bias=True)\n",
       "    (1): Tanh()\n",
       "    (2): Linear(in_features=1200, out_features=1200, bias=True)\n",
       "    (3): Tanh()\n",
       "    (4): Linear(in_features=1200, out_features=1200, bias=True)\n",
       "    (5): Tanh()\n",
       "    (6): Linear(in_features=1200, out_features=4096, bias=True)\n",
       "  )\n",
       ")"
      ]
     },
     "execution_count": 35,
     "metadata": {},
     "output_type": "execute_result"
    }
   ],
   "source": [
    "model_beta1_e100_alldata_n, optimizer, start_epoch, losslogger = load_checkpoint(model_beta1_e100_alldata_n, \n",
    "    optimizer, losslogger, \n",
    "    filename='trained_models/betavae_beta4_e100_alldata_n.pth.tar')\n",
    "model_beta1_e100_alldata_n.eval()"
   ]
  },
  {
   "cell_type": "code",
   "execution_count": 36,
   "id": "comparable-willow",
   "metadata": {},
   "outputs": [
    {
     "data": {
      "text/plain": [
       "BetaVAEDSprites(\n",
       "  (encoder): Sequential(\n",
       "    (0): Linear(in_features=4096, out_features=1200, bias=True)\n",
       "    (1): ReLU()\n",
       "    (2): Linear(in_features=1200, out_features=1200, bias=True)\n",
       "    (3): ReLU()\n",
       "    (4): Linear(in_features=1200, out_features=20, bias=True)\n",
       "  )\n",
       "  (decoder): Sequential(\n",
       "    (0): Linear(in_features=10, out_features=1200, bias=True)\n",
       "    (1): Tanh()\n",
       "    (2): Linear(in_features=1200, out_features=1200, bias=True)\n",
       "    (3): Tanh()\n",
       "    (4): Linear(in_features=1200, out_features=1200, bias=True)\n",
       "    (5): Tanh()\n",
       "    (6): Linear(in_features=1200, out_features=4096, bias=True)\n",
       "  )\n",
       ")"
      ]
     },
     "execution_count": 36,
     "metadata": {},
     "output_type": "execute_result"
    }
   ],
   "source": [
    "model_beta1_e100_alldata_n.cpu()\n",
    "model_beta1_e100_alldata_n"
   ]
  },
  {
   "cell_type": "code",
   "execution_count": null,
   "id": "satisfied-ground",
   "metadata": {
    "scrolled": true
   },
   "outputs": [
    {
     "name": "stdout",
     "output_type": "stream",
     "text": [
      "[[ 0.  0.  0.  0.  0.  0.  0.  0.  0.  0.]\n",
      " [ 0.  0.  0. 14.  0.  0.  4.  0.  0.  0.]\n",
      " [ 0.  0.  0.  0.  0.  0. 23.  0.  0.  0.]\n",
      " [ 0.  0.  0. 16.  0.  0.  0.  0.  1.  5.]\n",
      " [ 0.  0.  0.  0.  0.  0.  0.  0. 17.  0.]\n",
      " [ 0.  0.  0.  0.  0.  0.  0. 20.  0.  0.]]\n",
      "Factor Vae metric: \n",
      "Accuracy: 0.9\n",
      "Beta Vae metric: \n"
     ]
    }
   ],
   "source": [
    "loss = entanglement_metric_factor_vae(model_beta1_e100_alldata_n, data_, 100, 1000)\n",
    "print(\"Factor Vae metric: \")\n",
    "print(\"Accuracy: \"+str(1-loss))\n",
    "print(\"Beta Vae metric: \")\n",
    "classifier = Classifier()\n",
    "optimizer = torch.optim.Adam(classifier.parameters(), lr=1e-4)\n",
    "losses, accuracies = entanglement_metric_beta_vae(model_beta1_e100_alldata_n, \n",
    "                                                  classifier, optimizer, 1000,  data_, 500, 50)\n",
    "plot_loss(losses, \"NLL Loss\")\n",
    "plot_loss(accuracies, \"Accuracy\")"
   ]
  },
  {
   "cell_type": "code",
   "execution_count": 33,
   "id": "sixth-thunder",
   "metadata": {},
   "outputs": [],
   "source": [
    "torch.save(model_beta1_e40_alldata_n, 'trained_models/model_beta1_e100_alldata_n.dat')"
   ]
  },
  {
   "cell_type": "code",
   "execution_count": 21,
   "id": "brief-wrong",
   "metadata": {},
   "outputs": [
    {
     "name": "stdout",
     "output_type": "stream",
     "text": [
      "...........tensor([0.9926, 0.9936, 0.9948, 0.3158, 0.9926, 0.9931, 0.1109, 0.0412, 0.0673,\n",
      "        0.1960])\n"
     ]
    }
   ],
   "source": [
    "latent_gaussian_variance_beta4_n = compute_latent_gaussian_variance(model_beta1_e40_alldata_n, dataset)\n",
    "print(latent_gaussian_variance_beta4_n)"
   ]
  },
  {
   "cell_type": "code",
   "execution_count": 24,
   "id": "dramatic-google",
   "metadata": {},
   "outputs": [
    {
     "data": {
      "image/png": "[encoded data removed]",
      "text/plain": [
       "<Figure size 432x288 with 1 Axes>"
      ]
     },
     "metadata": {
      "needs_background": "light"
     },
     "output_type": "display_data"
    }
   ],
   "source": [
    "index = np.random.randint(0, len(dataset))\n",
    "original = dataset[index].float()\n",
    "plt.imshow(torch.sigmoid(original.detach()).view(64,64), cmap='Greys_r')\n",
    "plt.show()"
   ]
  },
  {
   "cell_type": "code",
   "execution_count": 25,
   "id": "warming-funds",
   "metadata": {},
   "outputs": [],
   "source": [
    "recon, mu, logvar = model_beta1_e40_alldata_n(original)"
   ]
  },
  {
   "cell_type": "code",
   "execution_count": 26,
   "id": "entertaining-bikini",
   "metadata": {},
   "outputs": [
    {
     "data": {
      "image/png": "[encoded data removed]",
      "text/plain": [
       "<Figure size 432x288 with 1 Axes>"
      ]
     },
     "metadata": {
      "needs_background": "light"
     },
     "output_type": "display_data"
    }
   ],
   "source": [
    "plt.imshow(torch.sigmoid(recon.cpu().detach()).view(64,64), cmap='Greys_r')\n",
    "plt.show()"
   ]
  },
  {
   "cell_type": "code",
   "execution_count": 27,
   "id": "based-drama",
   "metadata": {
    "scrolled": false
   },
   "outputs": [
    {
     "data": {
      "image/png": "[encoded data removed]",
      "text/plain": [
       "<Figure size 864x864 with 100 Axes>"
      ]
     },
     "metadata": {
      "needs_background": "light"
     },
     "output_type": "display_data"
    }
   ],
   "source": [
    "fig = plt.figure(figsize=[12, 12])\n",
    "for i in range(10):\n",
    "    imgs = latent_transversal(model_beta1_e40_alldata_n, original, -3, 3, 10, i)\n",
    "    for j, img in enumerate(imgs):\n",
    "        plt.subplot(10, 10, i * 10 + j + 1)\n",
    "        plt.axis('off')\n",
    "        plt.imshow(torch.sigmoid(img.detach()).view(64,64), cmap='Greys_r')\n",
    "plt.show()"
   ]
  },
  {
   "cell_type": "code",
   "execution_count": null,
   "id": "conditional-intermediate",
   "metadata": {},
   "outputs": [],
   "source": []
  },
  {
   "cell_type": "code",
   "execution_count": null,
   "id": "cosmetic-position",
   "metadata": {},
   "outputs": [],
   "source": []
  },
  {
   "cell_type": "code",
   "execution_count": null,
   "id": "differential-mexico",
   "metadata": {},
   "outputs": [],
   "source": []
  },
  {
   "cell_type": "code",
   "execution_count": null,
   "id": "italian-sentence",
   "metadata": {},
   "outputs": [],
   "source": []
  },
  {
   "cell_type": "code",
   "execution_count": null,
   "id": "incredible-layout",
   "metadata": {},
   "outputs": [],
   "source": []
  },
  {
   "cell_type": "code",
   "execution_count": 30,
   "id": "settled-alabama",
   "metadata": {},
   "outputs": [
    {
     "data": {
      "text/plain": [
       "BetaVAEDSprites(\n",
       "  (encoder): Sequential(\n",
       "    (0): Linear(in_features=4096, out_features=1200, bias=True)\n",
       "    (1): ReLU()\n",
       "    (2): Linear(in_features=1200, out_features=1200, bias=True)\n",
       "    (3): ReLU()\n",
       "    (4): Linear(in_features=1200, out_features=20, bias=True)\n",
       "  )\n",
       "  (decoder): Sequential(\n",
       "    (0): Linear(in_features=10, out_features=1200, bias=True)\n",
       "    (1): Tanh()\n",
       "    (2): Linear(in_features=1200, out_features=1200, bias=True)\n",
       "    (3): Tanh()\n",
       "    (4): Linear(in_features=1200, out_features=1200, bias=True)\n",
       "    (5): Tanh()\n",
       "    (6): Linear(in_features=1200, out_features=4096, bias=True)\n",
       "  )\n",
       ")"
      ]
     },
     "execution_count": 30,
     "metadata": {},
     "output_type": "execute_result"
    }
   ],
   "source": [
    "model_beta1_e40_alldata = torch.load('trained_models/betavae_beta1_e40_alldata.dat')\n",
    "model_beta1_e40_alldata.eval()"
   ]
  },
  {
   "cell_type": "code",
   "execution_count": 31,
   "id": "rotary-greene",
   "metadata": {
    "scrolled": true
   },
   "outputs": [
    {
     "name": "stdout",
     "output_type": "stream",
     "text": [
      "[[ 0.  0.  0.  0.  0.  0.  0.  0.  0.  0.]\n",
      " [ 0.  6.  4.  1.  2.  5.  0.  0.  4.  0.]\n",
      " [ 0.  0.  4.  0. 10.  0.  0.  0.  2.  0.]\n",
      " [ 4.  0.  4.  3.  2.  0.  0.  7.  0.  3.]\n",
      " [ 1.  0.  3.  0.  0.  0.  6.  1.  0.  8.]\n",
      " [20.  0.  0.  0.  0.  0.  0.  0.  0.  0.]]\n",
      "Factor Vae metric: \n",
      "Accuracy: 0.51\n",
      "Beta Vae metric: \n",
      "Epoch 0 finished, loss: 1.6710106402635574, accuracy:0.16375\n",
      "Epoch 1 finished, loss: 1.6667605459690094, accuracy:0.165\n",
      "Epoch 2 finished, loss: 1.662931926548481, accuracy:0.16875\n",
      "Epoch 3 finished, loss: 1.6594409078359604, accuracy:0.1675\n",
      "Epoch 4 finished, loss: 1.6560884535312652, accuracy:0.17\n",
      "Epoch 5 finished, loss: 1.6530262008309364, accuracy:0.17\n",
      "Epoch 6 finished, loss: 1.650194674730301, accuracy:0.17125\n",
      "Epoch 7 finished, loss: 1.6475941717624665, accuracy:0.1675\n",
      "Epoch 8 finished, loss: 1.6451336145401, accuracy:0.1675\n",
      "Epoch 9 finished, loss: 1.6429397389292717, accuracy:0.16625\n",
      "Epoch 10 finished, loss: 1.640892541408539, accuracy:0.165\n",
      "Epoch 11 finished, loss: 1.638897942006588, accuracy:0.165\n",
      "Epoch 12 finished, loss: 1.6371580332517623, accuracy:0.16625\n",
      "Epoch 13 finished, loss: 1.6354518741369248, accuracy:0.16375\n",
      "Epoch 14 finished, loss: 1.6339339643716813, accuracy:0.15875\n",
      "Epoch 15 finished, loss: 1.6324370503425598, accuracy:0.16125\n",
      "Epoch 16 finished, loss: 1.6310980856418609, accuracy:0.16375\n",
      "Epoch 17 finished, loss: 1.6298817053437233, accuracy:0.16625\n",
      "Epoch 18 finished, loss: 1.6286248043179512, accuracy:0.1675\n",
      "Epoch 19 finished, loss: 1.627512091398239, accuracy:0.17125\n",
      "Epoch 20 finished, loss: 1.6264238953590393, accuracy:0.1675\n",
      "Epoch 21 finished, loss: 1.625464214384556, accuracy:0.17\n",
      "Epoch 22 finished, loss: 1.6244583681225777, accuracy:0.17375\n",
      "Epoch 23 finished, loss: 1.6235606715083122, accuracy:0.175\n",
      "Epoch 24 finished, loss: 1.6226827532052994, accuracy:0.17375\n",
      "Epoch 25 finished, loss: 1.6218926310539246, accuracy:0.18375\n",
      "Epoch 26 finished, loss: 1.6211239621043205, accuracy:0.1825\n",
      "Epoch 27 finished, loss: 1.620283316075802, accuracy:0.1825\n",
      "Epoch 28 finished, loss: 1.6195859730243682, accuracy:0.18375\n",
      "Epoch 29 finished, loss: 1.6188887342810632, accuracy:0.1825\n",
      "Epoch 30 finished, loss: 1.6182031989097596, accuracy:0.18875\n",
      "Epoch 31 finished, loss: 1.6176909878849983, accuracy:0.19125\n",
      "Epoch 32 finished, loss: 1.6169032603502274, accuracy:0.1875\n",
      "Epoch 33 finished, loss: 1.6163037836551666, accuracy:0.19\n",
      "Epoch 34 finished, loss: 1.61573176831007, accuracy:0.18875\n",
      "Epoch 35 finished, loss: 1.615145391225815, accuracy:0.19\n",
      "Epoch 36 finished, loss: 1.614643108844757, accuracy:0.1925\n",
      "Epoch 37 finished, loss: 1.614008118212223, accuracy:0.19375\n",
      "Epoch 38 finished, loss: 1.6134735003113747, accuracy:0.1925\n",
      "Epoch 39 finished, loss: 1.6129757896065713, accuracy:0.19125\n",
      "Epoch 40 finished, loss: 1.6124736949801446, accuracy:0.19375\n",
      "Epoch 41 finished, loss: 1.612004329264164, accuracy:0.19875\n",
      "Epoch 42 finished, loss: 1.6114181712269784, accuracy:0.1975\n",
      "Epoch 43 finished, loss: 1.6109172597527504, accuracy:0.19875\n",
      "Epoch 44 finished, loss: 1.6104628190398216, accuracy:0.19625\n",
      "Epoch 45 finished, loss: 1.6099681749939918, accuracy:0.20125\n",
      "Epoch 46 finished, loss: 1.6095544904470445, accuracy:0.2025\n",
      "Epoch 47 finished, loss: 1.6090905293822289, accuracy:0.205\n",
      "Epoch 48 finished, loss: 1.6086141511797905, accuracy:0.2025\n",
      "Epoch 49 finished, loss: 1.6081072330474853, accuracy:0.205\n",
      "Epoch 50 finished, loss: 1.6077136993408203, accuracy:0.205\n",
      "Epoch 51 finished, loss: 1.6072355300188064, accuracy:0.20375\n",
      "Epoch 52 finished, loss: 1.6068007320165634, accuracy:0.20125\n",
      "Epoch 53 finished, loss: 1.6063392624258994, accuracy:0.2025\n",
      "Epoch 54 finished, loss: 1.6059303075075149, accuracy:0.2025\n",
      "Epoch 55 finished, loss: 1.6054960891604424, accuracy:0.20625\n",
      "Epoch 56 finished, loss: 1.605092516541481, accuracy:0.20625\n",
      "Epoch 57 finished, loss: 1.6046443939208985, accuracy:0.20625\n",
      "Epoch 58 finished, loss: 1.6042664796113968, accuracy:0.20875\n",
      "Epoch 59 finished, loss: 1.6038345277309418, accuracy:0.205\n",
      "Epoch 60 finished, loss: 1.6033914610743523, accuracy:0.21125\n",
      "Epoch 61 finished, loss: 1.6029625102877616, accuracy:0.20875\n",
      "Epoch 62 finished, loss: 1.6025971636176108, accuracy:0.21125\n",
      "Epoch 63 finished, loss: 1.6021899327635765, accuracy:0.21125\n",
      "Epoch 64 finished, loss: 1.601803359389305, accuracy:0.21625\n",
      "Epoch 65 finished, loss: 1.601378509402275, accuracy:0.22125\n",
      "Epoch 66 finished, loss: 1.6009442970156669, accuracy:0.22\n",
      "Epoch 67 finished, loss: 1.6005544379353522, accuracy:0.21875\n",
      "Epoch 68 finished, loss: 1.6001742899417877, accuracy:0.2175\n",
      "Epoch 69 finished, loss: 1.5997994273900986, accuracy:0.2175\n",
      "Epoch 70 finished, loss: 1.5993960916996002, accuracy:0.22\n",
      "Epoch 71 finished, loss: 1.599059209227562, accuracy:0.22125\n",
      "Epoch 72 finished, loss: 1.5986337542533875, accuracy:0.2175\n",
      "Epoch 73 finished, loss: 1.5982732817530632, accuracy:0.21875\n",
      "Epoch 74 finished, loss: 1.5978947103023529, accuracy:0.21875\n",
      "Epoch 75 finished, loss: 1.5975415214896203, accuracy:0.22\n",
      "Epoch 76 finished, loss: 1.597093465924263, accuracy:0.22\n",
      "Epoch 77 finished, loss: 1.5967626437544822, accuracy:0.22125\n",
      "Epoch 78 finished, loss: 1.5963853120803833, accuracy:0.21625\n",
      "Epoch 79 finished, loss: 1.596051526069641, accuracy:0.21625\n",
      "Epoch 80 finished, loss: 1.5956517204642295, accuracy:0.21875\n",
      "Epoch 81 finished, loss: 1.5952762141823769, accuracy:0.215\n",
      "Epoch 82 finished, loss: 1.5949206128716469, accuracy:0.21625\n",
      "Epoch 83 finished, loss: 1.5946329787373543, accuracy:0.21875\n",
      "Epoch 84 finished, loss: 1.5942488566040993, accuracy:0.2175\n",
      "Epoch 85 finished, loss: 1.5939092367887497, accuracy:0.21875\n",
      "Epoch 86 finished, loss: 1.5935097068548203, accuracy:0.22125\n",
      "Epoch 87 finished, loss: 1.5931280925869942, accuracy:0.22125\n",
      "Epoch 88 finished, loss: 1.5928319618105888, accuracy:0.22125\n",
      "Epoch 89 finished, loss: 1.5924529790878297, accuracy:0.2225\n",
      "Epoch 90 finished, loss: 1.5921048730611802, accuracy:0.22375\n",
      "Epoch 91 finished, loss: 1.5917579248547553, accuracy:0.225\n",
      "Epoch 92 finished, loss: 1.5914145529270172, accuracy:0.2225\n",
      "Epoch 93 finished, loss: 1.5910567075014115, accuracy:0.22625\n",
      "Epoch 94 finished, loss: 1.5907092854380607, accuracy:0.2275\n",
      "Epoch 95 finished, loss: 1.5903506368398665, accuracy:0.22875\n",
      "Epoch 96 finished, loss: 1.590056025981903, accuracy:0.2275\n",
      "Epoch 97 finished, loss: 1.5896972835063934, accuracy:0.22875\n",
      "Epoch 98 finished, loss: 1.5893948033452034, accuracy:0.2275\n",
      "Epoch 99 finished, loss: 1.5890515506267548, accuracy:0.2275\n",
      "Epoch 100 finished, loss: 1.5887304991483688, accuracy:0.23375\n",
      "Epoch 101 finished, loss: 1.588355664908886, accuracy:0.2325\n",
      "Epoch 102 finished, loss: 1.588070321083069, accuracy:0.235\n",
      "Epoch 103 finished, loss: 1.5877062380313873, accuracy:0.23375\n",
      "Epoch 104 finished, loss: 1.5873834058642387, accuracy:0.23625\n",
      "Epoch 105 finished, loss: 1.5870859786868095, accuracy:0.23625\n",
      "Epoch 106 finished, loss: 1.5868226051330567, accuracy:0.22875\n",
      "Epoch 107 finished, loss: 1.5864358872175217, accuracy:0.23875\n",
      "Epoch 108 finished, loss: 1.586103917658329, accuracy:0.23125\n",
      "Epoch 109 finished, loss: 1.5858473882079125, accuracy:0.23875\n",
      "Epoch 110 finished, loss: 1.5854894280433656, accuracy:0.23375\n",
      "Epoch 111 finished, loss: 1.5851784363389014, accuracy:0.23\n",
      "Epoch 112 finished, loss: 1.5848586112260818, accuracy:0.23\n",
      "Epoch 113 finished, loss: 1.5845181778073312, accuracy:0.2325\n",
      "Epoch 114 finished, loss: 1.5841808170080185, accuracy:0.23375\n",
      "Epoch 115 finished, loss: 1.5838915884494782, accuracy:0.23375\n",
      "Epoch 116 finished, loss: 1.5835674926638603, accuracy:0.23375\n",
      "Epoch 117 finished, loss: 1.583281046152115, accuracy:0.23375\n",
      "Epoch 118 finished, loss: 1.5829939872026444, accuracy:0.2375\n",
      "Epoch 119 finished, loss: 1.5826745569705962, accuracy:0.23875\n",
      "Epoch 120 finished, loss: 1.5823775961995126, accuracy:0.24\n",
      "Epoch 121 finished, loss: 1.5820651188492776, accuracy:0.23875\n",
      "Epoch 122 finished, loss: 1.5817716598510743, accuracy:0.23625\n",
      "Epoch 123 finished, loss: 1.5814738497138023, accuracy:0.2375\n",
      "Epoch 124 finished, loss: 1.5811498582363128, accuracy:0.24\n",
      "Epoch 125 finished, loss: 1.5808666482567788, accuracy:0.23875\n",
      "Epoch 126 finished, loss: 1.5805482000112534, accuracy:0.2425\n",
      "Epoch 127 finished, loss: 1.5802661389112473, accuracy:0.245\n",
      "Epoch 128 finished, loss: 1.5799661561846734, accuracy:0.24375\n",
      "Epoch 129 finished, loss: 1.5796876415610313, accuracy:0.2425\n",
      "Epoch 130 finished, loss: 1.5793743968009948, accuracy:0.24125\n",
      "Epoch 131 finished, loss: 1.5791028276085854, accuracy:0.24125\n",
      "Epoch 132 finished, loss: 1.5787902027368546, accuracy:0.245\n",
      "Epoch 133 finished, loss: 1.5785597816109658, accuracy:0.2425\n"
     ]
    },
    {
     "name": "stdout",
     "output_type": "stream",
     "text": [
      "Epoch 134 finished, loss: 1.5781890124082565, accuracy:0.2475\n",
      "Epoch 135 finished, loss: 1.5779826655983924, accuracy:0.2475\n",
      "Epoch 136 finished, loss: 1.5776745676994324, accuracy:0.24625\n",
      "Epoch 137 finished, loss: 1.5774048954248427, accuracy:0.25\n",
      "Epoch 138 finished, loss: 1.5771436408162116, accuracy:0.24875\n",
      "Epoch 139 finished, loss: 1.576828770339489, accuracy:0.25125\n",
      "Epoch 140 finished, loss: 1.5765441060066223, accuracy:0.2525\n",
      "Epoch 141 finished, loss: 1.5762665003538132, accuracy:0.25\n",
      "Epoch 142 finished, loss: 1.575998416543007, accuracy:0.2525\n",
      "Epoch 143 finished, loss: 1.5757728219032288, accuracy:0.25375\n",
      "Epoch 144 finished, loss: 1.5754419967532158, accuracy:0.255\n",
      "Epoch 145 finished, loss: 1.5751987248659134, accuracy:0.25875\n",
      "Epoch 146 finished, loss: 1.574925796687603, accuracy:0.2625\n",
      "Epoch 147 finished, loss: 1.5746350452303886, accuracy:0.26\n",
      "Epoch 148 finished, loss: 1.5744030624628067, accuracy:0.26125\n",
      "Epoch 149 finished, loss: 1.5741095140576362, accuracy:0.26375\n",
      "Epoch 150 finished, loss: 1.573856683075428, accuracy:0.265\n",
      "Epoch 151 finished, loss: 1.573621319234371, accuracy:0.26375\n",
      "Epoch 152 finished, loss: 1.5733252733945846, accuracy:0.26\n",
      "Epoch 153 finished, loss: 1.5730226740241051, accuracy:0.25875\n",
      "Epoch 154 finished, loss: 1.572819621860981, accuracy:0.26\n",
      "Epoch 155 finished, loss: 1.5725300878286361, accuracy:0.25875\n",
      "Epoch 156 finished, loss: 1.572310371696949, accuracy:0.25625\n",
      "Epoch 157 finished, loss: 1.5720157235860825, accuracy:0.25625\n",
      "Epoch 158 finished, loss: 1.5717960983514785, accuracy:0.25875\n",
      "Epoch 159 finished, loss: 1.5715726912021637, accuracy:0.25625\n",
      "Epoch 160 finished, loss: 1.5712783232331275, accuracy:0.2575\n",
      "Epoch 161 finished, loss: 1.570993047952652, accuracy:0.2575\n",
      "Epoch 162 finished, loss: 1.5707483172416687, accuracy:0.2575\n",
      "Epoch 163 finished, loss: 1.5704841807484626, accuracy:0.2575\n",
      "Epoch 164 finished, loss: 1.5702296853065492, accuracy:0.2575\n",
      "Epoch 165 finished, loss: 1.5699934542179108, accuracy:0.25625\n",
      "Epoch 166 finished, loss: 1.5697414487600327, accuracy:0.2575\n",
      "Epoch 167 finished, loss: 1.5695057079195975, accuracy:0.25875\n",
      "Epoch 168 finished, loss: 1.5692724227905273, accuracy:0.25625\n",
      "Epoch 169 finished, loss: 1.5690355449914932, accuracy:0.25875\n",
      "Epoch 170 finished, loss: 1.5687730818986894, accuracy:0.25875\n",
      "Epoch 171 finished, loss: 1.5685214206576348, accuracy:0.26\n",
      "Epoch 172 finished, loss: 1.5682829320430756, accuracy:0.26375\n",
      "Epoch 173 finished, loss: 1.568023607134819, accuracy:0.25875\n",
      "Epoch 174 finished, loss: 1.5677936762571334, accuracy:0.25875\n",
      "Epoch 175 finished, loss: 1.5675935089588164, accuracy:0.2625\n",
      "Epoch 176 finished, loss: 1.5673633426427842, accuracy:0.26125\n",
      "Epoch 177 finished, loss: 1.5671438217163085, accuracy:0.25875\n",
      "Epoch 178 finished, loss: 1.5668834686279296, accuracy:0.2625\n",
      "Epoch 179 finished, loss: 1.5666501328349114, accuracy:0.2625\n",
      "Epoch 180 finished, loss: 1.5664393946528434, accuracy:0.2625\n",
      "Epoch 181 finished, loss: 1.566164992749691, accuracy:0.26\n",
      "Epoch 182 finished, loss: 1.5660502046346665, accuracy:0.26125\n",
      "Epoch 183 finished, loss: 1.565699328482151, accuracy:0.26125\n",
      "Epoch 184 finished, loss: 1.5655372217297554, accuracy:0.26\n",
      "Epoch 185 finished, loss: 1.5652405306696893, accuracy:0.2625\n",
      "Epoch 186 finished, loss: 1.5650406911969186, accuracy:0.26125\n",
      "Epoch 187 finished, loss: 1.5647910371422769, accuracy:0.26\n",
      "Epoch 188 finished, loss: 1.5646011352539062, accuracy:0.26\n",
      "Epoch 189 finished, loss: 1.5644072070717812, accuracy:0.25875\n",
      "Epoch 190 finished, loss: 1.5641347736120224, accuracy:0.26\n",
      "Epoch 191 finished, loss: 1.5639197796583175, accuracy:0.26125\n",
      "Epoch 192 finished, loss: 1.563691082596779, accuracy:0.26375\n",
      "Epoch 193 finished, loss: 1.5634845986962318, accuracy:0.2625\n",
      "Epoch 194 finished, loss: 1.5633343398571014, accuracy:0.26375\n",
      "Epoch 195 finished, loss: 1.5630749106407165, accuracy:0.26125\n",
      "Epoch 196 finished, loss: 1.5628454580903053, accuracy:0.2625\n",
      "Epoch 197 finished, loss: 1.562585012614727, accuracy:0.26625\n",
      "Epoch 198 finished, loss: 1.562416386604309, accuracy:0.2675\n",
      "Epoch 199 finished, loss: 1.5621867686510087, accuracy:0.2675\n",
      "Test loss: 1.571779727935791, test accuracy: 0.23\n"
     ]
    },
    {
     "data": {
      "image/png": "[encoded data removed]",
      "text/plain": [
       "<Figure size 432x288 with 1 Axes>"
      ]
     },
     "metadata": {
      "needs_background": "light"
     },
     "output_type": "display_data"
    },
    {
     "data": {
      "image/png": "[encoded data removed]",
      "text/plain": [
       "<Figure size 432x288 with 1 Axes>"
      ]
     },
     "metadata": {
      "needs_background": "light"
     },
     "output_type": "display_data"
    }
   ],
   "source": [
    "loss = entanglement_metric_factor_vae(model_beta1_e40_alldata, data_, 100, 1000)\n",
    "print(\"Factor Vae metric: \")\n",
    "print(\"Accuracy: \"+str(1-loss))\n",
    "print(\"Beta Vae metric: \")\n",
    "classifier = Classifier()\n",
    "optimizer = torch.optim.Adam(classifier.parameters(), lr=1e-4)\n",
    "losses, accuracies = entanglement_metric_beta_vae(model_beta1_e40_alldata, classifier, optimizer, 1000,  data_, 500, 50, device)\n",
    "plot_loss(losses, \"NLL Loss\")\n",
    "plot_loss(accuracies, \"Accuracy\")"
   ]
  },
  {
   "cell_type": "code",
   "execution_count": 13,
   "id": "convenient-mention",
   "metadata": {},
   "outputs": [
    {
     "name": "stdout",
     "output_type": "stream",
     "text": [
      "..........."
     ]
    }
   ],
   "source": [
    "latent_gaussian_variance_beta1 = compute_latent_gaussian_variance(model_beta1_e40_alldata, dataset)"
   ]
  },
  {
   "cell_type": "code",
   "execution_count": 14,
   "id": "alleged-merit",
   "metadata": {},
   "outputs": [
    {
     "name": "stdout",
     "output_type": "stream",
     "text": [
      "tensor([0.0094, 0.0634, 0.0134, 0.0451, 0.0390, 0.0524, 0.0099, 0.0142, 0.1327,\n",
      "        0.0124])\n"
     ]
    }
   ],
   "source": [
    "print(latent_gaussian_variance_beta1)"
   ]
  },
  {
   "cell_type": "code",
   "execution_count": 1,
   "id": "cardiac-monthly",
   "metadata": {},
   "outputs": [
    {
     "ename": "NameError",
     "evalue": "name 'np' is not defined",
     "output_type": "error",
     "traceback": [
      "\u001b[0;31m---------------------------------------------------------------------------\u001b[0m",
      "\u001b[0;31mNameError\u001b[0m                                 Traceback (most recent call last)",
      "\u001b[0;32m<ipython-input-1-a813f5e97ed3>\u001b[0m in \u001b[0;36m<module>\u001b[0;34m\u001b[0m\n\u001b[0;32m----> 1\u001b[0;31m \u001b[0mindex\u001b[0m \u001b[0;34m=\u001b[0m \u001b[0mnp\u001b[0m\u001b[0;34m.\u001b[0m\u001b[0mrandom\u001b[0m\u001b[0;34m.\u001b[0m\u001b[0mrandint\u001b[0m\u001b[0;34m(\u001b[0m\u001b[0;36m0\u001b[0m\u001b[0;34m,\u001b[0m \u001b[0mlen\u001b[0m\u001b[0;34m(\u001b[0m\u001b[0mdataset\u001b[0m\u001b[0;34m)\u001b[0m\u001b[0;34m)\u001b[0m\u001b[0;34m\u001b[0m\u001b[0;34m\u001b[0m\u001b[0m\n\u001b[0m\u001b[1;32m      2\u001b[0m \u001b[0moriginal\u001b[0m \u001b[0;34m=\u001b[0m \u001b[0mdataset\u001b[0m\u001b[0;34m[\u001b[0m\u001b[0mindex\u001b[0m\u001b[0;34m]\u001b[0m\u001b[0;34m.\u001b[0m\u001b[0mfloat\u001b[0m\u001b[0;34m(\u001b[0m\u001b[0;34m)\u001b[0m\u001b[0;34m.\u001b[0m\u001b[0mto\u001b[0m\u001b[0;34m(\u001b[0m\u001b[0mdevice\u001b[0m\u001b[0;34m)\u001b[0m\u001b[0;34m\u001b[0m\u001b[0;34m\u001b[0m\u001b[0m\n",
      "\u001b[0;31mNameError\u001b[0m: name 'np' is not defined"
     ]
    }
   ],
   "source": [
    "index = np.random.randint(0, len(dataset))\n",
    "original = dataset[index].float().to(device)\n"
   ]
  },
  {
   "cell_type": "code",
   "execution_count": 17,
   "id": "binding-ancient",
   "metadata": {},
   "outputs": [
    {
     "data": {
      "image/png": "[encoded data removed]",
      "text/plain": [
       "<Figure size 432x288 with 1 Axes>"
      ]
     },
     "metadata": {
      "needs_background": "light"
     },
     "output_type": "display_data"
    }
   ],
   "source": [
    "plt.imshow(torch.sigmoid(original.cpu().detach()).view(64,64), cmap='Greys_r')\n",
    "plt.show()"
   ]
  },
  {
   "cell_type": "code",
   "execution_count": 18,
   "id": "balanced-qatar",
   "metadata": {},
   "outputs": [],
   "source": [
    "recon, mu, logvar = model_beta1_e40_alldata(original)"
   ]
  },
  {
   "cell_type": "code",
   "execution_count": 19,
   "id": "seventh-reservation",
   "metadata": {},
   "outputs": [
    {
     "data": {
      "text/plain": [
       "tensor([[0.0094, 0.0554, 0.0182, 0.0401, 0.0399, 0.0454, 0.0093, 0.0220, 0.2406,\n",
       "         0.0106]], device='cuda:0', grad_fn=<ExpBackward>)"
      ]
     },
     "execution_count": 19,
     "metadata": {},
     "output_type": "execute_result"
    }
   ],
   "source": [
    "logvar.div(2).exp()"
   ]
  },
  {
   "cell_type": "code",
   "execution_count": 21,
   "id": "color-bernard",
   "metadata": {},
   "outputs": [
    {
     "data": {
      "image/png": "[encoded data removed]",
      "text/plain": [
       "<Figure size 432x288 with 1 Axes>"
      ]
     },
     "metadata": {
      "needs_background": "light"
     },
     "output_type": "display_data"
    }
   ],
   "source": [
    "plt.imshow(torch.sigmoid(recon.cpu().detach()).view(64,64), cmap='Greys_r')\n",
    "plt.show()"
   ]
  },
  {
   "cell_type": "code",
   "execution_count": null,
   "id": "mounted-least",
   "metadata": {},
   "outputs": [],
   "source": []
  },
  {
   "cell_type": "code",
   "execution_count": 20,
   "id": "empty-jones",
   "metadata": {
    "scrolled": false
   },
   "outputs": [
    {
     "data": {
      "image/png": "[encoded data removed]",
      "text/plain": [
       "<Figure size 864x864 with 100 Axes>"
      ]
     },
     "metadata": {
      "needs_background": "light"
     },
     "output_type": "display_data"
    }
   ],
   "source": [
    "fig = plt.figure(figsize=[12, 12])\n",
    "for i in range(10):\n",
    "    imgs = latent_transversal(model_beta1_e40_alldata, original, -3, 3, 10, i)\n",
    "    for j, img in enumerate(imgs):\n",
    "        plt.subplot(10, 10, i * 10 + j + 1)\n",
    "        plt.axis('off')\n",
    "        plt.imshow(torch.sigmoid(img.detach()).view(64,64), cmap='Greys_r')\n",
    "plt.show()"
   ]
  },
  {
   "cell_type": "code",
   "execution_count": 5,
   "id": "hidden-constitutional",
   "metadata": {},
   "outputs": [],
   "source": [
    "from utils import save_checkpoint, load_checkpoint"
   ]
  },
  {
   "cell_type": "code",
   "execution_count": 9,
   "id": "finished-object",
   "metadata": {},
   "outputs": [],
   "source": [
    "model = BetaVAEDSprites()\n",
    "model.to(device)\n",
    "optimizer = torch.optim.Adagrad(model.parameters(), lr=1e-2)\n",
    "losslogger = []"
   ]
  },
  {
   "cell_type": "code",
   "execution_count": 11,
   "id": "collective-canon",
   "metadata": {},
   "outputs": [
    {
     "name": "stdout",
     "output_type": "stream",
     "text": [
      "=> loading checkpoint 'trained_models/betavae_beta4_e100_alldata.pth.tar'\n",
      "=> loaded checkpoint 'trained_models/betavae_beta4_e100_alldata.pth.tar' (epoch 101)\n"
     ]
    }
   ],
   "source": [
    "model_beta4_e100, optimizer, start_epoch, losslogger = load_checkpoint(\n",
    "    model, optimizer, losslogger,\n",
    "    'trained_models/betavae_beta4_e100_alldata.pth.tar')"
   ]
  },
  {
   "cell_type": "code",
   "execution_count": 12,
   "id": "driven-priest",
   "metadata": {},
   "outputs": [
    {
     "data": {
      "text/plain": [
       "(tensor([[-22.1766, -21.6752, -22.0266,  ..., -22.2811, -22.0703, -21.9393]],\n",
       "        device='cuda:0', grad_fn=<AddmmBackward>),\n",
       " tensor([[ 0.6407,  0.3896,  1.2050, -0.0108, -0.7347,  1.5645,  0.0088, -0.5321,\n",
       "           0.7589, -0.0401]], device='cuda:0', grad_fn=<SliceBackward>),\n",
       " tensor([[-5.9687, -4.9327, -6.1625, -0.0626, -6.8360, -7.9847, -0.0889, -8.4066,\n",
       "          -8.3986, -0.0898]], device='cuda:0', grad_fn=<SliceBackward>))"
      ]
     },
     "execution_count": 12,
     "metadata": {},
     "output_type": "execute_result"
    }
   ],
   "source": [
    "model_beta4_e100(dataset[0].float().to(device))"
   ]
  },
  {
   "cell_type": "code",
   "execution_count": 25,
   "id": "described-ownership",
   "metadata": {},
   "outputs": [
    {
     "name": "stdout",
     "output_type": "stream",
     "text": [
      "...........tensor([0.0414, 0.0913, 0.0380, 0.9566, 0.0316, 0.0158, 0.9635, 0.0189, 0.0130,\n",
      "        0.9602])\n"
     ]
    }
   ],
   "source": [
    "latent_gaussian_variance_beta4 = compute_latent_gaussian_variance(model_beta4_e100, dataset)\n",
    "print(latent_gaussian_variance_beta4)"
   ]
  },
  {
   "cell_type": "code",
   "execution_count": 13,
   "id": "built-basket",
   "metadata": {},
   "outputs": [],
   "source": [
    "index = np.random.randint(0, len(dataset))\n",
    "original = dataset[index].float().to(device)\n"
   ]
  },
  {
   "cell_type": "code",
   "execution_count": 14,
   "id": "verbal-volume",
   "metadata": {
    "scrolled": false
   },
   "outputs": [
    {
     "data": {
      "image/png": "[encoded data removed]",
      "text/plain": [
       "<Figure size 864x864 with 100 Axes>"
      ]
     },
     "metadata": {
      "needs_background": "light"
     },
     "output_type": "display_data"
    }
   ],
   "source": [
    "fig = plt.figure(figsize=[12, 12])\n",
    "for i in range(10):\n",
    "    imgs = latent_transversal(model, original, -3, 3, 10, i)\n",
    "    for j, img in enumerate(imgs):\n",
    "        plt.subplot(10, 10, i * 10 + j + 1)\n",
    "        plt.axis('off')\n",
    "        plt.imshow(torch.sigmoid(img.detach()).view(64,64), cmap='Greys_r')\n",
    "plt.show()"
   ]
  },
  {
   "cell_type": "code",
   "execution_count": 21,
   "id": "insured-screw",
   "metadata": {},
   "outputs": [
    {
     "data": {
      "text/plain": [
       "BetaVAEDSprites(\n",
       "  (encoder): Sequential(\n",
       "    (0): Linear(in_features=4096, out_features=1200, bias=True)\n",
       "    (1): ReLU()\n",
       "    (2): Linear(in_features=1200, out_features=1200, bias=True)\n",
       "    (3): ReLU()\n",
       "    (4): Linear(in_features=1200, out_features=20, bias=True)\n",
       "  )\n",
       "  (decoder): Sequential(\n",
       "    (0): Linear(in_features=10, out_features=1200, bias=True)\n",
       "    (1): Tanh()\n",
       "    (2): Linear(in_features=1200, out_features=1200, bias=True)\n",
       "    (3): Tanh()\n",
       "    (4): Linear(in_features=1200, out_features=1200, bias=True)\n",
       "    (5): Tanh()\n",
       "    (6): Linear(in_features=1200, out_features=4096, bias=True)\n",
       "  )\n",
       ")"
      ]
     },
     "execution_count": 21,
     "metadata": {},
     "output_type": "execute_result"
    }
   ],
   "source": [
    "model_beta4_e100.cpu()"
   ]
  },
  {
   "cell_type": "code",
   "execution_count": 24,
   "id": "authentic-caution",
   "metadata": {},
   "outputs": [
    {
     "name": "stdout",
     "output_type": "stream",
     "text": [
      "[[ 0.  0.  0.  0.  0.  0.  0.  0.  0.  0.]\n",
      " [ 9.  9.  0.  0.  0.  2.  0.  2.  2.  0.]\n",
      " [ 0.  4.  6.  3.  0.  0.  1.  0.  0.  3.]\n",
      " [14.  1.  0.  0.  4.  0.  0.  0.  5.  0.]\n",
      " [ 0.  0.  2.  0.  6.  6.  0.  2.  0.  0.]\n",
      " [ 0.  0.  0.  0.  3.  4.  0.  2. 10.  0.]]\n",
      "Factor Vae metric: \n",
      "Accuracy: 0.44999999999999996\n",
      "Beta Vae metric: \n",
      "Epoch 0 finished, loss: 1.6275816917419434, accuracy:0.1925\n",
      "Epoch 1 finished, loss: 1.626277008652687, accuracy:0.19625\n",
      "Epoch 2 finished, loss: 1.625090028345585, accuracy:0.19625\n",
      "Epoch 3 finished, loss: 1.6239756524562836, accuracy:0.19625\n",
      "Epoch 4 finished, loss: 1.6228930607438088, accuracy:0.19375\n",
      "Epoch 5 finished, loss: 1.6219044610857964, accuracy:0.195\n",
      "Epoch 6 finished, loss: 1.6209238588809967, accuracy:0.195\n",
      "Epoch 7 finished, loss: 1.6200217470526694, accuracy:0.19125\n",
      "Epoch 8 finished, loss: 1.6191286817193031, accuracy:0.1925\n",
      "Epoch 9 finished, loss: 1.6182975947856904, accuracy:0.19125\n",
      "Epoch 10 finished, loss: 1.6175555661320686, accuracy:0.195\n",
      "Epoch 11 finished, loss: 1.6167994558811187, accuracy:0.195\n",
      "Epoch 12 finished, loss: 1.6160871893167497, accuracy:0.2\n",
      "Epoch 13 finished, loss: 1.6154316708445549, accuracy:0.20375\n",
      "Epoch 14 finished, loss: 1.614799326658249, accuracy:0.2075\n",
      "Epoch 15 finished, loss: 1.6141461834311486, accuracy:0.2075\n",
      "Epoch 16 finished, loss: 1.6135848358273506, accuracy:0.21\n",
      "Epoch 17 finished, loss: 1.61302011013031, accuracy:0.2075\n",
      "Epoch 18 finished, loss: 1.6125040873885155, accuracy:0.21\n",
      "Epoch 19 finished, loss: 1.6119752809405328, accuracy:0.21125\n",
      "Epoch 20 finished, loss: 1.6115601420402528, accuracy:0.2125\n",
      "Epoch 21 finished, loss: 1.611083874106407, accuracy:0.2125\n",
      "Epoch 22 finished, loss: 1.6105684787034988, accuracy:0.21125\n",
      "Epoch 23 finished, loss: 1.6101385816931724, accuracy:0.20625\n",
      "Epoch 24 finished, loss: 1.6096917763352394, accuracy:0.21\n",
      "Epoch 25 finished, loss: 1.6092813044786454, accuracy:0.21\n",
      "Epoch 26 finished, loss: 1.6088743537664414, accuracy:0.21\n",
      "Epoch 27 finished, loss: 1.6085256606340408, accuracy:0.20875\n",
      "Epoch 28 finished, loss: 1.6081340864300728, accuracy:0.21125\n",
      "Epoch 29 finished, loss: 1.6077604427933694, accuracy:0.21\n",
      "Epoch 30 finished, loss: 1.6074165120720862, accuracy:0.21125\n",
      "Epoch 31 finished, loss: 1.6070724904537201, accuracy:0.2125\n",
      "Epoch 32 finished, loss: 1.606709672510624, accuracy:0.21125\n",
      "Epoch 33 finished, loss: 1.6063878029584884, accuracy:0.21125\n",
      "Epoch 34 finished, loss: 1.6060764402151109, accuracy:0.21375\n",
      "Epoch 35 finished, loss: 1.6057467475533485, accuracy:0.21125\n",
      "Epoch 36 finished, loss: 1.6054625242948533, accuracy:0.21\n",
      "Epoch 37 finished, loss: 1.6051571249961853, accuracy:0.20875\n",
      "Epoch 38 finished, loss: 1.6048346281051635, accuracy:0.21125\n",
      "Epoch 39 finished, loss: 1.6045385643839836, accuracy:0.215\n",
      "Epoch 40 finished, loss: 1.6042724296450614, accuracy:0.2125\n",
      "Epoch 41 finished, loss: 1.6039852425456047, accuracy:0.2125\n",
      "Epoch 42 finished, loss: 1.6037211507558822, accuracy:0.215\n",
      "Epoch 43 finished, loss: 1.603428490459919, accuracy:0.215\n",
      "Epoch 44 finished, loss: 1.603156778216362, accuracy:0.22\n",
      "Epoch 45 finished, loss: 1.6028828173875809, accuracy:0.2175\n",
      "Epoch 46 finished, loss: 1.6026223868131637, accuracy:0.21875\n",
      "Epoch 47 finished, loss: 1.602387197315693, accuracy:0.21875\n",
      "Epoch 48 finished, loss: 1.6020995825529099, accuracy:0.21875\n",
      "Epoch 49 finished, loss: 1.6018194437026978, accuracy:0.22\n",
      "Test loss: 1.6116895914077758, test accuracy: 0.22\n"
     ]
    },
    {
     "data": {
      "image/png": "[encoded data removed]",
      "text/plain": [
       "<Figure size 432x288 with 1 Axes>"
      ]
     },
     "metadata": {
      "needs_background": "light"
     },
     "output_type": "display_data"
    },
    {
     "data": {
      "image/png": "[encoded data removed]",
      "text/plain": [
       "<Figure size 432x288 with 1 Axes>"
      ]
     },
     "metadata": {
      "needs_background": "light"
     },
     "output_type": "display_data"
    }
   ],
   "source": [
    "loss = entanglement_metric_factor_vae(model_beta4_e100, data_, 100, 1000)\n",
    "print(\"Factor Vae metric: \")\n",
    "print(\"Accuracy: \"+str(1-loss))\n",
    "print(\"Beta Vae metric: \")\n",
    "classifier = Classifier()\n",
    "optimizer = torch.optim.Adam(classifier.parameters(), lr=1e-4)\n",
    "losses, accuracies = entanglement_metric_beta_vae(model_beta4_e100, classifier, optimizer, 50,  data_, 1000, 10)\n",
    "plot_loss(losses, \"NLL Loss\")\n",
    "plot_loss(accuracies, \"Accuracy\")"
   ]
  },
  {
   "cell_type": "code",
   "execution_count": 27,
   "id": "third-mexico",
   "metadata": {},
   "outputs": [
    {
     "data": {
      "text/plain": [
       "BetaVAEDSprites(\n",
       "  (encoder): Sequential(\n",
       "    (0): Linear(in_features=4096, out_features=1200, bias=True)\n",
       "    (1): ReLU()\n",
       "    (2): Linear(in_features=1200, out_features=1200, bias=True)\n",
       "    (3): ReLU()\n",
       "    (4): Linear(in_features=1200, out_features=20, bias=True)\n",
       "  )\n",
       "  (decoder): Sequential(\n",
       "    (0): Linear(in_features=10, out_features=1200, bias=True)\n",
       "    (1): Tanh()\n",
       "    (2): Linear(in_features=1200, out_features=1200, bias=True)\n",
       "    (3): Tanh()\n",
       "    (4): Linear(in_features=1200, out_features=1200, bias=True)\n",
       "    (5): Tanh()\n",
       "    (6): Linear(in_features=1200, out_features=4096, bias=True)\n",
       "  )\n",
       ")"
      ]
     },
     "execution_count": 27,
     "metadata": {},
     "output_type": "execute_result"
    }
   ],
   "source": [
    "model_beta4_e40_alldata = torch.load('trained_models/betavae_beta4_e40_alldata.dat')\n",
    "model_beta4_e40_alldata.cpu()"
   ]
  },
  {
   "cell_type": "code",
   "execution_count": 29,
   "id": "dirty-salad",
   "metadata": {
    "scrolled": false
   },
   "outputs": [
    {
     "name": "stdout",
     "output_type": "stream",
     "text": [
      "[[ 0.  0.  0.  0.  0.  0.  0.  0.  0.  0.]\n",
      " [ 0.  0. 16.  8.  0.  3.  0.  0.  0.  0.]\n",
      " [ 2.  0.  3.  0.  0. 11.  4.  0.  0.  6.]\n",
      " [ 0.  0. 10.  2.  0.  3.  0.  0.  0.  1.]\n",
      " [ 0.  0.  0.  0.  8.  0.  0.  7.  0.  0.]\n",
      " [ 0.  0.  0.  0.  0.  0.  0.  0. 16.  0.]]\n",
      "Factor Vae metric: \n",
      "Accuracy: 0.61\n",
      "Beta Vae metric: \n",
      "Epoch 0 finished, loss: 1.6715067833662034, accuracy:0.1725\n",
      "Epoch 1 finished, loss: 1.667233557999134, accuracy:0.17125\n",
      "Epoch 2 finished, loss: 1.6632487550377846, accuracy:0.1725\n",
      "Epoch 3 finished, loss: 1.6594988226890564, accuracy:0.17375\n",
      "Epoch 4 finished, loss: 1.6559909299015998, accuracy:0.17375\n",
      "Epoch 5 finished, loss: 1.6527004778385161, accuracy:0.17375\n",
      "Epoch 6 finished, loss: 1.6496044412255286, accuracy:0.1675\n",
      "Epoch 7 finished, loss: 1.6466932490468025, accuracy:0.16625\n",
      "Epoch 8 finished, loss: 1.643994389474392, accuracy:0.16875\n",
      "Epoch 9 finished, loss: 1.6413757890462874, accuracy:0.1725\n",
      "Epoch 10 finished, loss: 1.6389542564749717, accuracy:0.1725\n",
      "Epoch 11 finished, loss: 1.6366609185934067, accuracy:0.1675\n",
      "Epoch 12 finished, loss: 1.6345386862754823, accuracy:0.17125\n",
      "Epoch 13 finished, loss: 1.632439874112606, accuracy:0.17\n",
      "Epoch 14 finished, loss: 1.6305127769708634, accuracy:0.165\n",
      "Epoch 15 finished, loss: 1.6287033900618553, accuracy:0.16375\n",
      "Epoch 16 finished, loss: 1.6269440665841102, accuracy:0.16625\n",
      "Epoch 17 finished, loss: 1.6253273114562035, accuracy:0.1675\n",
      "Epoch 18 finished, loss: 1.623769149184227, accuracy:0.17625\n",
      "Epoch 19 finished, loss: 1.6223033651709557, accuracy:0.175\n",
      "Epoch 20 finished, loss: 1.6208741769194603, accuracy:0.17875\n",
      "Epoch 21 finished, loss: 1.6195189833641053, accuracy:0.18\n",
      "Epoch 22 finished, loss: 1.6182816550135612, accuracy:0.1825\n",
      "Epoch 23 finished, loss: 1.6170373439788819, accuracy:0.18375\n",
      "Epoch 24 finished, loss: 1.6158904671669005, accuracy:0.1875\n",
      "Epoch 25 finished, loss: 1.6147708475589753, accuracy:0.18375\n",
      "Epoch 26 finished, loss: 1.6136939108371735, accuracy:0.18875\n",
      "Epoch 27 finished, loss: 1.6126855045557023, accuracy:0.19125\n",
      "Epoch 28 finished, loss: 1.6117411866784095, accuracy:0.2\n",
      "Epoch 29 finished, loss: 1.610746319591999, accuracy:0.20125\n",
      "Epoch 30 finished, loss: 1.6098299831151963, accuracy:0.20125\n",
      "Epoch 31 finished, loss: 1.6089378148317337, accuracy:0.20625\n",
      "Epoch 32 finished, loss: 1.6081073790788651, accuracy:0.2025\n",
      "Epoch 33 finished, loss: 1.6073162823915481, accuracy:0.21125\n",
      "Epoch 34 finished, loss: 1.6064899936318398, accuracy:0.21125\n",
      "Epoch 35 finished, loss: 1.6057164311408996, accuracy:0.215\n",
      "Epoch 36 finished, loss: 1.605049665272236, accuracy:0.2275\n",
      "Epoch 37 finished, loss: 1.6043116450309753, accuracy:0.2275\n",
      "Epoch 38 finished, loss: 1.6035977318882941, accuracy:0.23125\n",
      "Epoch 39 finished, loss: 1.6029366105794907, accuracy:0.2375\n",
      "Epoch 40 finished, loss: 1.6022720888257027, accuracy:0.2375\n",
      "Epoch 41 finished, loss: 1.6016220197081565, accuracy:0.2425\n",
      "Epoch 42 finished, loss: 1.601065818965435, accuracy:0.2425\n",
      "Epoch 43 finished, loss: 1.600436380505562, accuracy:0.245\n",
      "Epoch 44 finished, loss: 1.5998299524188042, accuracy:0.2475\n",
      "Epoch 45 finished, loss: 1.5992572873830795, accuracy:0.25\n",
      "Epoch 46 finished, loss: 1.5986853018403053, accuracy:0.2525\n",
      "Epoch 47 finished, loss: 1.5981572449207306, accuracy:0.25375\n",
      "Epoch 48 finished, loss: 1.5975929766893386, accuracy:0.2575\n",
      "Epoch 49 finished, loss: 1.5970516875386238, accuracy:0.26125\n",
      "Epoch 50 finished, loss: 1.5965432852506638, accuracy:0.26375\n",
      "Epoch 51 finished, loss: 1.5960700795054437, accuracy:0.2675\n",
      "Epoch 52 finished, loss: 1.5955178156495093, accuracy:0.27\n",
      "Epoch 53 finished, loss: 1.595027042925358, accuracy:0.26875\n",
      "Epoch 54 finished, loss: 1.5945670068264008, accuracy:0.26875\n",
      "Epoch 55 finished, loss: 1.5940524131059646, accuracy:0.2725\n",
      "Epoch 56 finished, loss: 1.5936283826828004, accuracy:0.2725\n",
      "Epoch 57 finished, loss: 1.5931479632854462, accuracy:0.26875\n",
      "Epoch 58 finished, loss: 1.59268938601017, accuracy:0.27\n",
      "Epoch 59 finished, loss: 1.5921684339642526, accuracy:0.2725\n",
      "Epoch 60 finished, loss: 1.5917308375239372, accuracy:0.27375\n",
      "Epoch 61 finished, loss: 1.5913038432598114, accuracy:0.275\n",
      "Epoch 62 finished, loss: 1.590833231806755, accuracy:0.27375\n",
      "Epoch 63 finished, loss: 1.5903820112347602, accuracy:0.27375\n",
      "Epoch 64 finished, loss: 1.5899622023105622, accuracy:0.27875\n",
      "Epoch 65 finished, loss: 1.5895283684134482, accuracy:0.27625\n",
      "Epoch 66 finished, loss: 1.589066144824028, accuracy:0.28125\n",
      "Epoch 67 finished, loss: 1.5886561021208763, accuracy:0.27875\n",
      "Epoch 68 finished, loss: 1.5882650762796402, accuracy:0.28\n",
      "Epoch 69 finished, loss: 1.58781658411026, accuracy:0.28125\n",
      "Epoch 70 finished, loss: 1.5874195128679276, accuracy:0.285\n",
      "Epoch 71 finished, loss: 1.586978666484356, accuracy:0.285\n",
      "Epoch 72 finished, loss: 1.5865757256746291, accuracy:0.28375\n",
      "Epoch 73 finished, loss: 1.5861479461193084, accuracy:0.28125\n",
      "Epoch 74 finished, loss: 1.5857905477285386, accuracy:0.285\n",
      "Epoch 75 finished, loss: 1.5853627413511275, accuracy:0.28125\n",
      "Epoch 76 finished, loss: 1.5849868386983872, accuracy:0.28125\n",
      "Epoch 77 finished, loss: 1.5845709562301635, accuracy:0.28125\n",
      "Epoch 78 finished, loss: 1.5841444194316865, accuracy:0.2825\n",
      "Epoch 79 finished, loss: 1.5837298348546027, accuracy:0.28375\n",
      "Epoch 80 finished, loss: 1.5833736479282379, accuracy:0.2825\n",
      "Epoch 81 finished, loss: 1.582983134686947, accuracy:0.28375\n",
      "Epoch 82 finished, loss: 1.582585734128952, accuracy:0.2825\n",
      "Epoch 83 finished, loss: 1.5822012573480606, accuracy:0.2825\n",
      "Epoch 84 finished, loss: 1.58178603798151, accuracy:0.28125\n",
      "Epoch 85 finished, loss: 1.5814001336693764, accuracy:0.28\n",
      "Epoch 86 finished, loss: 1.581047387421131, accuracy:0.28\n",
      "Epoch 87 finished, loss: 1.580656173825264, accuracy:0.28125\n",
      "Epoch 88 finished, loss: 1.580269306898117, accuracy:0.28125\n",
      "Epoch 89 finished, loss: 1.5798827081918716, accuracy:0.28125\n",
      "Epoch 90 finished, loss: 1.5795942947268486, accuracy:0.2825\n",
      "Epoch 91 finished, loss: 1.5791732981801032, accuracy:0.285\n",
      "Epoch 92 finished, loss: 1.5787828877568244, accuracy:0.2825\n",
      "Epoch 93 finished, loss: 1.578398497402668, accuracy:0.28625\n",
      "Epoch 94 finished, loss: 1.5780200213193893, accuracy:0.2875\n",
      "Epoch 95 finished, loss: 1.5776588037610053, accuracy:0.2875\n",
      "Epoch 96 finished, loss: 1.577293734252453, accuracy:0.28625\n",
      "Epoch 97 finished, loss: 1.5769792586565017, accuracy:0.285\n",
      "Epoch 98 finished, loss: 1.5765790596604348, accuracy:0.28375\n",
      "Epoch 99 finished, loss: 1.576259444653988, accuracy:0.28375\n",
      "Epoch 100 finished, loss: 1.5758751392364503, accuracy:0.28625\n",
      "Epoch 101 finished, loss: 1.575503407418728, accuracy:0.2875\n",
      "Epoch 102 finished, loss: 1.5751440465450286, accuracy:0.2875\n",
      "Epoch 103 finished, loss: 1.574789461493492, accuracy:0.2875\n",
      "Epoch 104 finished, loss: 1.5744385033845902, accuracy:0.2875\n",
      "Epoch 105 finished, loss: 1.5740794450044633, accuracy:0.285\n",
      "Epoch 106 finished, loss: 1.5737512469291688, accuracy:0.2875\n",
      "Epoch 107 finished, loss: 1.5733868047595023, accuracy:0.2875\n",
      "Epoch 108 finished, loss: 1.5730694130063057, accuracy:0.285\n",
      "Epoch 109 finished, loss: 1.5726961106061936, accuracy:0.28625\n",
      "Epoch 110 finished, loss: 1.572374014556408, accuracy:0.28625\n",
      "Epoch 111 finished, loss: 1.5720075219869614, accuracy:0.28625\n",
      "Epoch 112 finished, loss: 1.571685017645359, accuracy:0.2875\n",
      "Epoch 113 finished, loss: 1.571333047747612, accuracy:0.2875\n",
      "Epoch 114 finished, loss: 1.5710204228758813, accuracy:0.2875\n",
      "Epoch 115 finished, loss: 1.5706655770540237, accuracy:0.2875\n",
      "Epoch 116 finished, loss: 1.5703131064772606, accuracy:0.2875\n",
      "Epoch 117 finished, loss: 1.5699766799807549, accuracy:0.28875\n",
      "Epoch 118 finished, loss: 1.5696314200758934, accuracy:0.2875\n",
      "Epoch 119 finished, loss: 1.5693079069256783, accuracy:0.28875\n",
      "Epoch 120 finished, loss: 1.56896271109581, accuracy:0.2875\n",
      "Epoch 121 finished, loss: 1.5686332523822784, accuracy:0.29\n",
      "Epoch 122 finished, loss: 1.5683143213391304, accuracy:0.29\n",
      "Epoch 123 finished, loss: 1.5679940477013588, accuracy:0.28875\n",
      "Epoch 124 finished, loss: 1.5676259070634841, accuracy:0.2925\n",
      "Epoch 125 finished, loss: 1.567338091135025, accuracy:0.2925\n",
      "Epoch 126 finished, loss: 1.566978968679905, accuracy:0.2975\n",
      "Epoch 127 finished, loss: 1.566684114933014, accuracy:0.29625\n",
      "Epoch 128 finished, loss: 1.5663298666477203, accuracy:0.29875\n",
      "Epoch 129 finished, loss: 1.565994566679001, accuracy:0.3\n",
      "Epoch 130 finished, loss: 1.5656755819916726, accuracy:0.3\n"
     ]
    },
    {
     "name": "stdout",
     "output_type": "stream",
     "text": [
      "Epoch 131 finished, loss: 1.565345761179924, accuracy:0.3025\n",
      "Epoch 132 finished, loss: 1.5650042921304703, accuracy:0.30375\n",
      "Epoch 133 finished, loss: 1.5647007644176483, accuracy:0.30375\n",
      "Epoch 134 finished, loss: 1.5643965259194375, accuracy:0.305\n",
      "Epoch 135 finished, loss: 1.5640531063079834, accuracy:0.305\n",
      "Epoch 136 finished, loss: 1.5637504518032075, accuracy:0.305\n",
      "Epoch 137 finished, loss: 1.5634283050894737, accuracy:0.305\n",
      "Epoch 138 finished, loss: 1.563120184838772, accuracy:0.30625\n",
      "Epoch 139 finished, loss: 1.5627879217267036, accuracy:0.30625\n",
      "Epoch 140 finished, loss: 1.5624735668301581, accuracy:0.305\n",
      "Epoch 141 finished, loss: 1.562188918888569, accuracy:0.30375\n",
      "Epoch 142 finished, loss: 1.5618487000465393, accuracy:0.305\n",
      "Epoch 143 finished, loss: 1.5615535020828246, accuracy:0.30375\n",
      "Epoch 144 finished, loss: 1.561227560043335, accuracy:0.30625\n",
      "Epoch 145 finished, loss: 1.5609609976410865, accuracy:0.30625\n",
      "Epoch 146 finished, loss: 1.5606245830655099, accuracy:0.30625\n",
      "Epoch 147 finished, loss: 1.560368685424328, accuracy:0.30375\n",
      "Epoch 148 finished, loss: 1.5600274458527565, accuracy:0.30375\n",
      "Epoch 149 finished, loss: 1.5597426399588585, accuracy:0.3025\n",
      "Epoch 150 finished, loss: 1.559443512558937, accuracy:0.3025\n",
      "Epoch 151 finished, loss: 1.5591522127389907, accuracy:0.30375\n",
      "Epoch 152 finished, loss: 1.558847537636757, accuracy:0.3025\n",
      "Epoch 153 finished, loss: 1.5585307762026788, accuracy:0.3\n",
      "Epoch 154 finished, loss: 1.5582355499267577, accuracy:0.30125\n",
      "Epoch 155 finished, loss: 1.557956326007843, accuracy:0.30125\n",
      "Epoch 156 finished, loss: 1.5576401233673096, accuracy:0.3025\n",
      "Epoch 157 finished, loss: 1.5573433861136436, accuracy:0.3\n",
      "Epoch 158 finished, loss: 1.5570734143257141, accuracy:0.29875\n",
      "Epoch 159 finished, loss: 1.556735873222351, accuracy:0.3\n",
      "Epoch 160 finished, loss: 1.556506595015526, accuracy:0.2975\n",
      "Epoch 161 finished, loss: 1.5561500489711761, accuracy:0.2975\n",
      "Epoch 162 finished, loss: 1.5558721333742143, accuracy:0.2975\n",
      "Epoch 163 finished, loss: 1.555656936764717, accuracy:0.3\n",
      "Epoch 164 finished, loss: 1.5553437665104866, accuracy:0.29875\n",
      "Epoch 165 finished, loss: 1.5549976900219917, accuracy:0.29875\n",
      "Epoch 166 finished, loss: 1.5547375589609147, accuracy:0.3\n",
      "Epoch 167 finished, loss: 1.5544550284743308, accuracy:0.3\n",
      "Epoch 168 finished, loss: 1.5541734784841537, accuracy:0.30125\n",
      "Epoch 169 finished, loss: 1.553876557946205, accuracy:0.30125\n",
      "Epoch 170 finished, loss: 1.5536299064755439, accuracy:0.29875\n",
      "Epoch 171 finished, loss: 1.5533047005534173, accuracy:0.29875\n",
      "Epoch 172 finished, loss: 1.5530299708247184, accuracy:0.30125\n",
      "Epoch 173 finished, loss: 1.5527872622013092, accuracy:0.3\n",
      "Epoch 174 finished, loss: 1.5524877220392228, accuracy:0.30375\n",
      "Epoch 175 finished, loss: 1.5522337526082992, accuracy:0.3025\n",
      "Epoch 176 finished, loss: 1.5519282579421998, accuracy:0.30125\n",
      "Epoch 177 finished, loss: 1.5516568914055824, accuracy:0.3025\n",
      "Epoch 178 finished, loss: 1.551392211019993, accuracy:0.3025\n",
      "Epoch 179 finished, loss: 1.5511083006858826, accuracy:0.3025\n",
      "Epoch 180 finished, loss: 1.5508572652935981, accuracy:0.30125\n",
      "Epoch 181 finished, loss: 1.5506105527281762, accuracy:0.30125\n",
      "Epoch 182 finished, loss: 1.5503497272729874, accuracy:0.3025\n",
      "Epoch 183 finished, loss: 1.5500561878085137, accuracy:0.30375\n",
      "Epoch 184 finished, loss: 1.5497765064239502, accuracy:0.30375\n",
      "Epoch 185 finished, loss: 1.5495049193501473, accuracy:0.3\n",
      "Epoch 186 finished, loss: 1.5492889404296875, accuracy:0.3025\n",
      "Epoch 187 finished, loss: 1.5489934176206588, accuracy:0.3025\n",
      "Epoch 188 finished, loss: 1.5487555995583535, accuracy:0.3025\n",
      "Epoch 189 finished, loss: 1.54845572412014, accuracy:0.3025\n",
      "Epoch 190 finished, loss: 1.5482299461960793, accuracy:0.30125\n",
      "Epoch 191 finished, loss: 1.5479681760072708, accuracy:0.30125\n",
      "Epoch 192 finished, loss: 1.5476791247725488, accuracy:0.30125\n",
      "Epoch 193 finished, loss: 1.5474218741059302, accuracy:0.3025\n",
      "Epoch 194 finished, loss: 1.5471627861261368, accuracy:0.30125\n",
      "Epoch 195 finished, loss: 1.5469069570302962, accuracy:0.3025\n",
      "Epoch 196 finished, loss: 1.5467137694358826, accuracy:0.3\n",
      "Epoch 197 finished, loss: 1.5463915809988975, accuracy:0.3025\n",
      "Epoch 198 finished, loss: 1.5461630627512932, accuracy:0.3025\n",
      "Epoch 199 finished, loss: 1.5459059834480287, accuracy:0.305\n",
      "Test loss: 1.5624723255634307, test accuracy: 0.27\n"
     ]
    },
    {
     "data": {
      "image/png": "[encoded data removed]",
      "text/plain": [
       "<Figure size 432x288 with 1 Axes>"
      ]
     },
     "metadata": {
      "needs_background": "light"
     },
     "output_type": "display_data"
    },
    {
     "data": {
      "image/png": "[encoded data removed]",
      "text/plain": [
       "<Figure size 432x288 with 1 Axes>"
      ]
     },
     "metadata": {
      "needs_background": "light"
     },
     "output_type": "display_data"
    }
   ],
   "source": [
    "loss = entanglement_metric_factor_vae(model_beta4_e40_alldata, data_, 100, 1000)\n",
    "print(\"Factor Vae metric: \")\n",
    "print(\"Accuracy: \"+str(1-loss))\n",
    "print(\"Beta Vae metric: \")\n",
    "classifier = Classifier()\n",
    "optimizer = torch.optim.Adam(classifier.parameters(), lr=1e-4)\n",
    "losses, accuracies = entanglement_metric_beta_vae(model_beta4_e40_alldata, classifier, optimizer, 200,  data_, 1000, 10)\n",
    "plot_loss(losses, \"NLL Loss\")\n",
    "plot_loss(accuracies, \"Accuracy\")"
   ]
  },
  {
   "cell_type": "code",
   "execution_count": null,
   "id": "scientific-phone",
   "metadata": {},
   "outputs": [],
   "source": []
  }
 ],
 "metadata": {
  "kernelspec": {
   "display_name": "Python 3",
   "language": "python",
   "name": "python3"
  },
  "language_info": {
   "codemirror_mode": {
    "name": "ipython",
    "version": 3
   },
   "file_extension": ".py",
   "mimetype": "text/x-python",
   "name": "python",
   "nbconvert_exporter": "python",
   "pygments_lexer": "ipython3",
   "version": "3.8.5"
  }
 },
 "nbformat": 4,
 "nbformat_minor": 5
}
