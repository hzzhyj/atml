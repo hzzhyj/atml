{
 "cells": [
  {
   "cell_type": "code",
   "execution_count": 1,
   "id": "cross-maple",
   "metadata": {},
   "outputs": [],
   "source": [
    "import numpy as np\n",
    "import torch\n",
    "import os\n",
    "import sys\n",
    "import random\n",
    "import matplotlib.pyplot as plt\n",
    "import torch.nn.functional as F\n",
    "\n",
    "from torch.utils.data import DataLoader\n",
    "\n",
    "module_path = os.path.abspath(os.path.join('..'))\n",
    "sys.path.append(module_path+\"/models\")\n",
    "sys.path.append(module_path+\"/train\")\n",
    "sys.path.append(module_path+\"/datasets\")"
   ]
  },
  {
   "cell_type": "code",
   "execution_count": 7,
   "id": "reflected-woman",
   "metadata": {},
   "outputs": [
    {
     "data": {
      "text/plain": [
       "device(type='cuda')"
      ]
     },
     "execution_count": 7,
     "metadata": {},
     "output_type": "execute_result"
    }
   ],
   "source": [
    "if torch.cuda.is_available():\n",
    "    device = torch.device('cuda')\n",
    "else:\n",
    "    device = torch.device('cpu')\n",
    "device"
   ]
  },
  {
   "cell_type": "code",
   "execution_count": 2,
   "id": "blond-productivity",
   "metadata": {},
   "outputs": [],
   "source": [
    "from datasets import train_test_random_split, load_dsprites\n",
    "from train import train_beta_vae, test_beta_vae\n",
    "from loss import loss_beta_vae\n",
    "from beta_vae import BetaVAEDSprites"
   ]
  },
  {
   "cell_type": "code",
   "execution_count": 5,
   "id": "educated-orleans",
   "metadata": {},
   "outputs": [],
   "source": [
    "dataset = load_dsprites(\"../datasets/dsprites.npz\")"
   ]
  },
  {
   "cell_type": "code",
   "execution_count": 6,
   "id": "handy-victoria",
   "metadata": {},
   "outputs": [],
   "source": [
    "dataset = torch.from_numpy(dataset)"
   ]
  },
  {
   "cell_type": "code",
   "execution_count": 7,
   "id": "sapphire-penetration",
   "metadata": {},
   "outputs": [],
   "source": [
    "n_imgs = 50000\n",
    "indices = torch.randperm(dataset.size(0))[:n_imgs]\n",
    "dataset = dataset[indices]"
   ]
  },
  {
   "cell_type": "code",
   "execution_count": 8,
   "id": "found-sugar",
   "metadata": {},
   "outputs": [],
   "source": [
    "data_train, data_test = train_test_random_split(dataset, 0.8)"
   ]
  },
  {
   "cell_type": "code",
   "execution_count": 13,
   "id": "foreign-blend",
   "metadata": {},
   "outputs": [],
   "source": [
    "batch_size = 64\n",
    "train_loader = DataLoader(data_train, batch_size=batch_size, shuffle=True)\n",
    "test_loader = DataLoader(data_test, batch_size=batch_size, shuffle=True)"
   ]
  },
  {
   "cell_type": "code",
   "execution_count": 14,
   "id": "intelligent-hostel",
   "metadata": {},
   "outputs": [
    {
     "data": {
      "text/plain": [
       "BetaVAEDSprites(\n",
       "  (encoder): Sequential(\n",
       "    (0): Linear(in_features=4096, out_features=1200, bias=True)\n",
       "    (1): ReLU()\n",
       "    (2): Linear(in_features=1200, out_features=1200, bias=True)\n",
       "    (3): ReLU()\n",
       "    (4): Linear(in_features=1200, out_features=20, bias=True)\n",
       "  )\n",
       "  (decoder): Sequential(\n",
       "    (0): Linear(in_features=10, out_features=1200, bias=True)\n",
       "    (1): Tanh()\n",
       "    (2): Linear(in_features=1200, out_features=1200, bias=True)\n",
       "    (3): Tanh()\n",
       "    (4): Linear(in_features=1200, out_features=1200, bias=True)\n",
       "    (5): Tanh()\n",
       "    (6): Linear(in_features=1200, out_features=4096, bias=True)\n",
       "  )\n",
       ")"
      ]
     },
     "execution_count": 14,
     "metadata": {},
     "output_type": "execute_result"
    }
   ],
   "source": [
    "model = BetaVAEDSprites()\n",
    "model.to(device)"
   ]
  },
  {
   "cell_type": "code",
   "execution_count": 15,
   "id": "normal-peoples",
   "metadata": {},
   "outputs": [],
   "source": [
    "optimizer = torch.optim.Adagrad(model.parameters(), lr=1e-2)"
   ]
  },
  {
   "cell_type": "code",
   "execution_count": 16,
   "id": "editorial-wiring",
   "metadata": {},
   "outputs": [
    {
     "name": "stdout",
     "output_type": "stream",
     "text": [
      "Epoch 0 finished, loss: 19652.355412744142\n",
      "Epoch 1 finished, loss: 164.82986364746094\n",
      "Epoch 2 finished, loss: 125.59971053466796\n",
      "Epoch 3 finished, loss: 116.72757449951172\n",
      "Epoch 4 finished, loss: 112.91416535644531\n",
      "Epoch 5 finished, loss: 110.68752534179687\n",
      "Epoch 6 finished, loss: 109.34985520019531\n",
      "Epoch 7 finished, loss: 108.1805869140625\n",
      "Epoch 8 finished, loss: 106.92523852539063\n",
      "Epoch 9 finished, loss: 104.03286986083984\n"
     ]
    },
    {
     "data": {
      "text/plain": [
       "[19652.355412744142,\n",
       " 164.82986364746094,\n",
       " 125.59971053466796,\n",
       " 116.72757449951172,\n",
       " 112.91416535644531,\n",
       " 110.68752534179687,\n",
       " 109.34985520019531,\n",
       " 108.1805869140625,\n",
       " 106.92523852539063,\n",
       " 104.03286986083984]"
      ]
     },
     "execution_count": 16,
     "metadata": {},
     "output_type": "execute_result"
    }
   ],
   "source": [
    "train_beta_vae(model, 10, train_loader, optimizer, 1, 'bernoulli', device)"
   ]
  },
  {
   "cell_type": "code",
   "execution_count": 17,
   "id": "accurate-andorra",
   "metadata": {},
   "outputs": [
    {
     "name": "stdout",
     "output_type": "stream",
     "text": [
      "Test loss: 104.09395905512913\n"
     ]
    }
   ],
   "source": [
    "test_beta_vae(model, test_loader, 1, 'bernoulli', device)"
   ]
  },
  {
   "cell_type": "code",
   "execution_count": 18,
   "id": "recent-namibia",
   "metadata": {},
   "outputs": [],
   "source": [
    "torch.save(model, 'betavae_beta1_e10.dat')"
   ]
  },
  {
   "cell_type": "code",
   "execution_count": 30,
   "id": "sought-surfing",
   "metadata": {},
   "outputs": [
    {
     "data": {
      "image/png": "[encoded data removed]",
      "text/plain": [
       "<Figure size 432x288 with 1 Axes>"
      ]
     },
     "metadata": {
      "needs_background": "light"
     },
     "output_type": "display_data"
    },
    {
     "data": {
      "image/png": "[encoded data removed]",
      "text/plain": [
       "<Figure size 432x288 with 1 Axes>"
      ]
     },
     "metadata": {
      "needs_background": "light"
     },
     "output_type": "display_data"
    }
   ],
   "source": [
    "index = 100\n",
    "original = dataset[index].float().to(device)\n",
    "recon, mu, logvar = model(original)\n",
    "plt.imshow(original.cpu(), cmap='Greys_r')\n",
    "plt.show()\n",
    "plt.imshow(torch.sigmoid(recon.cpu().detach()).view(64,64), cmap='Greys_r')\n",
    "plt.show()"
   ]
  },
  {
   "cell_type": "code",
   "execution_count": null,
   "id": "armed-width",
   "metadata": {},
   "outputs": [],
   "source": [
    "torch.save(model, 'betavae_beta1_e10.dat')"
   ]
  },
  {
   "cell_type": "code",
   "execution_count": null,
   "id": "variable-banner",
   "metadata": {},
   "outputs": [],
   "source": []
  },
  {
   "cell_type": "code",
   "execution_count": null,
   "id": "alternate-leader",
   "metadata": {},
   "outputs": [],
   "source": []
  },
  {
   "cell_type": "code",
   "execution_count": null,
   "id": "cardiac-supervision",
   "metadata": {},
   "outputs": [],
   "source": []
  },
  {
   "cell_type": "code",
   "execution_count": null,
   "id": "toxic-voltage",
   "metadata": {},
   "outputs": [],
   "source": []
  },
  {
   "cell_type": "code",
   "execution_count": 4,
   "id": "loved-latvia",
   "metadata": {},
   "outputs": [
    {
     "data": {
      "text/plain": [
       "BetaVAEDSprites(\n",
       "  (encoder): Sequential(\n",
       "    (0): Linear(in_features=4096, out_features=1200, bias=True)\n",
       "    (1): ReLU()\n",
       "    (2): Linear(in_features=1200, out_features=1200, bias=True)\n",
       "    (3): ReLU()\n",
       "    (4): Linear(in_features=1200, out_features=20, bias=True)\n",
       "  )\n",
       "  (decoder): Sequential(\n",
       "    (0): Linear(in_features=10, out_features=1200, bias=True)\n",
       "    (1): Tanh()\n",
       "    (2): Linear(in_features=1200, out_features=1200, bias=True)\n",
       "    (3): Tanh()\n",
       "    (4): Linear(in_features=1200, out_features=1200, bias=True)\n",
       "    (5): Tanh()\n",
       "    (6): Linear(in_features=1200, out_features=4096, bias=True)\n",
       "  )\n",
       ")"
      ]
     },
     "execution_count": 4,
     "metadata": {},
     "output_type": "execute_result"
    }
   ],
   "source": [
    "model_e10_alldata = torch.load('betavae_beta1_e10_alldata.dat')\n",
    "model_e10_alldata.eval()"
   ]
  },
  {
   "cell_type": "code",
   "execution_count": 15,
   "id": "dependent-worry",
   "metadata": {},
   "outputs": [
    {
     "data": {
      "image/png": "[encoded data removed]",
      "text/plain": [
       "<Figure size 432x288 with 1 Axes>"
      ]
     },
     "metadata": {
      "needs_background": "light"
     },
     "output_type": "display_data"
    },
    {
     "data": {
      "image/png": "[encoded data removed]",
      "text/plain": [
       "<Figure size 432x288 with 1 Axes>"
      ]
     },
     "metadata": {
      "needs_background": "light"
     },
     "output_type": "display_data"
    }
   ],
   "source": [
    "index = 198989\n",
    "original = dataset[index].float().to(device)\n",
    "recon, mu, logvar = model_e10_alldata(original)\n",
    "plt.imshow(original.cpu(), cmap='Greys_r')\n",
    "plt.show()\n",
    "plt.imshow(torch.sigmoid(recon.cpu().detach()).view(64,64), cmap='Greys_r')\n",
    "plt.show()"
   ]
  },
  {
   "cell_type": "code",
   "execution_count": 16,
   "id": "assisted-actor",
   "metadata": {},
   "outputs": [
    {
     "data": {
      "text/plain": [
       "BetaVAEDSprites(\n",
       "  (encoder): Sequential(\n",
       "    (0): Linear(in_features=4096, out_features=1200, bias=True)\n",
       "    (1): ReLU()\n",
       "    (2): Linear(in_features=1200, out_features=1200, bias=True)\n",
       "    (3): ReLU()\n",
       "    (4): Linear(in_features=1200, out_features=20, bias=True)\n",
       "  )\n",
       "  (decoder): Sequential(\n",
       "    (0): Linear(in_features=10, out_features=1200, bias=True)\n",
       "    (1): Tanh()\n",
       "    (2): Linear(in_features=1200, out_features=1200, bias=True)\n",
       "    (3): Tanh()\n",
       "    (4): Linear(in_features=1200, out_features=1200, bias=True)\n",
       "    (5): Tanh()\n",
       "    (6): Linear(in_features=1200, out_features=4096, bias=True)\n",
       "  )\n",
       ")"
      ]
     },
     "execution_count": 16,
     "metadata": {},
     "output_type": "execute_result"
    }
   ],
   "source": [
    "model_e30_alldata = torch.load('betavae_beta1_e30_alldata.dat')\n",
    "model_e30_alldata.eval()"
   ]
  },
  {
   "cell_type": "code",
   "execution_count": 20,
   "id": "vietnamese-physics",
   "metadata": {},
   "outputs": [
    {
     "data": {
      "image/png": "[encoded data removed]",
      "text/plain": [
       "<Figure size 432x288 with 1 Axes>"
      ]
     },
     "metadata": {
      "needs_background": "light"
     },
     "output_type": "display_data"
    },
    {
     "data": {
      "image/png": "[encoded data removed]",
      "text/plain": [
       "<Figure size 432x288 with 1 Axes>"
      ]
     },
     "metadata": {
      "needs_background": "light"
     },
     "output_type": "display_data"
    }
   ],
   "source": [
    "index = 12891\n",
    "original = dataset[index].float().to(device)\n",
    "recon, mu, logvar = model_e30_alldata(original)\n",
    "plt.imshow(original.cpu(), cmap='Greys_r')\n",
    "plt.show()\n",
    "plt.imshow(torch.sigmoid(recon.cpu().detach()).view(64,64), cmap='Greys_r')\n",
    "plt.show()"
   ]
  },
  {
   "cell_type": "code",
   "execution_count": null,
   "id": "olympic-chick",
   "metadata": {},
   "outputs": [],
   "source": []
  }
 ],
 "metadata": {
  "kernelspec": {
   "display_name": "Python 3",
   "language": "python",
   "name": "python3"
  },
  "language_info": {
   "codemirror_mode": {
    "name": "ipython",
    "version": 3
   },
   "file_extension": ".py",
   "mimetype": "text/x-python",
   "name": "python",
   "nbconvert_exporter": "python",
   "pygments_lexer": "ipython3",
   "version": "3.8.5"
  }
 },
 "nbformat": 4,
 "nbformat_minor": 5
}
