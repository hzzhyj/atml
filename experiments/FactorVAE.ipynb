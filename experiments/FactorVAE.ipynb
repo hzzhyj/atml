{
 "cells": [
  {
   "cell_type": "code",
   "execution_count": 1,
   "id": "domestic-independence",
   "metadata": {},
   "outputs": [],
   "source": [
    "import numpy as np\n",
    "import os\n",
    "import sys\n",
    "import random\n",
    "import torch\n",
    "import matplotlib.pyplot as plt\n",
    "\n",
    "from torch.utils.data import DataLoader\n",
    "\n",
    "module_path = os.path.abspath(os.path.join('..'))\n",
    "sys.path.append(module_path+\"/models\")\n",
    "sys.path.append(module_path+\"/train\")\n",
    "sys.path.append(module_path+\"/datasets\")\n",
    "\n",
    "from factor_vae import FactorVAEDSprites, Discriminator\n",
    "from beta_vae import Classifier\n",
    "from datasets import train_test_random_split, load_dsprites, CustomDSpritesDatasetFactorVAE\n",
    "from train import train_factor_vae, test_factor_vae\n",
    "from entanglement_metric import entanglement_metric_factor_vae"
   ]
  },
  {
   "cell_type": "code",
   "execution_count": null,
   "id": "conscious-vessel",
   "metadata": {},
   "outputs": [],
   "source": [
    "if torch.cuda.is_available():\n",
    "    device = torch.device('cuda')\n",
    "else:\n",
    "    device = torch.device('cpu')\n",
    "device.type"
   ]
  },
  {
   "cell_type": "code",
   "execution_count": null,
   "id": "purple-surprise",
   "metadata": {},
   "outputs": [],
   "source": [
    "def plot_loss(loss_list, title):\n",
    "    plt.plot(np.arange(1,len(loss_list)+1, 1), loss_list)\n",
    "    plt.xlabel(\"Epoch\")\n",
    "    plt.ylabel(\"Loss\")\n",
    "    plt.title(\"Training \"+title)\n",
    "    plt.show()"
   ]
  },
  {
   "cell_type": "code",
   "execution_count": null,
   "id": "happy-thriller",
   "metadata": {},
   "outputs": [],
   "source": [
    "dataset = load_dsprites(\"../datasets/dsprites.npz\",False)"
   ]
  },
  {
   "cell_type": "code",
   "execution_count": null,
   "id": "pediatric-fancy",
   "metadata": {},
   "outputs": [],
   "source": [
    "data_size = 1000\n",
    "data_ = CustomDSpritesDatasetFactorVAE(dataset,data_size)"
   ]
  },
  {
   "cell_type": "code",
   "execution_count": null,
   "id": "thermal-munich",
   "metadata": {},
   "outputs": [],
   "source": [
    "data_train, data_test = train_test_random_split(data_, 0.8)\n"
   ]
  },
  {
   "cell_type": "code",
   "execution_count": null,
   "id": "known-exemption",
   "metadata": {},
   "outputs": [],
   "source": [
    "batch_size = 64\n",
    "train_loader = DataLoader(data_train, batch_size=batch_size,shuffle=True)\n",
    "test_loader = DataLoader(data_test, batch_size=batch_size,shuffle=False)"
   ]
  },
  {
   "cell_type": "code",
   "execution_count": null,
   "id": "alive-stopping",
   "metadata": {},
   "outputs": [],
   "source": [
    "model = FactorVAEDSprites()\n",
    "model.to(device)\n",
    "discriminator = Discriminator(nb_layers=4,hidden_dim=500)\n",
    "discriminator.to(device)\n",
    "vae_optimizer = torch.optim.Adagrad(model.parameters(), lr=1e-2)\n",
    "discriminator_optimizer = torch.optim.Adam(discriminator.parameters(), lr=1e-4)\n",
    "gamma = 0\n",
    "epochs = 3"
   ]
  },
  {
   "cell_type": "code",
   "execution_count": null,
   "id": "million-procedure",
   "metadata": {},
   "outputs": [],
   "source": [
    "train_losses_list, recon_losses_list, kl_divs_list, tc_losses_list, discriminator_losses_list = train_factor_vae(model, discriminator, epochs, train_loader, vae_optimizer, discriminator_optimizer, gamma, 'bernoulli',device=device)"
   ]
  },
  {
   "cell_type": "code",
   "execution_count": null,
   "id": "relative-minister",
   "metadata": {},
   "outputs": [],
   "source": [
    "plot_loss(train_losses_list, \"Total loss\")\n",
    "plot_loss(recon_losses_list, \"Reconstruction loss\")\n",
    "plot_loss(kl_divs_list, \"KL divergence\")\n",
    "plot_loss(tc_losses_list, \"TC loss\")\n",
    "plot_loss(discriminator_losses_list, \"Discriminator loss\")"
   ]
  },
  {
   "cell_type": "code",
   "execution_count": null,
   "id": "viral-greek",
   "metadata": {},
   "outputs": [],
   "source": [
    "test_factor_vae(model, discriminator, test_loader, gamma, 'bernoulli', device=device)"
   ]
  },
  {
   "cell_type": "code",
   "execution_count": null,
   "id": "aggressive-congress",
   "metadata": {},
   "outputs": [],
   "source": [
    "with torch.no_grad():\n",
    "    for i in [1,2,20]:\n",
    "        data, _ = data_test[i]\n",
    "        data = data.float()\n",
    "        if device != None:\n",
    "            data = data.to(device)\n",
    "        recon, mu, logvar, z = model(data)\n",
    "        plt.imshow(data.cpu(), cmap='Greys_r')\n",
    "        plt.title(\"Real data\")\n",
    "        plt.show()\n",
    "        plt.imshow(torch.sigmoid(recon.squeeze().cpu()), cmap='Greys_r')\n",
    "        plt.title(\"Reconstruction\")\n",
    "        plt.show()\n"
   ]
  },
  {
   "cell_type": "code",
   "execution_count": null,
   "id": "affiliated-vatican",
   "metadata": {},
   "outputs": [],
   "source": [
    "print(\"Factor Vae metric: \")\n",
    "loss = entanglement_metric_factor_vae(model, data_, 300, 200, random_seeds=5)\n",
    "print(\"Accuracy: \"+str(1-loss))\n",
    "print(\"Beta Vae metric: \")\n",
    "classifier = Classifier()\n",
    "optimizer = torch.optim.Adagrad(classifier.parameters(), lr=1e-2)\n",
    "train_losses, train_accuracies, test_accuracy = entanglement_metric_beta_vae(model, classifier, optimizer, 1000,  data_, 500, 50, random_seeds=5)\n",
    "print(\"Accuracy: \"+str(test_accuracy))\n",
    "plot_loss(train_losses, \"NLL Loss\")\n",
    "plot_loss(train_accuracies, \"Accuracy\")"
   ]
  },
  {
   "cell_type": "code",
   "execution_count": null,
   "id": "distinct-hudson",
   "metadata": {},
   "outputs": [],
   "source": []
  }
 ],
 "metadata": {
  "kernelspec": {
   "display_name": "Python 3",
   "language": "python",
   "name": "python3"
  },
  "language_info": {
   "codemirror_mode": {
    "name": "ipython",
    "version": 3
   },
   "file_extension": ".py",
   "mimetype": "text/x-python",
   "name": "python",
   "nbconvert_exporter": "python",
   "pygments_lexer": "ipython3",
   "version": "3.8.5"
  }
 },
 "nbformat": 4,
 "nbformat_minor": 5
}
