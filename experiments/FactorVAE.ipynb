{
 "cells": [
  {
   "cell_type": "code",
   "execution_count": 1,
   "id": "spiritual-traveler",
   "metadata": {},
   "outputs": [],
   "source": [
    "import numpy as np\n",
    "import os\n",
    "import sys\n",
    "import random\n",
    "import torch\n",
    "import matplotlib.pyplot as plt\n",
    "\n",
    "from torch.utils.data import DataLoader\n",
    "\n",
    "module_path = os.path.abspath(os.path.join('..'))\n",
    "sys.path.append(module_path+\"/models\")\n",
    "sys.path.append(module_path+\"/train\")\n",
    "sys.path.append(module_path+\"/datasets\")\n",
    "\n",
    "from factor_vae import FactorVAEDSprites, Discriminator\n",
    "from datasets import train_test_random_split, load_dsprites, CustomDSpritesDatasetFactorVAE\n",
    "from train import train_factor_vae, test_factor_vae\n",
    "from entanglement_metric import entanglement_metric_factor_vae"
   ]
  },
  {
   "cell_type": "code",
   "execution_count": 2,
   "id": "threatened-pepper",
   "metadata": {},
   "outputs": [],
   "source": [
    "dataset = load_dsprites(\"../datasets/dsprites.npz\",False)"
   ]
  },
  {
   "cell_type": "code",
   "execution_count": 3,
   "id": "radio-center",
   "metadata": {},
   "outputs": [],
   "source": [
    "data_size = 10000\n",
    "data_ = CustomDSpritesDatasetFactorVAE(dataset,data_size)"
   ]
  },
  {
   "cell_type": "code",
   "execution_count": 4,
   "id": "adopted-manchester",
   "metadata": {},
   "outputs": [],
   "source": [
    "data_train, data_test = train_test_random_split(data_, 0.8)"
   ]
  },
  {
   "cell_type": "code",
   "execution_count": 5,
   "id": "fitting-antenna",
   "metadata": {},
   "outputs": [],
   "source": [
    "batch_size = 64\n",
    "train_loader = DataLoader(data_train, batch_size=batch_size,shuffle=True)\n",
    "test_loader = DataLoader(data_test, batch_size=batch_size,shuffle=False)"
   ]
  },
  {
   "cell_type": "code",
   "execution_count": 6,
   "id": "unlike-struggle",
   "metadata": {},
   "outputs": [],
   "source": [
    "model = FactorVAEDSprites()\n",
    "discriminator = Discriminator(nb_layers=4,hidden_dim=500)\n",
    "vae_optimizer = torch.optim.Adam(model.parameters(), lr=1e-4)\n",
    "discriminator_optimizer = torch.optim.Adam(discriminator.parameters(), lr=1e-4)\n",
    "gamma = 0\n",
    "epochs = 3"
   ]
  },
  {
   "cell_type": "code",
   "execution_count": null,
   "id": "superior-spectacular",
   "metadata": {},
   "outputs": [
    {
     "name": "stderr",
     "output_type": "stream",
     "text": [
      "/Users/ireneburger/opt/anaconda3/envs/atml/lib/python3.8/site-packages/torch/nn/_reduction.py:42: UserWarning: size_average and reduce args will be deprecated, please use reduction='sum' instead.\n",
      "  warnings.warn(warning.format(ret))\n"
     ]
    }
   ],
   "source": [
    "train_losses_list, recon_losses_list, kl_divs_list, tc_losses_list, discriminator_losses_list = train_factor_vae(model, discriminator, epochs, train_loader, vae_optimizer, discriminator_optimizer, gamma, 'bernoulli')"
   ]
  },
  {
   "cell_type": "code",
   "execution_count": null,
   "id": "hearing-wedding",
   "metadata": {},
   "outputs": [],
   "source": [
    "def plot_loss(loss_list, title):\n",
    "    plt.plot(np.arange(1,len(loss_list)+1, 1), loss_list)\n",
    "    plt.xlabel(\"Epoch\")\n",
    "    plt.ylabel(\"Loss\")\n",
    "    plt.title(\"Training \"+title)\n",
    "    plt.show()"
   ]
  },
  {
   "cell_type": "code",
   "execution_count": null,
   "id": "convertible-pension",
   "metadata": {},
   "outputs": [],
   "source": [
    "plot_loss(train_losses_list, \"Total loss\")\n",
    "plot_loss(recon_losses_list, \"Reconstruction loss\")\n",
    "plot_loss(kl_divs_list, \"KL divergence\")\n",
    "plot_loss(tc_losses_list, \"TC loss\")\n",
    "plot_loss(discriminator_losses_list, \"Discriminator loss\")"
   ]
  },
  {
   "cell_type": "code",
   "execution_count": null,
   "id": "functioning-identity",
   "metadata": {},
   "outputs": [],
   "source": [
    "test_factor_vae(model, discriminator, test_loader, gamma, 'bernoulli')"
   ]
  },
  {
   "cell_type": "code",
   "execution_count": null,
   "id": "previous-documentation",
   "metadata": {},
   "outputs": [],
   "source": [
    "device = None\n",
    "with torch.no_grad():\n",
    "    for i in [1,2,20]:\n",
    "        data, _ = data_test[i]\n",
    "        data = data.float()\n",
    "        if device != None:\n",
    "            data = data.to(device)\n",
    "        recon, mu, logvar, z = model(data)\n",
    "        plt.imshow(data.cpu(), cmap='Greys_r')\n",
    "        plt.title(\"Real data\")\n",
    "        plt.show()\n",
    "        plt.imshow(torch.sigmoid(recon.squeeze()).cpu(), cmap='Greys_r')\n",
    "        plt.title(\"Reconstruction\")\n",
    "        plt.show()"
   ]
  },
  {
   "cell_type": "code",
   "execution_count": null,
   "id": "funded-contribution",
   "metadata": {},
   "outputs": [],
   "source": [
    "entanglement_metric_factor_vae(model, data_, 10, 50)"
   ]
  }
 ],
 "metadata": {
  "kernelspec": {
   "display_name": "Python 3",
   "language": "python",
   "name": "python3"
  },
  "language_info": {
   "codemirror_mode": {
    "name": "ipython",
    "version": 3
   },
   "file_extension": ".py",
   "mimetype": "text/x-python",
   "name": "python",
   "nbconvert_exporter": "python",
   "pygments_lexer": "ipython3",
   "version": "3.8.8"
  }
 },
 "nbformat": 4,
 "nbformat_minor": 5
}
