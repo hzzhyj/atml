{
 "cells": [
  {
   "cell_type": "code",
   "execution_count": 1,
   "id": "listed-biology",
   "metadata": {},
   "outputs": [],
   "source": [
    "import numpy as np\n",
    "import torch\n",
    "import os\n",
    "import sys\n",
    "import random\n",
    "import matplotlib.pyplot as plt\n",
    "\n",
    "from torch.utils.data import DataLoader\n",
    "\n",
    "module_path = os.path.abspath(os.path.join('..'))\n",
    "sys.path.append(module_path+\"/models\")\n",
    "sys.path.append(module_path+\"/train\")\n",
    "sys.path.append(module_path+\"/datasets\")\n",
    "\n",
    "from factor_vae import FactorVAEDSprites, Discriminator\n",
    "from datasets import train_test_random_split, load_dsprites, CustomDataset\n",
    "from train import train_factor_vae, test_factor_vae"
   ]
  },
  {
   "cell_type": "code",
   "execution_count": 2,
   "id": "copyrighted-render",
   "metadata": {},
   "outputs": [],
   "source": [
    "dataset = load_dsprites(\"../datasets/dsprites.npz\",False)\n",
    "imgs = dataset[\"imgs\"]"
   ]
  },
  {
   "cell_type": "code",
   "execution_count": 3,
   "id": "expressed-blade",
   "metadata": {},
   "outputs": [],
   "source": [
    "data_size = 1000\n",
    "data = CustomDataset(imgs,data_size)"
   ]
  },
  {
   "cell_type": "code",
   "execution_count": 4,
   "id": "egyptian-central",
   "metadata": {},
   "outputs": [],
   "source": [
    "data_train, data_test = train_test_random_split(data, 0.8)"
   ]
  },
  {
   "cell_type": "code",
   "execution_count": 5,
   "id": "wicked-pharmacology",
   "metadata": {},
   "outputs": [],
   "source": [
    "batch_size = 64\n",
    "train_loader = DataLoader(data_train, batch_size=batch_size,shuffle=True)\n",
    "test_loader = DataLoader(data_test, batch_size=batch_size,shuffle=False)"
   ]
  },
  {
   "cell_type": "code",
   "execution_count": 6,
   "id": "flying-wednesday",
   "metadata": {},
   "outputs": [],
   "source": [
    "model = FactorVAEDSprites()\n",
    "discriminator = Discriminator(nb_layers=4,hidden_dim=500)\n",
    "vae_optimizer = torch.optim.Adam(model.parameters(), lr=1e-4)\n",
    "discriminator_optimizer = torch.optim.Adam(discriminator.parameters(), lr=1e-4)\n",
    "gamma = 0\n",
    "epochs = 10"
   ]
  },
  {
   "cell_type": "code",
   "execution_count": 7,
   "id": "informational-yellow",
   "metadata": {},
   "outputs": [
    {
     "name": "stderr",
     "output_type": "stream",
     "text": [
      "/Users/ireneburger/opt/anaconda3/envs/practical-atiml/lib/python3.8/site-packages/torch/nn/_reduction.py:44: UserWarning: size_average and reduce args will be deprecated, please use reduction='sum' instead.\n",
      "  warnings.warn(warning.format(ret))\n"
     ]
    },
    {
     "name": "stdout",
     "output_type": "stream",
     "text": [
      "Epoch 0 finished, loss: 2609.0653545673076, recon loss: 2609.0296912560098, kl div: 0.03564063846044099\n",
      "Epoch 1 finished, loss: 1170.0019014798677, recon loss: 1168.4371948242188, kl div: 1.5647093814152937\n",
      "Epoch 2 finished, loss: 648.0207895132212, recon loss: 640.5843599759615, kl div: 7.436437423412617\n",
      "Epoch 3 finished, loss: 600.8275709885818, recon loss: 590.93896484375, kl div: 9.888604677640474\n",
      "Epoch 4 finished, loss: 586.8980665940505, recon loss: 579.1110417292668, kl div: 7.787020389850323\n",
      "Epoch 5 finished, loss: 581.2864896334135, recon loss: 575.8247586763822, kl div: 5.461729343120869\n",
      "Epoch 6 finished, loss: 578.5827448918269, recon loss: 574.6254272460938, kl div: 3.9573171138763428\n",
      "Epoch 7 finished, loss: 572.6511160043569, recon loss: 569.7009699894832, kl div: 2.9501425119546743\n",
      "Epoch 8 finished, loss: 574.275620680589, recon loss: 571.8841975285457, kl div: 2.391420914576604\n",
      "Epoch 9 finished, loss: 575.3922964242788, recon loss: 573.407700758714, kl div: 1.984599993779109\n"
     ]
    },
    {
     "data": {
      "text/plain": [
       "([2609.0653545673076,\n",
       "  1170.0019014798677,\n",
       "  648.0207895132212,\n",
       "  600.8275709885818,\n",
       "  586.8980665940505,\n",
       "  581.2864896334135,\n",
       "  578.5827448918269,\n",
       "  572.6511160043569,\n",
       "  574.275620680589,\n",
       "  575.3922964242788],\n",
       " [2609.0296912560098,\n",
       "  1168.4371948242188,\n",
       "  640.5843599759615,\n",
       "  590.93896484375,\n",
       "  579.1110417292668,\n",
       "  575.8247586763822,\n",
       "  574.6254272460938,\n",
       "  569.7009699894832,\n",
       "  571.8841975285457,\n",
       "  573.407700758714],\n",
       " [0.03564063846044099,\n",
       "  1.5647093814152937,\n",
       "  7.436437423412617,\n",
       "  9.888604677640474,\n",
       "  7.787020389850323,\n",
       "  5.461729343120869,\n",
       "  3.9573171138763428,\n",
       "  2.9501425119546743,\n",
       "  2.391420914576604,\n",
       "  1.984599993779109],\n",
       " [-0.001337439466554385,\n",
       "  -0.08127825477948555,\n",
       "  0.1234084668640907,\n",
       "  0.47893123443310076,\n",
       "  0.8138050849621112,\n",
       "  0.9480095414014963,\n",
       "  0.939085841178894,\n",
       "  0.6303138331725047,\n",
       "  0.6113247894323789,\n",
       "  0.5915656364881076],\n",
       " [0.6927721775495089,\n",
       "  0.6865348678368789,\n",
       "  0.6014246023618258,\n",
       "  0.47323854152972883,\n",
       "  0.38087987212034374,\n",
       "  0.3611410626998314,\n",
       "  0.41977691191893357,\n",
       "  0.46708529041363644,\n",
       "  0.4811756198222821,\n",
       "  0.4782564708819756])"
      ]
     },
     "execution_count": 7,
     "metadata": {},
     "output_type": "execute_result"
    }
   ],
   "source": [
    "train_factor_vae(model, discriminator, epochs, train_loader, vae_optimizer, discriminator_optimizer, gamma, 'bernoulli')"
   ]
  },
  {
   "cell_type": "code",
   "execution_count": 8,
   "id": "center-alliance",
   "metadata": {},
   "outputs": [
    {
     "name": "stdout",
     "output_type": "stream",
     "text": [
      "Test loss: 575.2989807128906\n"
     ]
    }
   ],
   "source": [
    "test_factor_vae(model, discriminator, test_loader, gamma, 'bernoulli')"
   ]
  },
  {
   "cell_type": "code",
   "execution_count": 12,
   "id": "existing-bishop",
   "metadata": {},
   "outputs": [
    {
     "name": "stdout",
     "output_type": "stream",
     "text": [
      "torch.Size([64, 64])\n",
      "torch.Size([1, 64, 64])\n"
     ]
    },
    {
     "data": {
      "image/png": "[encoded data removed]",
      "text/plain": [
       "<Figure size 432x288 with 1 Axes>"
      ]
     },
     "metadata": {
      "needs_background": "light"
     },
     "output_type": "display_data"
    },
    {
     "data": {
      "image/png": "[encoded data removed]",
      "text/plain": [
       "<Figure size 432x288 with 1 Axes>"
      ]
     },
     "metadata": {
      "needs_background": "light"
     },
     "output_type": "display_data"
    },
    {
     "name": "stdout",
     "output_type": "stream",
     "text": [
      "torch.Size([64, 64])\n",
      "torch.Size([1, 64, 64])\n"
     ]
    },
    {
     "data": {
      "image/png": "[encoded data removed]",
      "text/plain": [
       "<Figure size 432x288 with 1 Axes>"
      ]
     },
     "metadata": {
      "needs_background": "light"
     },
     "output_type": "display_data"
    },
    {
     "data": {
      "image/png": "[encoded data removed]",
      "text/plain": [
       "<Figure size 432x288 with 1 Axes>"
      ]
     },
     "metadata": {
      "needs_background": "light"
     },
     "output_type": "display_data"
    },
    {
     "name": "stdout",
     "output_type": "stream",
     "text": [
      "torch.Size([64, 64])\n",
      "torch.Size([1, 64, 64])\n"
     ]
    },
    {
     "data": {
      "image/png": "[encoded data removed]",
      "text/plain": [
       "<Figure size 432x288 with 1 Axes>"
      ]
     },
     "metadata": {
      "needs_background": "light"
     },
     "output_type": "display_data"
    },
    {
     "data": {
      "image/png": "[encoded data removed]",
      "text/plain": [
       "<Figure size 432x288 with 1 Axes>"
      ]
     },
     "metadata": {
      "needs_background": "light"
     },
     "output_type": "display_data"
    }
   ],
   "source": [
    "with torch.no_grad():\n",
    "    for i in [1,15,20]:\n",
    "        data, _ = data_test[i]\n",
    "        data = data.float()\n",
    "        recon, mu, logvar, z = model(data)\n",
    "        plt.imshow(data, cmap='Greys_r')\n",
    "        plt.title(\"Real data\")\n",
    "        plt.show()\n",
    "        plt.imshow(recon.squeeze(), cmap='Greys_r')\n",
    "        plt.title(\"Reconstruction\")\n",
    "        plt.show()"
   ]
  },
  {
   "cell_type": "code",
   "execution_count": 13,
   "id": "reverse-production",
   "metadata": {},
   "outputs": [],
   "source": [
    "dataset.allow_pickle = True\n",
    "latents_sizes = dataset['metadata'][()][b'latents_sizes']\n",
    "latents_bases = np.concatenate((latents_sizes[::-1].cumprod()[::-1][1:],\n",
    "                                np.array([1,])))\n",
    "\n",
    "def latent_to_index(latents):\n",
    "    return np.dot(latents, latents_bases).astype(int)\n",
    "\n",
    "def sample_latent(size=1, fixed = None):\n",
    "    samples = np.zeros((size, latents_sizes.size))\n",
    "    for lat_i, lat_size in enumerate(latents_sizes):\n",
    "        if fixed == lat_i:\n",
    "            fixed_value = np.random.randint(lat_size, size=1)\n",
    "            samples[:, lat_i] = np.full(size, fixed_value)\n",
    "        else:\n",
    "            samples[:, lat_i] = np.random.randint(lat_size, size=size)\n",
    "    return samples"
   ]
  },
  {
   "cell_type": "code",
   "execution_count": 14,
   "id": "fluid-strength",
   "metadata": {},
   "outputs": [],
   "source": [
    "def compute_latent_variance(size):\n",
    "    sample = sample_latent(size)\n",
    "    imgs_sampled = imgs[latent_to_index(sample)]\n",
    "    latents = np.zeros((size,10))\n",
    "    for i,data in enumerate(imgs_sampled):\n",
    "        data = torch.from_numpy(data).unsqueeze(0).float().unsqueeze(0)\n",
    "        recon, mu, logvar, z = model(data)\n",
    "        z = np.array(z.squeeze().detach().numpy())\n",
    "        latents[i] = z\n",
    "    global_vars = np.var(latents, axis = 0) \n",
    "    return global_vars\n",
    "\n",
    "latents_global_variance = compute_latent_variance(1000)\n"
   ]
  },
  {
   "cell_type": "code",
   "execution_count": 15,
   "id": "italic-bennett",
   "metadata": {},
   "outputs": [],
   "source": [
    "def FactorVAE_entanglement_metric(nb_samples,sample_size):\n",
    "    loss = 0\n",
    "    classification = np.zeros((len(latents_sizes),10))\n",
    "    for i in range(nb_samples):\n",
    "        k = np.random.randint(len(latents_sizes)-1)+1\n",
    "        latents_sampled = sample_latent(size=sample_size, fixed=k)\n",
    "        indices_sampled = latent_to_index(latents_sampled)\n",
    "        imgs_sampled = imgs[indices_sampled]\n",
    "        latents_rep = np.zeros((sample_size,10))\n",
    "        for data in imgs_sampled:\n",
    "            data = torch.from_numpy(data).unsqueeze(0).float().unsqueeze(0)\n",
    "            recon, mu, logvar, z = model(data)\n",
    "            z = np.array(z.squeeze().detach().numpy())\n",
    "            latents_rep[i] = z\n",
    "        latents_var = np.var(latents_rep, axis = 0) \n",
    "        latents_var_normalized = np.divide(latents_var, latents_global_variance)\n",
    "        idx = np.argmin(latents_var_normalized)\n",
    "        classification[k,idx]+=1\n",
    "    print(classification)\n",
    "    for i in range(len(latents_sizes)):\n",
    "        loss = loss + np.sum(classification[i])- np.max(classification[i])\n",
    "    return loss/nb_samples"
   ]
  },
  {
   "cell_type": "code",
   "execution_count": 16,
   "id": "seeing-seventh",
   "metadata": {},
   "outputs": [
    {
     "name": "stdout",
     "output_type": "stream",
     "text": [
      "[[0. 0. 0. 0. 0. 0. 0. 0. 0. 0.]\n",
      " [1. 1. 5. 1. 0. 0. 1. 0. 1. 0.]\n",
      " [2. 0. 6. 2. 0. 0. 1. 0. 1. 0.]\n",
      " [2. 2. 3. 1. 1. 1. 1. 0. 0. 0.]\n",
      " [5. 0. 1. 0. 0. 0. 0. 1. 0. 1.]\n",
      " [3. 1. 2. 0. 0. 0. 0. 0. 2. 1.]]\n"
     ]
    },
    {
     "data": {
      "text/plain": [
       "0.56"
      ]
     },
     "execution_count": 16,
     "metadata": {},
     "output_type": "execute_result"
    }
   ],
   "source": [
    "FactorVAE_entanglement_metric(50,500)"
   ]
  },
  {
   "cell_type": "code",
   "execution_count": null,
   "id": "integrated-extreme",
   "metadata": {},
   "outputs": [],
   "source": []
  }
 ],
 "metadata": {
  "kernelspec": {
   "display_name": "Python 3",
   "language": "python",
   "name": "python3"
  },
  "language_info": {
   "codemirror_mode": {
    "name": "ipython",
    "version": 3
   },
   "file_extension": ".py",
   "mimetype": "text/x-python",
   "name": "python",
   "nbconvert_exporter": "python",
   "pygments_lexer": "ipython3",
   "version": "3.8.5"
  }
 },
 "nbformat": 4,
 "nbformat_minor": 5
}
