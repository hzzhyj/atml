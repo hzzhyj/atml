{
 "cells": [
  {
   "cell_type": "code",
   "execution_count": 28,
   "id": "ranking-mailman",
   "metadata": {},
   "outputs": [],
   "source": [
    "import numpy as np\n",
    "import torch\n",
    "import os\n",
    "import sys\n",
    "import random\n",
    "import matplotlib.pyplot as plt\n",
    "import torch.nn.functional as F\n",
    "\n",
    "from torch.utils.data import DataLoader\n",
    "from torchvision import datasets, transforms\n",
    "from torchvision.datasets import ImageFolder"
   ]
  },
  {
   "cell_type": "code",
   "execution_count": 29,
   "id": "alleged-petite",
   "metadata": {},
   "outputs": [],
   "source": [
    "module_path = os.path.abspath(os.path.join('..'))\n",
    "sys.path.append(module_path+\"/models\")\n",
    "sys.path.append(module_path+\"/train\")\n",
    "sys.path.append(module_path+\"/datasets\")\n",
    "\n",
    "from datasets import train_test_random_split, load_celeba, CustomDSpritesDatasetFactorVAE\n",
    "from train import train_beta_vae, test_beta_vae\n",
    "from loss import loss_beta_vae\n",
    "from beta_vae import BetaVAECelebA, Classifier\n",
    "from utils import latent_transversal, load_checkpoint\n",
    "from entanglement_metric import entanglement_metric_factor_vae, entanglement_metric_beta_vae"
   ]
  },
  {
   "cell_type": "code",
   "execution_count": 30,
   "id": "institutional-folder",
   "metadata": {},
   "outputs": [],
   "source": [
    "image_size = (64, 64)\n",
    "dataset = ImageFolder('./celeba/', transforms.Compose([\n",
    "                                    transforms.Resize(image_size),\n",
    "                                    transforms.ToTensor()\n",
    "                                ]))"
   ]
  },
  {
   "cell_type": "code",
   "execution_count": 31,
   "id": "synthetic-aside",
   "metadata": {},
   "outputs": [
    {
     "data": {
      "image/png": "[encoded data removed]",
      "text/plain": [
       "<Figure size 432x288 with 1 Axes>"
      ]
     },
     "metadata": {
      "needs_background": "light"
     },
     "output_type": "display_data"
    }
   ],
   "source": [
    "plt.imshow(dataset[0][0].permute(1, 2, 0).numpy())\n",
    "plt.show()"
   ]
  },
  {
   "cell_type": "code",
   "execution_count": 32,
   "id": "effective-connecticut",
   "metadata": {},
   "outputs": [],
   "source": [
    "device = None\n",
    "if torch.cuda.is_available():\n",
    "    device = torch.device('cuda')\n",
    "else:\n",
    "    device = torch.device('cpu')"
   ]
  },
  {
   "cell_type": "code",
   "execution_count": 33,
   "id": "adopted-decision",
   "metadata": {},
   "outputs": [],
   "source": [
    "data_train, data_test = train_test_random_split(dataset, 0.8)\n",
    "\n",
    "batch_size = 64\n",
    "train_loader = DataLoader(data_train, batch_size=batch_size, shuffle=True)\n",
    "test_loader = DataLoader(data_test, batch_size=batch_size, shuffle=True)"
   ]
  },
  {
   "cell_type": "code",
   "execution_count": 34,
   "id": "governmental-teacher",
   "metadata": {},
   "outputs": [],
   "source": [
    "def train_beta_vae(model, epochs, train_loader, optimizer, beta, distribution, device=None):\n",
    "    model.train()\n",
    "\n",
    "    train_loss = []\n",
    "    for epoch in range(epochs):\n",
    "        epoch_loss = []\n",
    "        recon_losses = []\n",
    "        for batch_idx, (data, _) in enumerate(train_loader):\n",
    "\n",
    "            data = data.float()\n",
    "            if device != None:\n",
    "                data = data.to(device)\n",
    "\n",
    "            # zero the parameter gradients\n",
    "            optimizer.zero_grad()\n",
    "            # forward + backward + optimize\n",
    "            recon, mu, logvar = model(data)\n",
    "            loss, recon_loss = loss_beta_vae(recon, data, mu, logvar, beta, distribution)\n",
    "            loss.backward()\n",
    "            optimizer.step()\n",
    "            # print statistics\n",
    "            epoch_loss.append(loss.item())\n",
    "            recon_losses.append(recon_loss.item())\n",
    "        epoch_loss = np.mean(epoch_loss)\n",
    "        recon_losses = np.mean(recon_losses)\n",
    "        train_loss.append((epoch_loss, recon_losses,))\n",
    "        print(\"Epoch \" + str(epoch) + \" finished, loss: \" + str((epoch_loss, recon_losses,)))\n",
    "    return train_loss\n",
    "\n",
    "\n",
    "def test_beta_vae(model, test_loader, beta, distribution, device=None):\n",
    "    model.eval()\n",
    "\n",
    "    test_loss = []\n",
    "    recon_losses = []\n",
    "    with torch.no_grad():\n",
    "        for i, data in enumerate(test_loader):\n",
    "            data = data.float()\n",
    "            if device != None:\n",
    "                data = data.to(device)\n",
    "            # report the average loss over the test dataset\n",
    "            recon, mu, logvar = model(data)\n",
    "            loss, recon_loss = loss_beta_vae(recon, data, mu, logvar, beta, distribution)\n",
    "            test_loss.append(loss.item())\n",
    "            recon_losses.append(recon_loss.item())\n",
    "    test_loss = np.mean(test_loss)\n",
    "    recon_losses = np.mean(recon_losses)\n",
    "    print(\"Test total loss: \" + str(test_loss) + 'Test recon loss: ' + str(recon_losses))"
   ]
  },
  {
   "cell_type": "code",
   "execution_count": 45,
   "id": "associate-firewall",
   "metadata": {},
   "outputs": [],
   "source": [
    "model = BetaVAECelebA()\n",
    "model.to(device)\n",
    "optimizer = torch.optim.Adam(model.parameters(), lr=1e-4)"
   ]
  },
  {
   "cell_type": "code",
   "execution_count": 49,
   "id": "saving-composite",
   "metadata": {},
   "outputs": [],
   "source": [
    "# train the model\n",
    "epochs = 10\n",
    "beta = 250\n",
    "distribution = 'gaussian'\n"
   ]
  },
  {
   "cell_type": "code",
   "execution_count": 47,
   "id": "basic-royal",
   "metadata": {},
   "outputs": [],
   "source": [
    "import time"
   ]
  },
  {
   "cell_type": "code",
   "execution_count": null,
   "id": "perceived-footage",
   "metadata": {},
   "outputs": [],
   "source": []
  },
  {
   "cell_type": "code",
   "execution_count": 39,
   "id": "damaged-austin",
   "metadata": {},
   "outputs": [],
   "source": [
    "def plot_recon_image(model, dataset, index):\n",
    "    plt.imshow(torch.sigmoid(model(dataset[index][0].view(1, 3, 64, 64).cuda())[0]).view(3,64,64).cpu().permute(1, 2, 0).detach().numpy())\n",
    "    plt.show()"
   ]
  },
  {
   "cell_type": "code",
   "execution_count": 44,
   "id": "unlikely-violin",
   "metadata": {},
   "outputs": [
    {
     "data": {
      "image/png": "[encoded data removed]",
      "text/plain": [
       "<Figure size 432x288 with 1 Axes>"
      ]
     },
     "metadata": {
      "needs_background": "light"
     },
     "output_type": "display_data"
    }
   ],
   "source": [
    "plot_recon_image(model, dataset, 3)"
   ]
  },
  {
   "cell_type": "code",
   "execution_count": null,
   "id": "mysterious-expense",
   "metadata": {},
   "outputs": [],
   "source": [
    "start = time.time()\n",
    "loss_list = []\n",
    "losses = train_beta_vae(model, epochs, train_loader, optimizer, beta, distribution, device)\n",
    "loss_list.append(losses)\n",
    "save_checkpoint(model, optimizer, 'betavae_celeba_beta4_e' + str(i+1) + '0.pth.tar', \n",
    "    loss_list, 10)\n",
    "print('10 Epochs')\n",
    "end = time.time()\n",
    "print('time used in minutes:', (end-start)/60)"
   ]
  },
  {
   "cell_type": "code",
   "execution_count": null,
   "id": "animated-bibliography",
   "metadata": {},
   "outputs": [],
   "source": [
    "\n",
    "\n",
    "print('Training started')\n",
    "for i in range(10):\n",
    "    losses = train_beta_vae(model, epochs, train_loader, optimizer, beta, distribution, device)\n",
    "    loss_list.append(losses)\n",
    "    save_checkpoint(model, optimizer, 'betavae_celeba_beta4_e' + str(i+1) + '0.pth.tar', \n",
    "        loss_list, (i+1)*10)\n",
    "    print(str(i+1) + '0 Epochs')\n",
    "    end = time.time()\n",
    "    print('time used in minutes:', (end-start)/60)\n",
    "print('Training finished')\n",
    "\n",
    "end = time.time()"
   ]
  }
 ],
 "metadata": {
  "kernelspec": {
   "display_name": "Python 3",
   "language": "python",
   "name": "python3"
  },
  "language_info": {
   "codemirror_mode": {
    "name": "ipython",
    "version": 3
   },
   "file_extension": ".py",
   "mimetype": "text/x-python",
   "name": "python",
   "nbconvert_exporter": "python",
   "pygments_lexer": "ipython3",
   "version": "3.8.5"
  }
 },
 "nbformat": 4,
 "nbformat_minor": 5
}
