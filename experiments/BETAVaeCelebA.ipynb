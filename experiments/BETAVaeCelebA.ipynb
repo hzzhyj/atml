{
 "cells": [
  {
   "cell_type": "code",
   "execution_count": 1,
   "id": "ranking-mailman",
   "metadata": {},
   "outputs": [],
   "source": [
    "import numpy as np\n",
    "import torch\n",
    "import os\n",
    "import sys\n",
    "import random\n",
    "import matplotlib.pyplot as plt\n",
    "import torch.nn.functional as F\n",
    "\n",
    "from torch.utils.data import DataLoader\n",
    "from torchvision import datasets, transforms\n",
    "from torchvision.datasets import ImageFolder"
   ]
  },
  {
   "cell_type": "code",
   "execution_count": 2,
   "id": "alleged-petite",
   "metadata": {},
   "outputs": [],
   "source": [
    "module_path = os.path.abspath(os.path.join('..'))\n",
    "sys.path.append(module_path+\"/models\")\n",
    "sys.path.append(module_path+\"/train\")\n",
    "sys.path.append(module_path+\"/datasets\")\n",
    "\n",
    "from datasets import train_test_random_split, load_celeba, CustomDSpritesDatasetFactorVAE\n",
    "from train import train_beta_vae, test_beta_vae\n",
    "from loss import loss_beta_vae\n",
    "from beta_vae import BetaVAECelebA, Classifier\n",
    "from utils import latent_transversal, load_checkpoint, save_checkpoint\n",
    "from entanglement_metric import entanglement_metric_factor_vae, entanglement_metric_beta_vae"
   ]
  },
  {
   "cell_type": "code",
   "execution_count": 3,
   "id": "institutional-folder",
   "metadata": {},
   "outputs": [],
   "source": [
    "image_size = (64, 64)\n",
    "dataset = ImageFolder('./celeba/', transforms.Compose([\n",
    "                                    transforms.Resize(image_size),\n",
    "                                    transforms.ToTensor()\n",
    "                                ]))"
   ]
  },
  {
   "cell_type": "code",
   "execution_count": 4,
   "id": "synthetic-aside",
   "metadata": {},
   "outputs": [
    {
     "data": {
      "image/png": "[encoded data removed]",
      "text/plain": [
       "<Figure size 432x288 with 1 Axes>"
      ]
     },
     "metadata": {
      "needs_background": "light"
     },
     "output_type": "display_data"
    }
   ],
   "source": [
    "plt.imshow(dataset[0][0].permute(1, 2, 0).numpy())\n",
    "plt.show()"
   ]
  },
  {
   "cell_type": "code",
   "execution_count": 5,
   "id": "surrounded-smell",
   "metadata": {},
   "outputs": [],
   "source": [
    "device = None\n",
    "if torch.cuda.is_available():\n",
    "    device = torch.device('cuda')\n",
    "else:\n",
    "    device = torch.device('cpu')"
   ]
  },
  {
   "cell_type": "code",
   "execution_count": 6,
   "id": "cordless-above",
   "metadata": {},
   "outputs": [],
   "source": [
    "data_train, data_test = train_test_random_split(dataset, 0.8)\n",
    "\n",
    "batch_size = 64\n",
    "train_loader = DataLoader(data_train, batch_size=batch_size, shuffle=False)\n",
    "test_loader = DataLoader(data_test, batch_size=batch_size, shuffle=False)"
   ]
  },
  {
   "cell_type": "code",
   "execution_count": 7,
   "id": "mechanical-position",
   "metadata": {},
   "outputs": [],
   "source": [
    "def train_beta_vae(model, epochs, train_loader, optimizer, beta, distribution, device=None):\n",
    "    model.train()\n",
    "\n",
    "    train_loss = []\n",
    "    for epoch in range(epochs):\n",
    "        epoch_loss = []\n",
    "        recon_losses = []\n",
    "        for batch_idx, (data, _) in enumerate(train_loader):\n",
    "\n",
    "            data = data.float()\n",
    "            if device != None:\n",
    "                data = data.to(device)\n",
    "\n",
    "            # zero the parameter gradients\n",
    "            optimizer.zero_grad()\n",
    "            # forward + backward + optimize\n",
    "            recon, mu, logvar = model(data)\n",
    "            loss, recon_loss = loss_beta_vae(recon, data, mu, logvar, beta, distribution)\n",
    "            loss.backward()\n",
    "            optimizer.step()\n",
    "            # print statistics\n",
    "            epoch_loss.append(loss.item())\n",
    "            recon_losses.append(recon_loss.item())\n",
    "        epoch_loss = np.mean(epoch_loss)\n",
    "        recon_losses = np.mean(recon_losses)\n",
    "        train_loss.append((epoch_loss, recon_losses,))\n",
    "        print(\"Epoch \" + str(epoch) + \" finished, loss: \" + str((epoch_loss, recon_losses,)))\n",
    "    return train_loss\n",
    "\n",
    "\n",
    "def test_beta_vae(model, test_loader, beta, distribution, device=None):\n",
    "    model.eval()\n",
    "\n",
    "    test_loss = []\n",
    "    recon_losses = []\n",
    "    with torch.no_grad():\n",
    "        for i, data in enumerate(test_loader):\n",
    "            data = data.float()\n",
    "            if device != None:\n",
    "                data = data.to(device)\n",
    "            # report the average loss over the test dataset\n",
    "            recon, mu, logvar = model(data)\n",
    "            loss, recon_loss = loss_beta_vae(recon, data, mu, logvar, beta, distribution)\n",
    "            test_loss.append(loss.item())\n",
    "            recon_losses.append(recon_loss.item())\n",
    "    test_loss = np.mean(test_loss)\n",
    "    recon_losses = np.mean(recon_losses)\n",
    "    print(\"Test total loss: \" + str(test_loss) + 'Test recon loss: ' + str(recon_losses))"
   ]
  },
  {
   "cell_type": "code",
   "execution_count": 18,
   "id": "charged-explosion",
   "metadata": {},
   "outputs": [],
   "source": [
    "model = BetaVAECelebA()\n",
    "model.to(device)\n",
    "optimizer = torch.optim.Adam(model.parameters(), lr=1e-4)"
   ]
  },
  {
   "cell_type": "code",
   "execution_count": 19,
   "id": "experimental-reply",
   "metadata": {},
   "outputs": [],
   "source": [
    "# train the model\n",
    "epochs = 10\n",
    "beta = 250\n",
    "distribution = 'gaussian'\n"
   ]
  },
  {
   "cell_type": "code",
   "execution_count": 20,
   "id": "electric-globe",
   "metadata": {},
   "outputs": [],
   "source": [
    "import time"
   ]
  },
  {
   "cell_type": "code",
   "execution_count": null,
   "id": "encouraging-soviet",
   "metadata": {},
   "outputs": [],
   "source": []
  },
  {
   "cell_type": "code",
   "execution_count": 21,
   "id": "obvious-dominant",
   "metadata": {},
   "outputs": [],
   "source": [
    "def plot_recon_image(model, dataset, index):\n",
    "    plt.imshow(torch.sigmoid(model(dataset[index][0].view(1, 3, 64, 64).cuda())[0]).view(3,64,64).cpu().permute(1, 2, 0).detach().numpy())\n",
    "    plt.show()"
   ]
  },
  {
   "cell_type": "code",
   "execution_count": 22,
   "id": "composed-compact",
   "metadata": {},
   "outputs": [
    {
     "data": {
      "image/png": "[encoded data removed]",
      "text/plain": [
       "<Figure size 432x288 with 1 Axes>"
      ]
     },
     "metadata": {
      "needs_background": "light"
     },
     "output_type": "display_data"
    }
   ],
   "source": [
    "plot_recon_image(model, dataset, 12332)"
   ]
  },
  {
   "cell_type": "code",
   "execution_count": 23,
   "id": "regulation-bachelor",
   "metadata": {},
   "outputs": [
    {
     "name": "stderr",
     "output_type": "stream",
     "text": [
      "/home/hzzhyj/anaconda3/envs/atml/lib/python3.8/site-packages/torch/nn/functional.py:1709: UserWarning: nn.functional.sigmoid is deprecated. Use torch.sigmoid instead.\n",
      "  warnings.warn(\"nn.functional.sigmoid is deprecated. Use torch.sigmoid instead.\")\n",
      "/home/hzzhyj/anaconda3/envs/atml/lib/python3.8/site-packages/torch/nn/_reduction.py:42: UserWarning: size_average and reduce args will be deprecated, please use reduction='sum' instead.\n",
      "  warnings.warn(warning.format(ret))\n"
     ]
    },
    {
     "name": "stdout",
     "output_type": "stream",
     "text": [
      "Epoch 0 finished, loss: (974.6588309943511, 973.8020584823302)\n",
      "Epoch 1 finished, loss: (958.1995865994652, 957.237418492886)\n",
      "Epoch 2 finished, loss: (936.4914629816114, 894.4478171341418)\n",
      "Epoch 3 finished, loss: (909.4319298010404, 826.3268141778524)\n",
      "Epoch 4 finished, loss: (888.87121878412, 783.6211227374824)\n",
      "Epoch 5 finished, loss: (877.1689993357217, 759.6272510719826)\n",
      "Epoch 6 finished, loss: (875.8722874174182, 756.939203972408)\n",
      "Epoch 7 finished, loss: (874.2456924552932, 755.4534960301365)\n",
      "Epoch 8 finished, loss: (873.9585719720394, 754.6569704702613)\n",
      "Epoch 9 finished, loss: (873.6988030217921, 753.4967992325522)\n"
     ]
    }
   ],
   "source": [
    "start = time.time()\n",
    "loss_list = []\n",
    "losses = train_beta_vae(model, epochs, train_loader, optimizer, beta, distribution, device)\n",
    "loss_list.append(losses)\n",
    "save_checkpoint(model, optimizer, 'betavae_celeba_beta4_e10_r.pth.tar', \n",
    "    loss_list, 10)"
   ]
  },
  {
   "cell_type": "code",
   "execution_count": null,
   "id": "hidden-uganda",
   "metadata": {},
   "outputs": [],
   "source": []
  },
  {
   "cell_type": "code",
   "execution_count": 54,
   "id": "facial-zimbabwe",
   "metadata": {},
   "outputs": [],
   "source": [
    "save_checkpoint(model, optimizer, 'betavae_celeba_beta4_e10.pth.tar', \n",
    "    loss_list, 10)"
   ]
  },
  {
   "cell_type": "code",
   "execution_count": 52,
   "id": "drawn-belgium",
   "metadata": {},
   "outputs": [
    {
     "name": "stdout",
     "output_type": "stream",
     "text": [
      "10 Epochs\n",
      "time used in minutes: 38.157957216103874\n"
     ]
    }
   ],
   "source": [
    "print('10 Epochs')\n",
    "end = time.time()\n",
    "print('time used in minutes:', (end-start)/60)"
   ]
  },
  {
   "cell_type": "code",
   "execution_count": null,
   "id": "outer-background",
   "metadata": {},
   "outputs": [],
   "source": [
    "print('Training started')\n",
    "for i in range(10):\n",
    "    losses = train_beta_vae(model, epochs, train_loader, optimizer, beta, distribution, device)\n",
    "    loss_list.append(losses)\n",
    "    save_checkpoint(model, optimizer, 'betavae_celeba_beta4_e' + str(i+1) + '0.pth.tar', \n",
    "        loss_list, (i+1)*10)\n",
    "    print(str(i+1) + '0 Epochs')\n",
    "    end = time.time()\n",
    "    print('time used in minutes:', (end-start)/60)\n",
    "print('Training finished')\n",
    "\n",
    "end = time.time()"
   ]
  },
  {
   "cell_type": "code",
   "execution_count": null,
   "id": "swedish-transsexual",
   "metadata": {},
   "outputs": [],
   "source": []
  },
  {
   "cell_type": "code",
   "execution_count": 9,
   "id": "norman-allergy",
   "metadata": {},
   "outputs": [
    {
     "name": "stdout",
     "output_type": "stream",
     "text": [
      "=> loading checkpoint 'betavae_celeba_beta4_e10.pth.tar'\n",
      "=> loaded checkpoint 'betavae_celeba_beta4_e10.pth.tar' (epoch 11)\n"
     ]
    }
   ],
   "source": [
    "loss_list = []\n",
    "model, optimizer, start_epoch, loss_list = load_checkpoint(model, optimizer, loss_list, filename='betavae_celeba_beta4_e10.pth.tar')"
   ]
  },
  {
   "cell_type": "code",
   "execution_count": 10,
   "id": "daily-medium",
   "metadata": {},
   "outputs": [
    {
     "ename": "NameError",
     "evalue": "name 'plot_recon_image' is not defined",
     "output_type": "error",
     "traceback": [
      "\u001b[0;31m---------------------------------------------------------------------------\u001b[0m",
      "\u001b[0;31mNameError\u001b[0m                                 Traceback (most recent call last)",
      "\u001b[0;32m<ipython-input-10-0521d6ff48ac>\u001b[0m in \u001b[0;36m<module>\u001b[0;34m\u001b[0m\n\u001b[0;32m----> 1\u001b[0;31m \u001b[0mplot_recon_image\u001b[0m\u001b[0;34m(\u001b[0m\u001b[0mmodel\u001b[0m\u001b[0;34m,\u001b[0m \u001b[0mdataset\u001b[0m\u001b[0;34m,\u001b[0m \u001b[0;36m29091\u001b[0m\u001b[0;34m)\u001b[0m\u001b[0;34m\u001b[0m\u001b[0;34m\u001b[0m\u001b[0m\n\u001b[0m",
      "\u001b[0;31mNameError\u001b[0m: name 'plot_recon_image' is not defined"
     ]
    }
   ],
   "source": [
    "plot_recon_image(model, dataset, 29091)"
   ]
  },
  {
   "cell_type": "code",
   "execution_count": 16,
   "id": "accomplished-spring",
   "metadata": {},
   "outputs": [
    {
     "data": {
      "text/plain": [
       "[[(968.600097391194, 967.9767334851831),\n",
       "  (955.4301621911086, 949.6812178366654),\n",
       "  (916.6390850008405, 841.1166125213587),\n",
       "  (901.1252220445973, 809.5379735296816),\n",
       "  (879.0895948142719, 763.4370398146806),\n",
       "  (876.2053389882458, 757.5730171549993),\n",
       "  (874.5836459708412, 755.5886776484004),\n",
       "  (874.2190626455398, 754.4873758670703),\n",
       "  (873.4755421309804, 753.9125028867003),\n",
       "  (873.0432979012967, 753.3148160347862)]]"
      ]
     },
     "execution_count": 16,
     "metadata": {},
     "output_type": "execute_result"
    }
   ],
   "source": [
    "loss_list"
   ]
  },
  {
   "cell_type": "code",
   "execution_count": 17,
   "id": "naughty-highland",
   "metadata": {},
   "outputs": [
    {
     "name": "stderr",
     "output_type": "stream",
     "text": [
      "/home/hzzhyj/anaconda3/envs/atml/lib/python3.8/site-packages/torch/nn/functional.py:1709: UserWarning: nn.functional.sigmoid is deprecated. Use torch.sigmoid instead.\n",
      "  warnings.warn(\"nn.functional.sigmoid is deprecated. Use torch.sigmoid instead.\")\n",
      "/home/hzzhyj/anaconda3/envs/atml/lib/python3.8/site-packages/torch/nn/_reduction.py:42: UserWarning: size_average and reduce args will be deprecated, please use reduction='sum' instead.\n",
      "  warnings.warn(warning.format(ret))\n"
     ]
    },
    {
     "name": "stdout",
     "output_type": "stream",
     "text": [
      "Epoch 0 finished, loss: (872.0932909953843, 752.2426477576074)\n",
      "Epoch 1 finished, loss: (872.25624356155, 752.2875524039707)\n",
      "Epoch 2 finished, loss: (872.3366690062272, 751.6440193064825)\n",
      "Epoch 3 finished, loss: (872.092944639547, 751.8009647651006)\n",
      "Epoch 4 finished, loss: (871.7279798023511, 751.2999070954803)\n",
      "Epoch 5 finished, loss: (871.7589483852213, 751.4276795807066)\n",
      "Epoch 6 finished, loss: (871.6587565618214, 751.2335008213843)\n",
      "Epoch 7 finished, loss: (871.5944468320898, 751.2889225745549)\n",
      "Epoch 8 finished, loss: (871.4404939033276, 750.4632156558814)\n",
      "Epoch 9 finished, loss: (870.9358701468738, 750.5551051558876)\n"
     ]
    },
    {
     "ename": "NameError",
     "evalue": "name 'i' is not defined",
     "output_type": "error",
     "traceback": [
      "\u001b[0;31m---------------------------------------------------------------------------\u001b[0m",
      "\u001b[0;31mNameError\u001b[0m                                 Traceback (most recent call last)",
      "\u001b[0;32m<ipython-input-17-ebe05cd73ec0>\u001b[0m in \u001b[0;36m<module>\u001b[0;34m\u001b[0m\n\u001b[1;32m      1\u001b[0m \u001b[0mlosses\u001b[0m \u001b[0;34m=\u001b[0m \u001b[0mtrain_beta_vae\u001b[0m\u001b[0;34m(\u001b[0m\u001b[0mmodel\u001b[0m\u001b[0;34m,\u001b[0m \u001b[0mepochs\u001b[0m\u001b[0;34m,\u001b[0m \u001b[0mtrain_loader\u001b[0m\u001b[0;34m,\u001b[0m \u001b[0moptimizer\u001b[0m\u001b[0;34m,\u001b[0m \u001b[0mbeta\u001b[0m\u001b[0;34m,\u001b[0m \u001b[0mdistribution\u001b[0m\u001b[0;34m,\u001b[0m \u001b[0mdevice\u001b[0m\u001b[0;34m)\u001b[0m\u001b[0;34m\u001b[0m\u001b[0;34m\u001b[0m\u001b[0m\n\u001b[1;32m      2\u001b[0m \u001b[0mloss_list\u001b[0m\u001b[0;34m.\u001b[0m\u001b[0mappend\u001b[0m\u001b[0;34m(\u001b[0m\u001b[0mlosses\u001b[0m\u001b[0;34m)\u001b[0m\u001b[0;34m\u001b[0m\u001b[0;34m\u001b[0m\u001b[0m\n\u001b[0;32m----> 3\u001b[0;31m save_checkpoint(model, optimizer, 'betavae_celeba_beta4_e' + str(i+1) + '0.pth.tar', \n\u001b[0m\u001b[1;32m      4\u001b[0m     loss_list, 10)\n",
      "\u001b[0;31mNameError\u001b[0m: name 'i' is not defined"
     ]
    }
   ],
   "source": [
    "losses = train_beta_vae(model, epochs, train_loader, optimizer, beta, distribution, device)\n",
    "loss_list.append(losses)"
   ]
  },
  {
   "cell_type": "code",
   "execution_count": 18,
   "id": "mexican-circular",
   "metadata": {},
   "outputs": [],
   "source": [
    "save_checkpoint(model, optimizer, 'betavae_celeba_beta4_e20.pth.tar', \n",
    "    loss_list, 20)"
   ]
  },
  {
   "cell_type": "code",
   "execution_count": 19,
   "id": "differential-vietnam",
   "metadata": {},
   "outputs": [
    {
     "name": "stdout",
     "output_type": "stream",
     "text": [
      "Epoch 0 finished, loss: (870.287961288916, 750.1254552697363)\n",
      "Epoch 1 finished, loss: (870.864730431353, 750.3070164261436)\n",
      "Epoch 2 finished, loss: (871.0608546290528, 750.264040616017)\n",
      "Epoch 3 finished, loss: (871.5414021488616, 750.7420690922788)\n",
      "Epoch 4 finished, loss: (871.1428703853277, 749.9775357372527)\n",
      "Epoch 5 finished, loss: (871.6845451080889, 750.5908484566226)\n",
      "Epoch 6 finished, loss: (871.3058924443441, 750.3352519448359)\n",
      "Epoch 7 finished, loss: (871.2266177521174, 750.0598017545354)\n",
      "Epoch 8 finished, loss: (870.4814409511248, 750.189084359887)\n",
      "Epoch 9 finished, loss: (870.2959052807627, 749.9623166342946)\n"
     ]
    }
   ],
   "source": [
    "losses = train_beta_vae(model, epochs, train_loader, optimizer, beta, distribution, device)\n",
    "loss_list.append(losses)\n",
    "save_checkpoint(model, optimizer, 'betavae_celeba_beta4_e30.pth.tar', \n",
    "    loss_list, 30)"
   ]
  },
  {
   "cell_type": "code",
   "execution_count": 20,
   "id": "humanitarian-venice",
   "metadata": {},
   "outputs": [
    {
     "name": "stdout",
     "output_type": "stream",
     "text": [
      "Epoch 0 finished, loss: (870.9678355087841, 749.8047215235455)\n",
      "Epoch 1 finished, loss: (871.3537866808518, 749.7133750026987)\n",
      "Epoch 2 finished, loss: (871.1425902693817, 749.9631727168177)\n",
      "Epoch 3 finished, loss: (871.295727163165, 750.0265966777598)\n",
      "Epoch 4 finished, loss: (870.6314884973428, 749.9919856719429)\n",
      "Epoch 5 finished, loss: (870.4203461090943, 749.524481675863)\n",
      "Epoch 6 finished, loss: (870.9640819069147, 749.7096031601609)\n",
      "Epoch 7 finished, loss: (870.885741729676, 749.6936953213673)\n",
      "Epoch 8 finished, loss: (871.189234622514, 749.5844713550663)\n",
      "Epoch 9 finished, loss: (871.0329705263567, 749.9818358362968)\n"
     ]
    }
   ],
   "source": [
    "losses = train_beta_vae(model, epochs, train_loader, optimizer, beta, distribution, device)\n",
    "loss_list.append(losses)\n",
    "save_checkpoint(model, optimizer, 'betavae_celeba_beta4_e40.pth.tar', \n",
    "    loss_list, 40)"
   ]
  },
  {
   "cell_type": "code",
   "execution_count": 23,
   "id": "stylish-tackle",
   "metadata": {},
   "outputs": [
    {
     "data": {
      "image/png": "[encoded data removed]",
      "text/plain": [
       "<Figure size 432x288 with 1 Axes>"
      ]
     },
     "metadata": {
      "needs_background": "light"
     },
     "output_type": "display_data"
    }
   ],
   "source": []
  },
  {
   "cell_type": "code",
   "execution_count": null,
   "id": "addressed-daily",
   "metadata": {},
   "outputs": [],
   "source": [
    "losses = train_beta_vae(model, epochs, train_loader, optimizer, beta, distribution, device)\n",
    "loss_list.append(losses)\n",
    "save_checkpoint(model, optimizer, 'betavae_celeba_beta4_e50.pth.tar', \n",
    "    loss_list, 50)"
   ]
  }
 ],
 "metadata": {
  "kernelspec": {
   "display_name": "Python 3",
   "language": "python",
   "name": "python3"
  },
  "language_info": {
   "codemirror_mode": {
    "name": "ipython",
    "version": 3
   },
   "file_extension": ".py",
   "mimetype": "text/x-python",
   "name": "python",
   "nbconvert_exporter": "python",
   "pygments_lexer": "ipython3",
   "version": "3.8.5"
  }
 },
 "nbformat": 4,
 "nbformat_minor": 5
}
