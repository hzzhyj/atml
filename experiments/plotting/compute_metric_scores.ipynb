{
 "cells": [
  {
   "cell_type": "code",
   "execution_count": 2,
   "id": "c37Gk0pU2qcz",
   "metadata": {
    "executionInfo": {
     "elapsed": 1062,
     "status": "ok",
     "timestamp": 1618230624925,
     "user": {
      "displayName": "Shabbir Khan",
      "photoUrl": "https://lh3.googleusercontent.com/a-/AOh14GgO-lNEopjJp4E-aauUfOKAsSirvy2CEmg23rtMm2M=s64",
      "userId": "05522859297080563751"
     },
     "user_tz": -360
    },
    "id": "c37Gk0pU2qcz"
   },
   "outputs": [],
   "source": [
    "%reload_ext autoreload\n",
    "%autoreload 2\n",
    "%matplotlib inline"
   ]
  },
  {
   "cell_type": "code",
   "execution_count": 3,
   "id": "XQLwqE7_20nU",
   "metadata": {
    "colab": {
     "base_uri": "https://localhost:8080/"
    },
    "executionInfo": {
     "elapsed": 23303,
     "status": "ok",
     "timestamp": 1618230649607,
     "user": {
      "displayName": "Shabbir Khan",
      "photoUrl": "https://lh3.googleusercontent.com/a-/AOh14GgO-lNEopjJp4E-aauUfOKAsSirvy2CEmg23rtMm2M=s64",
      "userId": "05522859297080563751"
     },
     "user_tz": -360
    },
    "id": "XQLwqE7_20nU",
    "outputId": "5240de6b-baad-4577-c41c-d6589715b6ba"
   },
   "outputs": [
    {
     "name": "stdout",
     "output_type": "stream",
     "text": [
      "Mounted at /content/drive\n"
     ]
    }
   ],
   "source": [
    "from google.colab import drive\n",
    "drive.mount('/content/drive')"
   ]
  },
  {
   "cell_type": "code",
   "execution_count": 4,
   "id": "aGQUDxMl3Ef_",
   "metadata": {
    "colab": {
     "base_uri": "https://localhost:8080/"
    },
    "executionInfo": {
     "elapsed": 1119,
     "status": "ok",
     "timestamp": 1618230659283,
     "user": {
      "displayName": "Shabbir Khan",
      "photoUrl": "https://lh3.googleusercontent.com/a-/AOh14GgO-lNEopjJp4E-aauUfOKAsSirvy2CEmg23rtMm2M=s64",
      "userId": "05522859297080563751"
     },
     "user_tz": -360
    },
    "id": "aGQUDxMl3Ef_",
    "outputId": "ef65681d-9635-4bb7-87df-a8e2c21f40be"
   },
   "outputs": [
    {
     "name": "stdout",
     "output_type": "stream",
     "text": [
      "/content\n"
     ]
    }
   ],
   "source": [
    "!pwd"
   ]
  },
  {
   "cell_type": "code",
   "execution_count": 5,
   "id": "n_UqFwVB232c",
   "metadata": {
    "colab": {
     "base_uri": "https://localhost:8080/"
    },
    "executionInfo": {
     "elapsed": 2841,
     "status": "ok",
     "timestamp": 1618230664123,
     "user": {
      "displayName": "Shabbir Khan",
      "photoUrl": "https://lh3.googleusercontent.com/a-/AOh14GgO-lNEopjJp4E-aauUfOKAsSirvy2CEmg23rtMm2M=s64",
      "userId": "05522859297080563751"
     },
     "user_tz": -360
    },
    "id": "n_UqFwVB232c",
    "outputId": "f2e46c30-1d01-47bd-c383-598d1735455c"
   },
   "outputs": [
    {
     "name": "stdout",
     "output_type": "stream",
     "text": [
      "/content/drive/My Drive\n",
      "/content/drive/My Drive/atml\n",
      "/content/drive/My Drive/atml/experiments/plotting\n"
     ]
    }
   ],
   "source": [
    "%cd drive/My\\ Drive/\n",
    "%cd atml\n",
    "%cd experiments/plotting"
   ]
  },
  {
   "cell_type": "code",
   "execution_count": 20,
   "id": "spiritual-traveler",
   "metadata": {
    "executionInfo": {
     "elapsed": 16488,
     "status": "ok",
     "timestamp": 1618230679926,
     "user": {
      "displayName": "Shabbir Khan",
      "photoUrl": "https://lh3.googleusercontent.com/a-/AOh14GgO-lNEopjJp4E-aauUfOKAsSirvy2CEmg23rtMm2M=s64",
      "userId": "05522859297080563751"
     },
     "user_tz": -360
    },
    "id": "spiritual-traveler"
   },
   "outputs": [],
   "source": [
    "import numpy as np\n",
    "import os\n",
    "import sys\n",
    "import random\n",
    "import torch\n",
    "import matplotlib.pyplot as plt\n",
    "import matplotlib.lines as mlines\n",
    "\n",
    "\n",
    "from torch.utils.data import DataLoader\n",
    "\n",
    "module_path = os.path.abspath(os.path.join('../..'))\n",
    "sys.path.append(module_path+\"/models\")\n",
    "sys.path.append(module_path+\"/train\")\n",
    "sys.path.append(module_path+\"/datasets\")\n",
    "\n",
    "from datasets import train_test_random_split, load_dsprites, CustomDSpritesDataset, AddGeneratedNoise, AddUniformNoise\n",
    "from entanglement_metric import entanglement_metric_factor_vae, entanglement_metric_beta_vae, compute_mig\n",
    "from beta_vae import Classifier\n",
    "from factor_vae import Discriminator\n",
    "from train import test_beta_vae, test_factor_vae, test_control_vae"
   ]
  },
  {
   "cell_type": "code",
   "execution_count": 21,
   "id": "framed-florence",
   "metadata": {
    "executionInfo": {
     "elapsed": 1855,
     "status": "ok",
     "timestamp": 1618230681805,
     "user": {
      "displayName": "Shabbir Khan",
      "photoUrl": "https://lh3.googleusercontent.com/a-/AOh14GgO-lNEopjJp4E-aauUfOKAsSirvy2CEmg23rtMm2M=s64",
      "userId": "05522859297080563751"
     },
     "user_tz": -360
    },
    "id": "framed-florence"
   },
   "outputs": [],
   "source": [
    "seed = 2"
   ]
  },
  {
   "cell_type": "code",
   "execution_count": 22,
   "id": "toxic-opinion",
   "metadata": {
    "colab": {
     "base_uri": "https://localhost:8080/",
     "height": 35
    },
    "executionInfo": {
     "elapsed": 1849,
     "status": "ok",
     "timestamp": 1618230681818,
     "user": {
      "displayName": "Shabbir Khan",
      "photoUrl": "https://lh3.googleusercontent.com/a-/AOh14GgO-lNEopjJp4E-aauUfOKAsSirvy2CEmg23rtMm2M=s64",
      "userId": "05522859297080563751"
     },
     "user_tz": -360
    },
    "id": "toxic-opinion",
    "outputId": "398fcfe3-2870-435b-dbd3-5aa25f5f3f60"
   },
   "outputs": [
    {
     "data": {
      "text/plain": [
       "'cpu'"
      ]
     },
     "execution_count": 22,
     "metadata": {},
     "output_type": "execute_result"
    }
   ],
   "source": [
    "if torch.cuda.is_available():\n",
    "    device = torch.device('cuda')\n",
    "else:\n",
    "    device = torch.device('cpu')\n",
    "device.type"
   ]
  },
  {
   "cell_type": "code",
   "execution_count": 23,
   "id": "sharing-hunter",
   "metadata": {
    "executionInfo": {
     "elapsed": 2496,
     "status": "ok",
     "timestamp": 1618230682481,
     "user": {
      "displayName": "Shabbir Khan",
      "photoUrl": "https://lh3.googleusercontent.com/a-/AOh14GgO-lNEopjJp4E-aauUfOKAsSirvy2CEmg23rtMm2M=s64",
      "userId": "05522859297080563751"
     },
     "user_tz": -360
    },
    "id": "sharing-hunter"
   },
   "outputs": [],
   "source": [
    "def plot_loss(loss_lists, title):\n",
    "    if not isinstance(loss_lists[0], list):\n",
    "        loss_lists = [loss_lists]\n",
    "    for loss_list in loss_lists:\n",
    "        plt.plot(np.arange(1,len(loss_list)+1, 1), loss_list)\n",
    "    plt.xlabel(\"Epoch\")\n",
    "    plt.ylabel(\"Accuracy\")\n",
    "    plt.title(\"Training \"+title+\" of the classifier over epochs\")\n",
    "    plt.show()"
   ]
  },
  {
   "cell_type": "code",
   "execution_count": 24,
   "id": "threatened-pepper",
   "metadata": {
    "executionInfo": {
     "elapsed": 2491,
     "status": "ok",
     "timestamp": 1618230682484,
     "user": {
      "displayName": "Shabbir Khan",
      "photoUrl": "https://lh3.googleusercontent.com/a-/AOh14GgO-lNEopjJp4E-aauUfOKAsSirvy2CEmg23rtMm2M=s64",
      "userId": "05522859297080563751"
     },
     "user_tz": -360
    },
    "id": "threatened-pepper"
   },
   "outputs": [],
   "source": [
    "dataset = load_dsprites(\"../../datasets/dsprites.npz\",False)"
   ]
  },
  {
   "cell_type": "code",
   "execution_count": 25,
   "id": "radio-center",
   "metadata": {
    "executionInfo": {
     "elapsed": 12447,
     "status": "ok",
     "timestamp": 1618230692448,
     "user": {
      "displayName": "Shabbir Khan",
      "photoUrl": "https://lh3.googleusercontent.com/a-/AOh14GgO-lNEopjJp4E-aauUfOKAsSirvy2CEmg23rtMm2M=s64",
      "userId": "05522859297080563751"
     },
     "user_tz": -360
    },
    "id": "radio-center"
   },
   "outputs": [],
   "source": [
    "data_ = CustomDSpritesDataset(dataset,seed=seed)"
   ]
  },
  {
   "cell_type": "code",
   "execution_count": 64,
   "id": "bright-municipality",
   "metadata": {
    "executionInfo": {
     "elapsed": 24953,
     "status": "ok",
     "timestamp": 1618230704962,
     "user": {
      "displayName": "Shabbir Khan",
      "photoUrl": "https://lh3.googleusercontent.com/a-/AOh14GgO-lNEopjJp4E-aauUfOKAsSirvy2CEmg23rtMm2M=s64",
      "userId": "05522859297080563751"
     },
     "user_tz": -360
    },
    "id": "bright-municipality"
   },
   "outputs": [],
   "source": [
    "# transform = None\n",
    "# transform_needs_latents = False\n",
    "\n",
    "folder = 'uniform_noise_dataset_bernoulli_fc_models'\n",
    "transform = AddUniformNoise(-.1, .1)\n",
    "transform_needs_latents = False\n",
    "\n",
    "#folder = 'generated_noise_bernoulli_fc_models'\n",
    "#transform = AddGeneratedNoise(\"../../datasets/noisenet.pth\", device)\n",
    "#transform_needs_latents = True"
   ]
  },
  {
   "cell_type": "code",
   "execution_count": 65,
   "id": "appointed-kidney",
   "metadata": {
    "executionInfo": {
     "elapsed": 24948,
     "status": "ok",
     "timestamp": 1618230704963,
     "user": {
      "displayName": "Shabbir Khan",
      "photoUrl": "https://lh3.googleusercontent.com/a-/AOh14GgO-lNEopjJp4E-aauUfOKAsSirvy2CEmg23rtMm2M=s64",
      "userId": "05522859297080563751"
     },
     "user_tz": -360
    },
    "id": "appointed-kidney"
   },
   "outputs": [],
   "source": [
    "data_train, data_test = train_test_random_split(data_.idx, 0.8, seed=seed)"
   ]
  },
  {
   "cell_type": "code",
   "execution_count": 66,
   "id": "proof-curtis",
   "metadata": {
    "executionInfo": {
     "elapsed": 24944,
     "status": "ok",
     "timestamp": 1618230704964,
     "user": {
      "displayName": "Shabbir Khan",
      "photoUrl": "https://lh3.googleusercontent.com/a-/AOh14GgO-lNEopjJp4E-aauUfOKAsSirvy2CEmg23rtMm2M=s64",
      "userId": "05522859297080563751"
     },
     "user_tz": -360
    },
    "id": "proof-curtis"
   },
   "outputs": [],
   "source": [
    "batch_size = 64\n",
    "test_loader = DataLoader(data_test, batch_size=batch_size, shuffle=False)"
   ]
  },
  {
   "cell_type": "code",
   "execution_count": 67,
   "id": "common-excess",
   "metadata": {
    "colab": {
     "base_uri": "https://localhost:8080/"
    },
    "executionInfo": {
     "elapsed": 24936,
     "status": "ok",
     "timestamp": 1618230704965,
     "user": {
      "displayName": "Shabbir Khan",
      "photoUrl": "https://lh3.googleusercontent.com/a-/AOh14GgO-lNEopjJp4E-aauUfOKAsSirvy2CEmg23rtMm2M=s64",
      "userId": "05522859297080563751"
     },
     "user_tz": -360
    },
    "id": "common-excess",
    "outputId": "175c7ae6-9f8d-4aa5-a376-d1f6e9479f93"
   },
   "outputs": [
    {
     "data": {
      "text/plain": [
       "['controlvae_epoch50_lr1e2_Cmax20_Cstep4.5_bern_noisy.dat',\n",
       " 'betavae_beta1_e50_noise.dat',\n",
       " 'betavae_beta4_e50_noise.dat',\n",
       " 'uni_noise_factorvae_epochs50_gamma5_lrvae0.01_lrd0.0001.dat']"
      ]
     },
     "execution_count": 67,
     "metadata": {},
     "output_type": "execute_result"
    }
   ],
   "source": [
    "model_names = [f for f in os.listdir('../trained_models/'+folder) if f[-4:] =='.dat' ]\n",
    "model_names"
   ]
  },
  {
   "cell_type": "code",
   "execution_count": 68,
   "id": "resident-beauty",
   "metadata": {
    "executionInfo": {
     "elapsed": 2575,
     "status": "ok",
     "timestamp": 1618230707573,
     "user": {
      "displayName": "Shabbir Khan",
      "photoUrl": "https://lh3.googleusercontent.com/a-/AOh14GgO-lNEopjJp4E-aauUfOKAsSirvy2CEmg23rtMm2M=s64",
      "userId": "05522859297080563751"
     },
     "user_tz": -360
    },
    "id": "resident-beauty"
   },
   "outputs": [],
   "source": [
    "recon_losses = []\n",
    "betavae_metric_accuracies=[]\n",
    "factorvae_metric_accuracies=[]\n",
    "mig_scores = []\n",
    "\n"
   ]
  },
  {
   "cell_type": "code",
   "execution_count": 69,
   "id": "english-learning",
   "metadata": {},
   "outputs": [],
   "source": [
    "recon_losses = []\n",
    "betavae_metric_accuracies=[]\n",
    "factorvae_metric_accuracies=[]\n",
    "mig_scores = []\n",
    "try:\n",
    "    recon_losses = list(np.load(folder+\"_test_recon_losses.npy\"))\n",
    "except FileNotFoundError:\n",
    "    pass\n",
    "\n",
    "try:\n",
    "    betavae_metric_accuracies = list(np.load(folder+\"_betavaemetric_scores.npy\"))\n",
    "except FileNotFoundError:\n",
    "    pass\n",
    "\n",
    "try:\n",
    "    factorvae_metric_accuracies = list(np.load(folder+\"_factorvaemetric_scores.npy\"))\n",
    "except FileNotFoundError:\n",
    "    pass\n",
    "\n",
    "try:\n",
    "    mig_scores = list(np.load(folder+\"_mig_scores.npy\"))\n",
    "except FileNotFoundError:\n",
    "    pass"
   ]
  },
  {
   "cell_type": "code",
   "execution_count": 71,
   "id": "v8u2CmbsELR-",
   "metadata": {
    "colab": {
     "base_uri": "https://localhost:8080/"
    },
    "executionInfo": {
     "elapsed": 830,
     "status": "ok",
     "timestamp": 1618230769369,
     "user": {
      "displayName": "Shabbir Khan",
      "photoUrl": "https://lh3.googleusercontent.com/a-/AOh14GgO-lNEopjJp4E-aauUfOKAsSirvy2CEmg23rtMm2M=s64",
      "userId": "05522859297080563751"
     },
     "user_tz": -360
    },
    "id": "v8u2CmbsELR-",
    "outputId": "7992cf0d-7870-4fbb-f9f2-d06dc2f6c96b"
   },
   "outputs": [
    {
     "data": {
      "text/plain": [
       "['controlvae_epoch50_lr1e2_Cmax20_Cstep4.5_bern_noisy.dat',\n",
       " 'betavae_beta1_e50_noise.dat',\n",
       " 'betavae_beta4_e50_noise.dat',\n",
       " 'uni_noise_factorvae_epochs50_gamma5_lrvae0.01_lrd0.0001.dat']"
      ]
     },
     "execution_count": 71,
     "metadata": {},
     "output_type": "execute_result"
    }
   ],
   "source": [
    "model_names[:len(mig_scores)]"
   ]
  },
  {
   "cell_type": "code",
   "execution_count": 42,
   "id": "hazardous-minnesota",
   "metadata": {
    "colab": {
     "base_uri": "https://localhost:8080/",
     "height": 991,
     "referenced_widgets": [
      "c93b26c9bdc64c4389509b7979a797e5",
      "4bcc894d33784c4ca3170da2f4e4f2f0",
      "bde0f8631fea4eb996a862d6146580e3",
      "d9db1e6c7a7c44d6ba090379d074ec67",
      "1c75539e5c154459a9d46e11d9a9c104",
      "db22b79b0d404023956b3dd6b7f945cf",
      "3648fea8a19846bfaf068c00e9ca2150",
      "e337c2dbc23a4dd2a618d1d479f58ae8"
     ]
    },
    "executionInfo": {
     "elapsed": 150947,
     "status": "ok",
     "timestamp": 1618235006640,
     "user": {
      "displayName": "Shabbir Khan",
      "photoUrl": "https://lh3.googleusercontent.com/a-/AOh14GgO-lNEopjJp4E-aauUfOKAsSirvy2CEmg23rtMm2M=s64",
      "userId": "05522859297080563751"
     },
     "user_tz": -360
    },
    "id": "hazardous-minnesota",
    "outputId": "3d56a397-d4b9-4930-efe8-1bd0d6b673e4"
   },
   "outputs": [
    {
     "name": "stdout",
     "output_type": "stream",
     "text": [
      "uni_noise_factorvae_epochs50_gamma5_lrvae0.01_lrd0.0001.dat\n",
      "model 1: uni_noise_factorvae_epochs50_gamma5_lrvae0.01_lrd0.0001.dat\n"
     ]
    },
    {
     "data": {
      "application/vnd.jupyter.widget-view+json": {
       "model_id": "",
       "version_major": 2,
       "version_minor": 0
      },
      "text/plain": [
       "  0%|          | 0/2304 [00:00<?, ?it/s]"
      ]
     },
     "metadata": {},
     "output_type": "display_data"
    },
    {
     "name": "stderr",
     "output_type": "stream",
     "text": [
      "/Users/ireneburger/opt/anaconda3/envs/atml/lib/python3.8/site-packages/torch/nn/_reduction.py:42: UserWarning: size_average and reduce args will be deprecated, please use reduction='sum' instead.\n",
      "  warnings.warn(warning.format(ret))\n"
     ]
    },
    {
     "name": "stdout",
     "output_type": "stream",
     "text": [
      "Reconstruction loss: 525.8225092622969\n",
      "accuracies : [0.5880000000000001, 0.606, 0.5920000000000001, 0.5660000000000001, 0.544]\n",
      "[[[ 0.   0.6 10.   6.4 24.4  0. ]\n",
      "  [ 0.   1.4  1.4  2.   9.6  1.8]\n",
      "  [ 0.  40.6  3.2 54.6  0.   0. ]\n",
      "  [ 0.   8.   5.4  1.8  0.6 46.6]\n",
      "  [ 0.   0.2  5.6  5.4  0.4  0. ]\n",
      "  [ 0.   0.   4.2  2.8  0.   0. ]\n",
      "  [ 0.   2.4 10.6  5.6  0.  16.4]\n",
      "  [ 0.  12.4 45.6  4.2 17.  14.4]\n",
      "  [ 0.   7.   6.4  2.  46.4 23.8]\n",
      "  [ 0.  33.2  1.4 14.2  0.   0. ]]]\n",
      "0.5791999999999999\n",
      "Factor Vae metric: \n",
      "Accuracy: 0.5792\n",
      "Beta Vae metric: \n",
      "Accuracy: 0.5930000000000001\n"
     ]
    },
    {
     "data": {
      "image/png": "[encoded data removed]",
      "text/plain": [
       "<Figure size 432x288 with 1 Axes>"
      ]
     },
     "metadata": {
      "needs_background": "light"
     },
     "output_type": "display_data"
    },
    {
     "data": {
      "image/png": "[encoded data removed]",
      "text/plain": [
       "<Figure size 432x288 with 1 Axes>"
      ]
     },
     "metadata": {
      "needs_background": "light"
     },
     "output_type": "display_data"
    },
    {
     "name": "stdout",
     "output_type": "stream",
     "text": [
      "Mig metric\n",
      "Scores: [0.04068772379905769, 0.042541736626748886, 0.040246909603841315, 0.04001212780323518, 0.03975324926194805]\n",
      "Score: 0.04064834941896622\n"
     ]
    }
   ],
   "source": [
    "i=1\n",
    "\n",
    "#for name in model_names[len(mig_scores):]:\n",
    "for name in model_names:\n",
    "    print(name)\n",
    "    model = torch.load('../trained_models/'+folder+'/'+name, map_location=device)\n",
    "    print(\"model \"+str(i)+\": \"+name)\n",
    "    if \"betavae\" in name:\n",
    "        recon_loss = test_beta_vae(model, test_loader,0, 'bernoulli', data_, transform, transform_needs_latents, device=device)\n",
    "    elif \"controlvae\" in name:\n",
    "        recon_loss = test_control_vae(model, test_loader, 'bernoulli', data_, transform, transform_needs_latents, device=device)\n",
    "    elif \"factorvae\" in name:\n",
    "        discriminator = Discriminator().to(device)\n",
    "        recon_loss = test_factor_vae(model,discriminator, test_loader,0, 'bernoulli',data_, transform, transform_needs_latents, device=device)\n",
    "    else:\n",
    "        print(\"Error in the dataset name\")\n",
    "        break\n",
    "    recon_losses.append(recon_loss)\n",
    "    print(\"Reconstruction loss: \"+str(recon_loss))\n",
    "    accuracies = entanglement_metric_factor_vae(model, data_, 500, 200, random_seeds=5, device = device,seed=seed)\n",
    "    factorvae_metric_accuracies.append(accuracies)\n",
    "    print(\"Factor Vae metric: \")\n",
    "    print(\"Accuracy: \"+str(np.mean(accuracies)))\n",
    "    print(\"Beta Vae metric: \")\n",
    "    torch.manual_seed(seed)\n",
    "    classifier = Classifier()\n",
    "    classifier.to(device)\n",
    "    optimizer = torch.optim.Adagrad(classifier.parameters(), lr=1e-2)\n",
    "    train_losses, train_accuracies, test_accuracies = entanglement_metric_beta_vae(model, classifier, optimizer, 10000,  data_, 1000, 50, random_seeds=5, device = device,seed=seed)\n",
    "    betavae_metric_accuracies.append(test_accuracies)\n",
    "    print(\"Accuracy: \"+str(np.mean(test_accuracies)))\n",
    "    plot_loss(train_losses, \"NLL Loss\")\n",
    "    plot_loss(train_accuracies, \"Accuracy\")\n",
    "    print(\"Mig metric\")\n",
    "    scores = compute_mig(model, data_, num_samples=100000, random_seeds=5, device=device, seed=seed)\n",
    "    mig_scores.append(scores)\n",
    "    print(\"Scores: \"+str(scores))\n",
    "    print(\"Score: \"+str(np.mean(scores)))\n",
    "    i+=1\n",
    "\n",
    "    np.save(folder+\"_model_names.npy\", np.array(model_names))\n",
    "    np.save(folder+\"_test_recon_losses.npy\", np.array(recon_losses))\n",
    "    np.save(folder+\"_betavaemetric_scores.npy\", np.array(betavae_metric_accuracies))\n",
    "    np.save(folder+\"_factorvaemetric_scores.npy\", np.array(factorvae_metric_accuracies))\n",
    "    np.save(folder+\"_mig_scores.npy\", np.array(mig_scores))"
   ]
  }
 ],
 "metadata": {
  "colab": {
   "collapsed_sections": [],
   "name": "compute_metric_scores.ipynb",
   "provenance": []
  },
  "kernelspec": {
   "display_name": "Python 3",
   "language": "python",
   "name": "python3"
  },
  "language_info": {
   "codemirror_mode": {
    "name": "ipython",
    "version": 3
   },
   "file_extension": ".py",
   "mimetype": "text/x-python",
   "name": "python",
   "nbconvert_exporter": "python",
   "pygments_lexer": "ipython3",
   "version": "3.8.8"
  },
  "widgets": {
   "application/vnd.jupyter.widget-state+json": {
    "1c75539e5c154459a9d46e11d9a9c104": {
     "model_module": "@jupyter-widgets/controls",
     "model_name": "ProgressStyleModel",
     "state": {
      "_model_module": "@jupyter-widgets/controls",
      "_model_module_version": "1.5.0",
      "_model_name": "ProgressStyleModel",
      "_view_count": null,
      "_view_module": "@jupyter-widgets/base",
      "_view_module_version": "1.2.0",
      "_view_name": "StyleView",
      "bar_color": null,
      "description_width": "initial"
     }
    },
    "3648fea8a19846bfaf068c00e9ca2150": {
     "model_module": "@jupyter-widgets/controls",
     "model_name": "DescriptionStyleModel",
     "state": {
      "_model_module": "@jupyter-widgets/controls",
      "_model_module_version": "1.5.0",
      "_model_name": "DescriptionStyleModel",
      "_view_count": null,
      "_view_module": "@jupyter-widgets/base",
      "_view_module_version": "1.2.0",
      "_view_name": "StyleView",
      "description_width": ""
     }
    },
    "4bcc894d33784c4ca3170da2f4e4f2f0": {
     "model_module": "@jupyter-widgets/base",
     "model_name": "LayoutModel",
     "state": {
      "_model_module": "@jupyter-widgets/base",
      "_model_module_version": "1.2.0",
      "_model_name": "LayoutModel",
      "_view_count": null,
      "_view_module": "@jupyter-widgets/base",
      "_view_module_version": "1.2.0",
      "_view_name": "LayoutView",
      "align_content": null,
      "align_items": null,
      "align_self": null,
      "border": null,
      "bottom": null,
      "display": null,
      "flex": null,
      "flex_flow": null,
      "grid_area": null,
      "grid_auto_columns": null,
      "grid_auto_flow": null,
      "grid_auto_rows": null,
      "grid_column": null,
      "grid_gap": null,
      "grid_row": null,
      "grid_template_areas": null,
      "grid_template_columns": null,
      "grid_template_rows": null,
      "height": null,
      "justify_content": null,
      "justify_items": null,
      "left": null,
      "margin": null,
      "max_height": null,
      "max_width": null,
      "min_height": null,
      "min_width": null,
      "object_fit": null,
      "object_position": null,
      "order": null,
      "overflow": null,
      "overflow_x": null,
      "overflow_y": null,
      "padding": null,
      "right": null,
      "top": null,
      "visibility": null,
      "width": null
     }
    },
    "bde0f8631fea4eb996a862d6146580e3": {
     "model_module": "@jupyter-widgets/controls",
     "model_name": "FloatProgressModel",
     "state": {
      "_dom_classes": [],
      "_model_module": "@jupyter-widgets/controls",
      "_model_module_version": "1.5.0",
      "_model_name": "FloatProgressModel",
      "_view_count": null,
      "_view_module": "@jupyter-widgets/controls",
      "_view_module_version": "1.5.0",
      "_view_name": "ProgressView",
      "bar_style": "",
      "description": "100%",
      "description_tooltip": null,
      "layout": "IPY_MODEL_db22b79b0d404023956b3dd6b7f945cf",
      "max": 2304,
      "min": 0,
      "orientation": "horizontal",
      "style": "IPY_MODEL_1c75539e5c154459a9d46e11d9a9c104",
      "value": 2304
     }
    },
    "c93b26c9bdc64c4389509b7979a797e5": {
     "model_module": "@jupyter-widgets/controls",
     "model_name": "HBoxModel",
     "state": {
      "_dom_classes": [],
      "_model_module": "@jupyter-widgets/controls",
      "_model_module_version": "1.5.0",
      "_model_name": "HBoxModel",
      "_view_count": null,
      "_view_module": "@jupyter-widgets/controls",
      "_view_module_version": "1.5.0",
      "_view_name": "HBoxView",
      "box_style": "",
      "children": [
       "IPY_MODEL_bde0f8631fea4eb996a862d6146580e3",
       "IPY_MODEL_d9db1e6c7a7c44d6ba090379d074ec67"
      ],
      "layout": "IPY_MODEL_4bcc894d33784c4ca3170da2f4e4f2f0"
     }
    },
    "d9db1e6c7a7c44d6ba090379d074ec67": {
     "model_module": "@jupyter-widgets/controls",
     "model_name": "HTMLModel",
     "state": {
      "_dom_classes": [],
      "_model_module": "@jupyter-widgets/controls",
      "_model_module_version": "1.5.0",
      "_model_name": "HTMLModel",
      "_view_count": null,
      "_view_module": "@jupyter-widgets/controls",
      "_view_module_version": "1.5.0",
      "_view_name": "HTMLView",
      "description": "",
      "description_tooltip": null,
      "layout": "IPY_MODEL_e337c2dbc23a4dd2a618d1d479f58ae8",
      "placeholder": "​",
      "style": "IPY_MODEL_3648fea8a19846bfaf068c00e9ca2150",
      "value": " 2304/2304 [00:06&lt;00:00, 374.26it/s]"
     }
    },
    "db22b79b0d404023956b3dd6b7f945cf": {
     "model_module": "@jupyter-widgets/base",
     "model_name": "LayoutModel",
     "state": {
      "_model_module": "@jupyter-widgets/base",
      "_model_module_version": "1.2.0",
      "_model_name": "LayoutModel",
      "_view_count": null,
      "_view_module": "@jupyter-widgets/base",
      "_view_module_version": "1.2.0",
      "_view_name": "LayoutView",
      "align_content": null,
      "align_items": null,
      "align_self": null,
      "border": null,
      "bottom": null,
      "display": null,
      "flex": null,
      "flex_flow": null,
      "grid_area": null,
      "grid_auto_columns": null,
      "grid_auto_flow": null,
      "grid_auto_rows": null,
      "grid_column": null,
      "grid_gap": null,
      "grid_row": null,
      "grid_template_areas": null,
      "grid_template_columns": null,
      "grid_template_rows": null,
      "height": null,
      "justify_content": null,
      "justify_items": null,
      "left": null,
      "margin": null,
      "max_height": null,
      "max_width": null,
      "min_height": null,
      "min_width": null,
      "object_fit": null,
      "object_position": null,
      "order": null,
      "overflow": null,
      "overflow_x": null,
      "overflow_y": null,
      "padding": null,
      "right": null,
      "top": null,
      "visibility": null,
      "width": null
     }
    },
    "e337c2dbc23a4dd2a618d1d479f58ae8": {
     "model_module": "@jupyter-widgets/base",
     "model_name": "LayoutModel",
     "state": {
      "_model_module": "@jupyter-widgets/base",
      "_model_module_version": "1.2.0",
      "_model_name": "LayoutModel",
      "_view_count": null,
      "_view_module": "@jupyter-widgets/base",
      "_view_module_version": "1.2.0",
      "_view_name": "LayoutView",
      "align_content": null,
      "align_items": null,
      "align_self": null,
      "border": null,
      "bottom": null,
      "display": null,
      "flex": null,
      "flex_flow": null,
      "grid_area": null,
      "grid_auto_columns": null,
      "grid_auto_flow": null,
      "grid_auto_rows": null,
      "grid_column": null,
      "grid_gap": null,
      "grid_row": null,
      "grid_template_areas": null,
      "grid_template_columns": null,
      "grid_template_rows": null,
      "height": null,
      "justify_content": null,
      "justify_items": null,
      "left": null,
      "margin": null,
      "max_height": null,
      "max_width": null,
      "min_height": null,
      "min_width": null,
      "object_fit": null,
      "object_position": null,
      "order": null,
      "overflow": null,
      "overflow_x": null,
      "overflow_y": null,
      "padding": null,
      "right": null,
      "top": null,
      "visibility": null,
      "width": null
     }
    }
   }
  }
 },
 "nbformat": 4,
 "nbformat_minor": 5
}
