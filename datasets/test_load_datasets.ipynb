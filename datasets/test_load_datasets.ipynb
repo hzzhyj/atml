{
 "cells": [
  {
   "cell_type": "code",
   "execution_count": 20,
   "id": "removable-illinois",
   "metadata": {},
   "outputs": [],
   "source": [
    "import torch\n",
    "from torch.utils.data import DataLoader, random_split\n",
    "import numpy as np\n",
    "import matplotlib.pyplot as plt"
   ]
  },
  {
   "cell_type": "code",
   "execution_count": null,
   "id": "young-radical",
   "metadata": {},
   "outputs": [],
   "source": []
  },
  {
   "cell_type": "code",
   "execution_count": 4,
   "id": "accredited-humanitarian",
   "metadata": {},
   "outputs": [],
   "source": [
    "dsprites = np.load(\"./dsprites.npz\", encoding=\"bytes\")"
   ]
  },
  {
   "cell_type": "code",
   "execution_count": 16,
   "id": "medical-organic",
   "metadata": {},
   "outputs": [],
   "source": [
    "data = dsprites[\"imgs\"]"
   ]
  },
  {
   "cell_type": "code",
   "execution_count": null,
   "id": "neutral-peoples",
   "metadata": {},
   "outputs": [],
   "source": []
  },
  {
   "cell_type": "code",
   "execution_count": 15,
   "id": "reliable-profession",
   "metadata": {},
   "outputs": [
    {
     "data": {
      "text/plain": [
       "(737280, 64, 64)"
      ]
     },
     "execution_count": 15,
     "metadata": {},
     "output_type": "execute_result"
    }
   ],
   "source": [
    "data.shape"
   ]
  },
  {
   "cell_type": "code",
   "execution_count": 17,
   "id": "plain-rates",
   "metadata": {},
   "outputs": [],
   "source": [
    "split_pct = 0.8\n",
    "split_idx = int(split_pct * len(data))"
   ]
  },
  {
   "cell_type": "code",
   "execution_count": 18,
   "id": "pursuant-independence",
   "metadata": {},
   "outputs": [],
   "source": [
    "train_dataset, test_dataset = random_split(imgs, [split_idx, len(data) - split_idx])"
   ]
  },
  {
   "cell_type": "code",
   "execution_count": 19,
   "id": "proved-update",
   "metadata": {},
   "outputs": [],
   "source": [
    "train_loader = DataLoader(train_dataset, batch_size=64, shuffle=True)"
   ]
  },
  {
   "cell_type": "code",
   "execution_count": 23,
   "id": "nuclear-walter",
   "metadata": {},
   "outputs": [
    {
     "data": {
      "image/png": "[encoded data removed]",
      "text/plain": [
       "<Figure size 432x288 with 1 Axes>"
      ]
     },
     "metadata": {
      "needs_background": "light"
     },
     "output_type": "display_data"
    }
   ],
   "source": [
    "plt.imshow(train_dataset[0], cmap = 'gray')\n",
    "plt.show()"
   ]
  },
  {
   "cell_type": "code",
   "execution_count": null,
   "id": "adapted-holocaust",
   "metadata": {},
   "outputs": [],
   "source": []
  }
 ],
 "metadata": {
  "kernelspec": {
   "display_name": "Python 3",
   "language": "python",
   "name": "python3"
  },
  "language_info": {
   "codemirror_mode": {
    "name": "ipython",
    "version": 3
   },
   "file_extension": ".py",
   "mimetype": "text/x-python",
   "name": "python",
   "nbconvert_exporter": "python",
   "pygments_lexer": "ipython3",
   "version": "3.8.5"
  }
 },
 "nbformat": 4,
 "nbformat_minor": 5
}
